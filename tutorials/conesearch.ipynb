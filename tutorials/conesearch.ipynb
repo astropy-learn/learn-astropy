{
 "cells": [
  {
   "cell_type": "markdown",
   "metadata": {
    "description": "VO Simple Cone Search basic tutorial."
   },
   "source": [
    "# Searching major star catalogs and Simbad by position or name with `vo_conesearch`\n",
    "\n",
    "## Authors\n",
    "P. L. Lim\n",
    "\n",
    "## Learning Goals\n",
    "* Perform a cone search around M31 using a web service.\n",
    "* Write the result out to a LaTeX table.\n",
    "* Perform a SIMBAD query using the cone search result.\n",
    "* Extract metadata from the cone search catalog.\n",
    "* Sort cone search results by angular distance.\n",
    "* Search multiple cone search services at once (synchronously and asynchronously).\n",
    "* Estimate the run time of a cone search.\n",
    "\n",
    "## Keywords\n",
    "astroquery, table, coordinates, units, vo_conesearch, LaTex, SIMBAD, matplotlib\n",
    "\n",
    "## Summary\n",
    "This tutorial desmonstrates the [Cone Search](http://astroquery.readthedocs.io/en/latest/vo_conesearch/vo_conesearch.html) subpackage, which allows you to query a catalog of astronomical sources and obtain those that lie within a cone of a given radius around the given position. "
   ]
  },
  {
   "cell_type": "code",
   "execution_count": 1,
   "metadata": {
    "execution": {
     "iopub.execute_input": "2025-02-06T20:54:56.622649Z",
     "iopub.status.busy": "2025-02-06T20:54:56.622471Z",
     "iopub.status.idle": "2025-02-06T20:54:56.626179Z",
     "shell.execute_reply": "2025-02-06T20:54:56.625664Z"
    }
   },
   "outputs": [
    {
     "name": "stdout",
     "output_type": "stream",
     "text": [
      "Required packages for this notebook:\n",
      "astropy\n",
      "astroquery>=0.4.8.dev9474  # 2024-09-24 pinned for Gaia column capitalization issue\n",
      "matplotlib\n",
      "numpy\n",
      "\n"
     ]
    }
   ],
   "source": [
    "with open('requirements.txt') as f:\n",
    "    print(f\"Required packages for this notebook:\\n{f.read()}\")"
   ]
  },
  {
   "cell_type": "markdown",
   "metadata": {},
   "source": [
    "### Imports"
   ]
  },
  {
   "cell_type": "code",
   "execution_count": 2,
   "metadata": {
    "execution": {
     "iopub.execute_input": "2025-02-06T20:54:56.660781Z",
     "iopub.status.busy": "2025-02-06T20:54:56.660608Z",
     "iopub.status.idle": "2025-02-06T20:54:57.867399Z",
     "shell.execute_reply": "2025-02-06T20:54:57.866837Z"
    }
   },
   "outputs": [],
   "source": [
    "# Python standard library\n",
    "import time\n",
    "import warnings\n",
    "\n",
    "# Third-party software\n",
    "import numpy as np\n",
    "\n",
    "# Astropy\n",
    "from astropy import coordinates as coord\n",
    "from astropy import units as u\n",
    "from astropy.table import Table\n",
    "\n",
    "# Astroquery. This tutorial requires 0.3.5 or greater.\n",
    "import astroquery\n",
    "from astroquery.simbad import Simbad\n",
    "from astroquery.vo_conesearch import conf, conesearch, vos_catalog\n",
    "\n",
    "# Set up matplotlib\n",
    "import matplotlib.pyplot as plt\n",
    "%matplotlib inline"
   ]
  },
  {
   "cell_type": "markdown",
   "metadata": {},
   "source": [
    "If you are running an older version of `astroquery`, you might need to set `vos_baseurl` yourself, as follows."
   ]
  },
  {
   "cell_type": "code",
   "execution_count": 3,
   "metadata": {
    "execution": {
     "iopub.execute_input": "2025-02-06T20:54:57.869597Z",
     "iopub.status.busy": "2025-02-06T20:54:57.869173Z",
     "iopub.status.idle": "2025-02-06T20:54:57.872270Z",
     "shell.execute_reply": "2025-02-06T20:54:57.871724Z"
    }
   },
   "outputs": [],
   "source": [
    "from astropy.utils import minversion\n",
    "\n",
    "if not minversion(astroquery, '0.3.10'):\n",
    "    conf.vos_baseurl = 'https://astroconda.org/aux/vo_databases/'"
   ]
  },
  {
   "cell_type": "markdown",
   "metadata": {},
   "source": [
    "To start, it might be useful to list the available Cone Search catalogs first. By default, catalogs that pass nightly validation are included. Validation is hosted by Space Telescope Science Institute (STScI)."
   ]
  },
  {
   "cell_type": "code",
   "execution_count": 4,
   "metadata": {
    "execution": {
     "iopub.execute_input": "2025-02-06T20:54:57.874051Z",
     "iopub.status.busy": "2025-02-06T20:54:57.873642Z",
     "iopub.status.idle": "2025-02-06T20:54:58.130486Z",
     "shell.execute_reply": "2025-02-06T20:54:58.129954Z"
    }
   },
   "outputs": [
    {
     "data": {
      "text/plain": [
       "['2MASS All-Sky Catalog of Point Sources 1',\n",
       " 'Gaia DR2 5',\n",
       " 'Guide Star Catalog 2.3 Cone Search 1',\n",
       " 'SDSS DR7 - Sloan Digital Sky Survey Data Release 7 1',\n",
       " 'SDSS DR7 - Sloan Digital Sky Survey Data Release 7 2',\n",
       " 'SDSS DR7 - Sloan Digital Sky Survey Data Release 7 3',\n",
       " 'SDSS DR7 - Sloan Digital Sky Survey Data Release 7 4',\n",
       " 'The HST Guide Star Catalog, Version 1.1 1',\n",
       " 'The HST Guide Star Catalog, Version 1.2 1',\n",
       " 'The HST Guide Star Catalog, Version GSC-ACT 1',\n",
       " 'The PMM USNO-A1.0 Catalogue 1',\n",
       " 'The USNO-A2.0 Catalogue 1',\n",
       " 'The USNO-B1.0 Catalog 2',\n",
       " 'Two Micron All Sky Survey (2MASS) 1',\n",
       " 'Two Micron All Sky Survey (2MASS) 2']"
      ]
     },
     "execution_count": 4,
     "metadata": {},
     "output_type": "execute_result"
    }
   ],
   "source": [
    "conesearch.list_catalogs()"
   ]
  },
  {
   "cell_type": "markdown",
   "metadata": {},
   "source": [
    "Next, let's pick an astronomical object of interest. For example, M31."
   ]
  },
  {
   "cell_type": "code",
   "execution_count": 5,
   "metadata": {
    "execution": {
     "iopub.execute_input": "2025-02-06T20:54:58.132465Z",
     "iopub.status.busy": "2025-02-06T20:54:58.132137Z",
     "iopub.status.idle": "2025-02-06T20:54:58.576621Z",
     "shell.execute_reply": "2025-02-06T20:54:58.576055Z"
    }
   },
   "outputs": [
    {
     "name": "stdout",
     "output_type": "stream",
     "text": [
      "<SkyCoord (ICRS): (ra, dec) in deg\n",
      "    (10.68470833, 41.26875)>\n"
     ]
    }
   ],
   "source": [
    "c = coord.SkyCoord.from_name('M31', frame='icrs')\n",
    "print(c)"
   ]
  },
  {
   "cell_type": "markdown",
   "metadata": {},
   "source": [
    "By default, a basic Cone Search goes through the list of catalogs and *stops* at the first one that returns non-empty VO table. Let's search for objects within 0.1 degree around M31. You will see a lot of warnings that were generated by VO table parser but ignored by Cone Search service validator. VO compliance enforced by Cone Search providers is beyond the control of `astroquery.vo_conesearch` package.\n",
    "\n",
    "The result is an [Astropy table](http://astropy.readthedocs.io/en/stable/table/index.html)."
   ]
  },
  {
   "cell_type": "code",
   "execution_count": 6,
   "metadata": {
    "execution": {
     "iopub.execute_input": "2025-02-06T20:54:58.578646Z",
     "iopub.status.busy": "2025-02-06T20:54:58.578237Z",
     "iopub.status.idle": "2025-02-06T20:55:00.972912Z",
     "shell.execute_reply": "2025-02-06T20:55:00.972326Z"
    }
   },
   "outputs": [
    {
     "name": "stdout",
     "output_type": "stream",
     "text": [
      "Trying http://vizier.unistra.fr/viz-bin/conesearch/II/246/out?\n"
     ]
    },
    {
     "name": "stderr",
     "output_type": "stream",
     "text": [
      "WARNING: W06: http://vizier.unistra.fr/viz-bin/conesearch/II/246/out?RA=10.68470833&DEC=41.26875&SR=0.1&VERB=1:46:4: W06: Invalid UCD 'POS_EQ_RA_MAIN': Unknown word 'POS_EQ_RA_MAIN' [astropy.io.votable.tree]\n",
      "WARNING: W06: http://vizier.unistra.fr/viz-bin/conesearch/II/246/out?RA=10.68470833&DEC=41.26875&SR=0.1&VERB=1:49:4: W06: Invalid UCD 'POS_EQ_DEC_MAIN': Unknown word 'POS_EQ_DEC_MAIN' [astropy.io.votable.tree]\n",
      "WARNING: W03: http://vizier.unistra.fr/viz-bin/conesearch/II/246/out?RA=10.68470833&DEC=41.26875&SR=0.1&VERB=1:61:4: W03: Implicitly generating an ID from a name '2MASS' -> '_2MASS' [astropy.io.votable.xmlutil]\n",
      "WARNING: W06: http://vizier.unistra.fr/viz-bin/conesearch/II/246/out?RA=10.68470833&DEC=41.26875&SR=0.1&VERB=1:61:4: W06: Invalid UCD 'ID_MAIN': Unknown word 'ID_MAIN' [astropy.io.votable.tree]\n",
      "WARNING: W06: http://vizier.unistra.fr/viz-bin/conesearch/II/246/out?RA=10.68470833&DEC=41.26875&SR=0.1&VERB=1:152:4: W06: Invalid UCD 'obs.field': Secondary word 'obs.field' is not valid as a primary word [astropy.io.votable.tree]\n",
      "WARNING: W06: http://vizier.unistra.fr/viz-bin/conesearch/II/246/out?RA=10.68470833&DEC=41.26875&SR=0.1&VERB=1:161:4: W06: Invalid UCD 'pos.cartesian;instr.det': Secondary word 'pos.cartesian' is not valid as a primary word [astropy.io.votable.tree]\n",
      "WARNING: W06: http://vizier.unistra.fr/viz-bin/conesearch/II/246/out?RA=10.68470833&DEC=41.26875&SR=0.1&VERB=1:209:4: W06: Invalid UCD 'pos.cartesian;instr.det': Secondary word 'pos.cartesian' is not valid as a primary word [astropy.io.votable.tree]\n"
     ]
    }
   ],
   "source": [
    "result = conesearch.conesearch(c, 0.1 * u.degree)"
   ]
  },
  {
   "cell_type": "code",
   "execution_count": 7,
   "metadata": {
    "execution": {
     "iopub.execute_input": "2025-02-06T20:55:00.975218Z",
     "iopub.status.busy": "2025-02-06T20:55:00.974866Z",
     "iopub.status.idle": "2025-02-06T20:55:00.978138Z",
     "shell.execute_reply": "2025-02-06T20:55:00.977572Z"
    }
   },
   "outputs": [
    {
     "name": "stdout",
     "output_type": "stream",
     "text": [
      "First non-empty table returned by http://vizier.unistra.fr/viz-bin/conesearch/II/246/out?\n",
      "Number of rows is 2008\n"
     ]
    }
   ],
   "source": [
    "print('First non-empty table returned by', result.url)\n",
    "print('Number of rows is', len(result))"
   ]
  },
  {
   "cell_type": "code",
   "execution_count": 8,
   "metadata": {
    "execution": {
     "iopub.execute_input": "2025-02-06T20:55:00.979757Z",
     "iopub.status.busy": "2025-02-06T20:55:00.979485Z",
     "iopub.status.idle": "2025-02-06T20:55:01.002543Z",
     "shell.execute_reply": "2025-02-06T20:55:01.002080Z"
    }
   },
   "outputs": [
    {
     "name": "stdout",
     "output_type": "stream",
     "text": [
      "   _r     RAJ2000    DEJ2000   errMaj errMin ... scanKey coaddKey coadd Opt\n",
      "            deg        deg     arcsec arcsec ...                           \n",
      "-------- ---------- ---------- ------ ------ ... ------- -------- ----- ---\n",
      "0.088860  10.699043  41.180546   0.08   0.07 ...   69157  1590592    44 Opt\n",
      "0.099056  10.692956  41.169888   0.08   0.07 ...   69157  1590592    44 Opt\n",
      "0.096789  10.696697  41.172382   0.20   0.20 ...   69157  1590592    44 Opt\n",
      "0.091839  10.699687  41.177605   0.24   0.21 ...   69157  1590592    44 Opt\n",
      "0.086295  10.699178  41.183144   0.36   0.34 ...   69157  1590592    44 Opt\n",
      "0.095003  10.711372  41.175888   0.24   0.24 ...   69157  1590592    44 Opt\n",
      "0.091538  10.712260  41.179588   0.21   0.18 ...   69157  1590592    44 Opt\n",
      "0.094139  10.714217  41.177265   0.08   0.07 ...   69157  1590592    44 Opt\n",
      "0.090449  10.728262  41.184441   0.20   0.19 ...   69157  1590592    44 Opt\n",
      "     ...        ...        ...    ...    ... ...     ...      ...   ... ...\n",
      "0.097966  10.639772  41.360718   0.07   0.06 ...   25123   577809    33 Opt\n",
      "0.080430  10.653701  41.345734   0.24   0.23 ...   69157  1590591    33 Opt\n",
      "0.078671  10.650944  41.343220   0.13   0.11 ...   25123   577809    33 Opt\n",
      "0.092843  10.671972  41.361099   0.25   0.22 ...   69157  1590591    33 Opt\n",
      "0.074682  10.654711  41.339951   0.26   0.23 ...   69157  1590591    33 Opt\n",
      "0.090105  10.661388  41.357136   0.08   0.07 ...   69157  1590591    33 Opt\n",
      "0.096558  10.622704  41.353333   0.24   0.22 ...   25123   577809    33 Opt\n",
      "0.097260  10.624244  41.354755   0.09   0.08 ...   25123   577809    33 Opt\n",
      "0.090156  10.615215  41.342255   0.15   0.14 ...   25123   577809    33 Opt\n",
      "0.098305  10.681841  41.367031   0.08   0.08 ...   69157  1590591    33 Opt\n",
      "Length = 2008 rows\n"
     ]
    }
   ],
   "source": [
    "print(result)"
   ]
  },
  {
   "cell_type": "markdown",
   "metadata": {},
   "source": [
    "This table can be manipulated like any other Astropy table; e.g., re-write the table into LaTeX format."
   ]
  },
  {
   "cell_type": "code",
   "execution_count": 9,
   "metadata": {
    "execution": {
     "iopub.execute_input": "2025-02-06T20:55:01.004128Z",
     "iopub.status.busy": "2025-02-06T20:55:01.003957Z",
     "iopub.status.idle": "2025-02-06T20:55:02.622243Z",
     "shell.execute_reply": "2025-02-06T20:55:02.621589Z"
    }
   },
   "outputs": [],
   "source": [
    "result.write('my_result.tex', format='ascii.latex', overwrite=True)"
   ]
  },
  {
   "cell_type": "markdown",
   "metadata": {},
   "source": [
    "You can now use your favorite text editor to open the `my_result.tex` file, but here, we are going to read it back into another Astropy table.\n",
    "\n",
    "Note that the extra `data_start=4` option is necessary due to the non-roundtripping nature of LaTeX reader/writer (see [astropy issue 5205](https://github.com/astropy/astropy/issues/5205))."
   ]
  },
  {
   "cell_type": "code",
   "execution_count": 10,
   "metadata": {
    "execution": {
     "iopub.execute_input": "2025-02-06T20:55:02.624192Z",
     "iopub.status.busy": "2025-02-06T20:55:02.624002Z",
     "iopub.status.idle": "2025-02-06T20:55:02.709455Z",
     "shell.execute_reply": "2025-02-06T20:55:02.708955Z"
    }
   },
   "outputs": [
    {
     "name": "stdout",
     "output_type": "stream",
     "text": [
      "   _r     RAJ2000   DEJ2000  errMaj errMin ... extKey scanKey coaddKey coadd Opt\n",
      "-------- --------- --------- ------ ------ ... ------ ------- -------- ----- ---\n",
      " 0.08886 10.699043 41.180546   0.08   0.07 ...     --   69157  1590592    44 Opt\n",
      "0.099056 10.692956 41.169888   0.08   0.07 ...     --   69157  1590592    44 Opt\n",
      "0.096789 10.696697 41.172382    0.2    0.2 ...     --   69157  1590592    44 Opt\n",
      "0.091839 10.699687 41.177605   0.24   0.21 ...     --   69157  1590592    44 Opt\n",
      "0.086295 10.699178 41.183144   0.36   0.34 ...     --   69157  1590592    44 Opt\n",
      "0.095003 10.711372 41.175888   0.24   0.24 ...     --   69157  1590592    44 Opt\n",
      "0.091538  10.71226 41.179588   0.21   0.18 ...     --   69157  1590592    44 Opt\n",
      "0.094139 10.714217 41.177265   0.08   0.07 ...     --   69157  1590592    44 Opt\n",
      "0.090449 10.728262 41.184441    0.2   0.19 ...     --   69157  1590592    44 Opt\n",
      "0.095957 10.735452  41.18071   0.24   0.23 ...     --   69157  1590592    44 Opt\n",
      "     ...       ...       ...    ...    ... ...    ...     ...      ...   ... ...\n",
      "0.097966 10.639772 41.360718   0.07   0.06 ...     --   25123   577809    33 Opt\n",
      " 0.08043 10.653701 41.345734   0.24   0.23 ...     --   69157  1590591    33 Opt\n",
      "0.078671 10.650944  41.34322   0.13   0.11 ...     --   25123   577809    33 Opt\n",
      "0.092843 10.671972 41.361099   0.25   0.22 ...     --   69157  1590591    33 Opt\n",
      "0.074682 10.654711 41.339951   0.26   0.23 ...     --   69157  1590591    33 Opt\n",
      "0.090105 10.661388 41.357136   0.08   0.07 ...     --   69157  1590591    33 Opt\n",
      "0.096558 10.622704 41.353333   0.24   0.22 ...     --   25123   577809    33 Opt\n",
      " 0.09726 10.624244 41.354755   0.09   0.08 ...     --   25123   577809    33 Opt\n",
      "0.090156 10.615215 41.342255   0.15   0.14 ...     --   25123   577809    33 Opt\n",
      "0.098305 10.681841 41.367031   0.08   0.08 ...     --   69157  1590591    33 Opt\n",
      "Length = 2008 rows\n"
     ]
    }
   ],
   "source": [
    "result_tex = Table.read('my_result.tex', format='ascii.latex', data_start=4)\n",
    "print(result_tex)"
   ]
  },
  {
   "cell_type": "markdown",
   "metadata": {},
   "source": [
    "Cone Search results can also be used in conjuction with other types of queries.\n",
    "For example, you can query SIMBAD for the first entry in your result above."
   ]
  },
  {
   "cell_type": "code",
   "execution_count": 11,
   "metadata": {
    "execution": {
     "iopub.execute_input": "2025-02-06T20:55:02.711173Z",
     "iopub.status.busy": "2025-02-06T20:55:02.710999Z",
     "iopub.status.idle": "2025-02-06T20:55:02.713794Z",
     "shell.execute_reply": "2025-02-06T20:55:02.713350Z"
    }
   },
   "outputs": [],
   "source": [
    "# Due to the unpredictability of external services,\n",
    "# The first successful query result (above) might differ\n",
    "# from run to run.\n",
    "#\n",
    "# CHANGE THESE VALUES to the appropriate RA and DEC\n",
    "# column names you see above, if necessary.\n",
    "# These are for http://gsss.stsci.edu/webservices/vo/ConeSearch.aspx?CAT=GSC23&\n",
    "ra_colname = 'ra'\n",
    "dec_colname = 'dec'"
   ]
  },
  {
   "cell_type": "code",
   "execution_count": 12,
   "metadata": {
    "execution": {
     "iopub.execute_input": "2025-02-06T20:55:02.715305Z",
     "iopub.status.busy": "2025-02-06T20:55:02.715137Z",
     "iopub.status.idle": "2025-02-06T20:55:02.718619Z",
     "shell.execute_reply": "2025-02-06T20:55:02.718207Z"
    }
   },
   "outputs": [
    {
     "name": "stdout",
     "output_type": "stream",
     "text": [
      "ra or dec not in search results. Choose from: _r RAJ2000 DEJ2000 errMaj errMin errPA _2MASS Jmag Jcmsig e_Jmag Jsnr Hmag Hcmsig e_Hmag Hsnr Kmag Kcmsig e_Kmag Ksnr Qflg Rflg Bflg Cflg Ndet prox pxPA pxCntr Xflg Aflg Cntr Hemis Date Scan GLON GLAT Xscan _tab1_36 Jpsfchi Hpsfchi Kpsfchi Jstdap e_Jstdap Hstdap e_Hstdap Kstdap e_Kstdap edgeNS edgeEW edge dup use opt Dopt PAopt Bmag Rmag Nopt extKey scanKey coaddKey coadd Opt\n"
     ]
    }
   ],
   "source": [
    "# Don't run this cell if column names above are invalid.\n",
    "if ra_colname in result.colnames and dec_colname in result.colnames:\n",
    "    row = result[0]\n",
    "    simbad_obj = coord.SkyCoord(ra=row[ra_colname]*u.deg, dec=row[dec_colname]*u.deg)\n",
    "    print('Searching SIMBAD for\\n{}\\n'.format(simbad_obj))\n",
    "    simbad_result = Simbad.query_region(simbad_obj, radius=5*u.arcsec)\n",
    "    print(simbad_result)\n",
    "else:\n",
    "    print('{} or {} not in search results. Choose from: {}'.format(\n",
    "        ra_colname, dec_colname, ' '.join(result.colnames)))"
   ]
  },
  {
   "cell_type": "markdown",
   "metadata": {},
   "source": [
    "Now back to Cone Search... You can extract metadata of this Cone Search catalog."
   ]
  },
  {
   "cell_type": "code",
   "execution_count": 13,
   "metadata": {
    "execution": {
     "iopub.execute_input": "2025-02-06T20:55:02.720209Z",
     "iopub.status.busy": "2025-02-06T20:55:02.720041Z",
     "iopub.status.idle": "2025-02-06T20:55:02.724407Z",
     "shell.execute_reply": "2025-02-06T20:55:02.723836Z"
    }
   },
   "outputs": [
    {
     "name": "stdout",
     "output_type": "stream",
     "text": [
      "{\n",
      "    \"authenticated_only\": 0,\n",
      "    \"cap_description\": \"Cone search capability for table II/246/out (2MASS Point Source Catalogue, output (on a total of 470,992,970 sources))\",\n",
      "    \"cap_index\": 4,\n",
      "    \"cap_type\": \"conesearch\",\n",
      "    \"content_level\": \"research\",\n",
      "    \"content_type\": \"catalog\",\n",
      "    \"created\": \"1/10/2008 11:19:42 PM\",\n",
      "    \"creator_seq\": \"\",\n",
      "    \"duplicatesIgnored\": 4,\n",
      "    \"intf_index\": 1,\n",
      "    \"intf_role\": \"std\",\n",
      "    \"intf_type\": \"vs:paramhttp\",\n",
      "    \"ivoid\": \"ivo://cds.vizier/ii/246\",\n",
      "    \"mirror_url\": \"https://vizier.iucaa.in/viz-bin/conesearch/II/246/out?#http://vizieridia.saao.ac.za/viz-bin/conesearch/II/246/out?\",\n",
      "    \"query_type\": \"\",\n",
      "    \"reference_url\": \"http://cdsarc.unistra.fr/cgi-bin/cat/II/246\",\n",
      "    \"region_of_regard\": NaN,\n",
      "    \"res_description\": \"The Two Micron All Sky Survey (2MASS) project is designed to close the gap between our current technical capability and our knowledge of the near-infrared sky. In addition to providing a context for the interpretation of results obtained at infrared and other wavelengths, 2MASS will provide direct answers to immediate questions on the large-scale structure of the Milky Way and the Local Universe. To achieve these goals, 2MASS is uniformly scanning the entire sky in three near-infrared bands to detect and characterize point sources brighter than about 1 mJy in each band, with signal-to-noise ratio (SNR) greater than 10, using a pixel size of 2.0\\\". This will achieve an 80,000-fold improvement in sensitivity relative to earlier surveys. 2MASS uses two new, highly-automated 1.3-m telescopes, one at Mt. Hopkins, AZ, and one at CTIO, Chile. Each telescope is equipped with a three-channel camera, each channel consisting of a 256x256 array of HgCdTe detectors, capable of observing the sky simultaneously at J (1.25 {mu}m), H (1.65 {mu}m), and Ks (2.17 {mu}m), to a 3{sigma} limiting sensitivity of 17.1, 16.4 and 15.3mag in the three bands. The 2MASS arrays image the sky while the telescopes scan smoothly in declination at a rate of ~1' per second. The 2MASS data \\\"tiles\\\" are 6 deg. long in the declination direction and one camera frame (8.5') wide. The camera field-of-view shifts by ~1/6 of a frame in declination from frame-to-frame. The camera images each point on the sky six times for a total integration time of 7.8 s, with sub-pixel \\\"dithering\\\", which improves the ultimate spatial resolution of the final Atlas Images. The University of Massachusetts (UMass) is responsible for the overall management of the project, and for developing the infrared cameras and on-site computing systems at both facilities. The Infrared Processing and Analysis Center (IPAC) is responsible for all data processing through the Production Pipeline, and construction and distribution of the data products. The 2MASS project involves the participation of members of the Science Team from several different institutions. The 2MASS project is funding by the National Aeronautics and Space Administration (NASA) and the National Science Foundation (NSF).\",\n",
      "    \"res_subject\": \"Infrared astronomy\",\n",
      "    \"res_type\": \"vs:catalogservice\",\n",
      "    \"res_version\": \"\",\n",
      "    \"result_type\": \"\",\n",
      "    \"rights\": \"public\",\n",
      "    \"rights_uri\": \"\",\n",
      "    \"short_name\": \"II/246\",\n",
      "    \"source_format\": \"bibcode\",\n",
      "    \"source_value\": \"2003yCat.2246....0C\",\n",
      "    \"standard_id\": \"ivo://ivoa.net/std/conesearch\",\n",
      "    \"std_version\": \"\",\n",
      "    \"title\": \"2MASS All-Sky Catalog of Point Sources\",\n",
      "    \"updated\": \"10/21/2021 12:00:00 AM\",\n",
      "    \"url\": \"http://vizier.unistra.fr/viz-bin/conesearch/II/246/out?\",\n",
      "    \"url_use\": \"base\",\n",
      "    \"validate_expected\": \"good\",\n",
      "    \"validate_network_error\": null,\n",
      "    \"validate_nexceptions\": 0,\n",
      "    \"validate_nwarnings\": 14,\n",
      "    \"validate_out_db_name\": \"good\",\n",
      "    \"validate_version\": \"1.4\",\n",
      "    \"validate_warning_types\": [\n",
      "        \"W03\",\n",
      "        \"W06\"\n",
      "    ],\n",
      "    \"validate_warnings\": [\n",
      "        \"/var/www/astroconda.org/html/aux/vo_databases/daily_20250206/results/78/a8/966dc94b2099b663d5f839c4d89c/vo.xml:46:4: W06: Invalid UCD 'POS_EQ_RA_MAIN': Unknown word 'POS_EQ_RA_MAIN'\",\n",
      "        \"/var/www/astroconda.org/html/aux/vo_databases/daily_20250206/results/78/a8/966dc94b2099b663d5f839c4d89c/vo.xml:49:4: W06: Invalid UCD 'POS_EQ_DEC_MAIN': Unknown word 'POS_EQ_DEC_MAIN'\",\n",
      "        \"/var/www/astroconda.org/html/aux/vo_databases/daily_20250206/results/78/a8/966dc94b2099b663d5f839c4d89c/vo.xml:61:4: W03: Implicitly generating an ID from a name '2MASS' -> '_2MASS'\",\n",
      "        \"/var/www/astroconda.org/html/aux/vo_databases/daily_20250206/results/78/a8/966dc94b2099b663d5f839c4d89c/vo.xml:61:4: W06: Invalid UCD 'ID_MAIN': Unknown word 'ID_MAIN'\",\n",
      "        \"/var/www/astroconda.org/html/aux/vo_databases/daily_20250206/results/78/a8/966dc94b2099b663d5f839c4d89c/vo.xml:152:4: W06: Invalid UCD 'obs.field': Secondary word 'obs.field' is not valid as a primary word\",\n",
      "        \"/var/www/astroconda.org/html/aux/vo_databases/daily_20250206/results/78/a8/966dc94b2099b663d5f839c4d89c/vo.xml:161:4: W06: Invalid UCD 'pos.cartesian;instr.det': Secondary word 'pos.cartesian' is not valid as a primary word\",\n",
      "        \"/var/www/astroconda.org/html/aux/vo_databases/daily_20250206/results/78/a8/966dc94b2099b663d5f839c4d89c/vo.xml:209:4: W06: Invalid UCD 'pos.cartesian;instr.det': Secondary word 'pos.cartesian' is not valid as a primary word\",\n",
      "        \"/var/www/astroconda.org/html/aux/vo_databases/daily_20250206/results/78/a8/966dc94b2099b663d5f839c4d89c/vo.xml:46:4: W06: Invalid UCD 'POS_EQ_RA_MAIN': Unknown word 'POS_EQ_RA_MAIN'\",\n",
      "        \"/var/www/astroconda.org/html/aux/vo_databases/daily_20250206/results/78/a8/966dc94b2099b663d5f839c4d89c/vo.xml:49:4: W06: Invalid UCD 'POS_EQ_DEC_MAIN': Unknown word 'POS_EQ_DEC_MAIN'\",\n",
      "        \"/var/www/astroconda.org/html/aux/vo_databases/daily_20250206/results/78/a8/966dc94b2099b663d5f839c4d89c/vo.xml:61:4: W03: Implicitly generating an ID from a name '2MASS' -> '_2MASS'\",\n",
      "        \"/var/www/astroconda.org/html/aux/vo_databases/daily_20250206/results/78/a8/966dc94b2099b663d5f839c4d89c/vo.xml:61:4: W06: Invalid UCD 'ID_MAIN': Unknown word 'ID_MAIN'\",\n",
      "        \"/var/www/astroconda.org/html/aux/vo_databases/daily_20250206/results/78/a8/966dc94b2099b663d5f839c4d89c/vo.xml:152:4: W06: Invalid UCD 'obs.field': Secondary word 'obs.field' is not valid as a primary word\",\n",
      "        \"/var/www/astroconda.org/html/aux/vo_databases/daily_20250206/results/78/a8/966dc94b2099b663d5f839c4d89c/vo.xml:161:4: W06: Invalid UCD 'pos.cartesian;instr.det': Secondary word 'pos.cartesian' is not valid as a primary word\",\n",
      "        \"/var/www/astroconda.org/html/aux/vo_databases/daily_20250206/results/78/a8/966dc94b2099b663d5f839c4d89c/vo.xml:209:4: W06: Invalid UCD 'pos.cartesian;instr.det': Secondary word 'pos.cartesian' is not valid as a primary word\"\n",
      "    ],\n",
      "    \"validate_xmllint\": false,\n",
      "    \"validate_xmllint_content\": \"/var/www/astroconda.org/html/aux/vo_databases/daily_20250206/results/78/a8/966dc94b2099b663d5f839c4d89c/vo.xml:4: element VOTABLE: Schemas validity error : Element '{http://www.ivoa.net/xml/VOTable/v1.3}VOTABLE': No matching global declaration available for the validation root.\\n/var/www/astroconda.org/html/aux/vo_databases/daily_20250206/results/78/a8/966dc94b2099b663d5f839c4d89c/vo.xml fails to validate\\n\",\n",
      "    \"waveband\": \"infrared\",\n",
      "    \"wsdl_url\": \"\"\n",
      "}\n"
     ]
    }
   ],
   "source": [
    "my_db = vos_catalog.get_remote_catalog_db(conf.conesearch_dbname)\n",
    "try:\n",
    "    my_cat = my_db.get_catalog_by_url(result.url)\n",
    "except AttributeError:\n",
    "    my_cat = my_db.get_catalog_by_url(result.url + '&')\n",
    "print(my_cat.dumps())"
   ]
  },
  {
   "cell_type": "markdown",
   "metadata": {},
   "source": [
    "If you have a favorite catalog in mind, you can also perform Cone Search only on that catalog. A list of available catalogs can be obtained by calling `conesearch.list_catalogs()`, as mentioned above."
   ]
  },
  {
   "cell_type": "code",
   "execution_count": 14,
   "metadata": {
    "execution": {
     "iopub.execute_input": "2025-02-06T20:55:02.726178Z",
     "iopub.status.busy": "2025-02-06T20:55:02.725842Z",
     "iopub.status.idle": "2025-02-06T20:55:02.748330Z",
     "shell.execute_reply": "2025-02-06T20:55:02.747754Z"
    }
   },
   "outputs": [],
   "source": [
    "try:\n",
    "    result = conesearch.conesearch(\n",
    "        c, 0.1 * u.degree, catalog_db='The USNO-A2.0 Catalogue (Monet+ 1998) 1')\n",
    "except Exception as e:  \n",
    "    # We provide a cached version of the result table in case the query fails \n",
    "    # due to an intermittent server-side issue, or if you do not have an \n",
    "    # internet connection\n",
    "    result = Table.read('usno-A2-result.fits')"
   ]
  },
  {
   "cell_type": "code",
   "execution_count": 15,
   "metadata": {
    "execution": {
     "iopub.execute_input": "2025-02-06T20:55:02.750180Z",
     "iopub.status.busy": "2025-02-06T20:55:02.749775Z",
     "iopub.status.idle": "2025-02-06T20:55:02.752508Z",
     "shell.execute_reply": "2025-02-06T20:55:02.752090Z"
    }
   },
   "outputs": [
    {
     "name": "stdout",
     "output_type": "stream",
     "text": [
      "Number of rows is 3\n"
     ]
    }
   ],
   "source": [
    "print('Number of rows is', len(result))"
   ]
  },
  {
   "cell_type": "markdown",
   "metadata": {},
   "source": [
    "Let's explore the 3 rows of astronomical objects found within 0.1 degree of M31 in the given catalog and sort them by increasing distance. For this example, the VO table has several columns that might include:\n",
    "\n",
    "* `_r` = Angular distance (in degrees) between object and M31\n",
    "* `USNO-A2.0` = Catalog ID of the object\n",
    "* `RAJ2000` = Right ascension of the object (epoch=J2000)\n",
    "* `DEJ2000` = Declination of the object (epoch=J2000)\n",
    "\n",
    "Note that column names, meanings, order, etc. might vary from catalog to catalog."
   ]
  },
  {
   "cell_type": "code",
   "execution_count": 16,
   "metadata": {
    "execution": {
     "iopub.execute_input": "2025-02-06T20:55:02.754210Z",
     "iopub.status.busy": "2025-02-06T20:55:02.753920Z",
     "iopub.status.idle": "2025-02-06T20:55:02.756545Z",
     "shell.execute_reply": "2025-02-06T20:55:02.756134Z"
    }
   },
   "outputs": [
    {
     "name": "stdout",
     "output_type": "stream",
     "text": [
      "['_r', 'USNO-A2.0', 'RAJ2000', 'DEJ2000', 'ACTflag', 'Mflag', 'Bmag', 'Rmag', 'Epoch']\n"
     ]
    }
   ],
   "source": [
    "col_names = result.colnames\n",
    "print(col_names)"
   ]
  },
  {
   "cell_type": "code",
   "execution_count": 17,
   "metadata": {
    "execution": {
     "iopub.execute_input": "2025-02-06T20:55:02.758221Z",
     "iopub.status.busy": "2025-02-06T20:55:02.757885Z",
     "iopub.status.idle": "2025-02-06T20:55:02.761497Z",
     "shell.execute_reply": "2025-02-06T20:55:02.761084Z"
    }
   },
   "outputs": [
    {
     "name": "stdout",
     "output_type": "stream",
     "text": [
      "   _r      USNO-A2.0    RAJ2000    DEJ2000   ACTflag Mflag Bmag Rmag  Epoch  \n",
      "  deg                     deg        deg                   mag  mag     yr   \n",
      "-------- ------------- ---------- ---------- ------- ----- ---- ---- --------\n",
      "0.094265 1275-00425574  10.595878  41.335328      --    -- 19.8 17.4 1953.773\n",
      "0.098040 1275-00427192  10.639945  41.360845      --    -- 19.4 18.4 1953.773\n",
      "0.063280 1275-00429939  10.712834  41.209109       A    -- 99.9 11.2       --\n"
     ]
    }
   ],
   "source": [
    "# Before sort\n",
    "print(result)"
   ]
  },
  {
   "cell_type": "code",
   "execution_count": 18,
   "metadata": {
    "execution": {
     "iopub.execute_input": "2025-02-06T20:55:02.763172Z",
     "iopub.status.busy": "2025-02-06T20:55:02.762819Z",
     "iopub.status.idle": "2025-02-06T20:55:02.768763Z",
     "shell.execute_reply": "2025-02-06T20:55:02.768219Z"
    }
   },
   "outputs": [
    {
     "name": "stdout",
     "output_type": "stream",
     "text": [
      "   _r      USNO-A2.0    RAJ2000    DEJ2000   ACTflag Mflag Bmag Rmag  Epoch  \n",
      "  deg                     deg        deg                   mag  mag     yr   \n",
      "-------- ------------- ---------- ---------- ------- ----- ---- ---- --------\n",
      "0.063280 1275-00429939  10.712834  41.209109       A    -- 99.9 11.2       --\n",
      "0.094265 1275-00425574  10.595878  41.335328      --    -- 19.8 17.4 1953.773\n",
      "0.098040 1275-00427192  10.639945  41.360845      --    -- 19.4 18.4 1953.773\n"
     ]
    }
   ],
   "source": [
    "# After sort\n",
    "result.sort('_r')\n",
    "print(result)"
   ]
  },
  {
   "cell_type": "markdown",
   "metadata": {},
   "source": [
    "You can also convert the distance to arcseconds."
   ]
  },
  {
   "cell_type": "code",
   "execution_count": 19,
   "metadata": {
    "execution": {
     "iopub.execute_input": "2025-02-06T20:55:02.770593Z",
     "iopub.status.busy": "2025-02-06T20:55:02.770190Z",
     "iopub.status.idle": "2025-02-06T20:55:02.774412Z",
     "shell.execute_reply": "2025-02-06T20:55:02.773855Z"
    }
   },
   "outputs": [
    {
     "data": {
      "text/latex": [
       "$[227.808,~339.354,~352.944]\\mathrm{{}^{\\prime\\prime}}$"
      ],
      "text/plain": [
       "<Quantity [227.808, 339.354, 352.944] arcsec>"
      ]
     },
     "execution_count": 19,
     "metadata": {},
     "output_type": "execute_result"
    }
   ],
   "source": [
    "result['_r'].to(u.arcsec)"
   ]
  },
  {
   "cell_type": "markdown",
   "metadata": {},
   "source": [
    "What if you want *all* the results from *all* the catalogs? And you also want to suppress all the VO table warnings and informational messages?\n",
    "\n",
    "__Warning: This can be time and resource intensive.__"
   ]
  },
  {
   "cell_type": "code",
   "execution_count": 20,
   "metadata": {
    "execution": {
     "iopub.execute_input": "2025-02-06T20:55:02.776213Z",
     "iopub.status.busy": "2025-02-06T20:55:02.775879Z",
     "iopub.status.idle": "2025-02-06T20:55:11.022416Z",
     "shell.execute_reply": "2025-02-06T20:55:11.021857Z"
    }
   },
   "outputs": [],
   "source": [
    "with warnings.catch_warnings():\n",
    "    warnings.simplefilter('ignore')\n",
    "    all_results = conesearch.search_all(c, 0.1 * u.degree, verbose=False)"
   ]
  },
  {
   "cell_type": "code",
   "execution_count": 21,
   "metadata": {
    "execution": {
     "iopub.execute_input": "2025-02-06T20:55:11.024235Z",
     "iopub.status.busy": "2025-02-06T20:55:11.024043Z",
     "iopub.status.idle": "2025-02-06T20:55:11.027548Z",
     "shell.execute_reply": "2025-02-06T20:55:11.027001Z"
    }
   },
   "outputs": [
    {
     "name": "stdout",
     "output_type": "stream",
     "text": [
      "http://vizier.unistra.fr/viz-bin/conesearch/II/246/out? returned 2008 rows\n",
      "http://vizier.unistra.fr/viz-bin/conesearch/I/345/gaia2? returned 1752 rows\n",
      "http://gsss.stsci.edu/webservices/vo/ConeSearch.aspx?CAT=GSC23 returned 4028 rows\n",
      "http://vizier.unistra.fr/viz-bin/conesearch/I/220/out? returned 5 rows\n",
      "http://vizier.unistra.fr/viz-bin/conesearch/I/254/out? returned 5 rows\n",
      "http://vizier.unistra.fr/viz-bin/conesearch/I/255/out? returned 5 rows\n",
      "http://vizier.unistra.fr/viz-bin/conesearch/I/243/out? returned 3 rows\n",
      "http://vizier.unistra.fr/viz-bin/conesearch/I/252/out? returned 3 rows\n",
      "http://vizier.unistra.fr/viz-bin/conesearch/I/284/out? returned 5 rows\n",
      "http://wfaudata.roe.ac.uk/twomass-dsa/DirectCone?DSACAT=TWOMASS&DSATAB=twomass_psc returned 2008 rows\n",
      "http://wfaudata.roe.ac.uk/twomass-dsa/DirectCone?DSACAT=TWOMASS&DSATAB=twomass_xsc returned 25 rows\n"
     ]
    }
   ],
   "source": [
    "for url, tab in all_results.items():\n",
    "    print(url, 'returned', len(tab), 'rows')"
   ]
  },
  {
   "cell_type": "code",
   "execution_count": 22,
   "metadata": {
    "execution": {
     "iopub.execute_input": "2025-02-06T20:55:11.029246Z",
     "iopub.status.busy": "2025-02-06T20:55:11.029075Z",
     "iopub.status.idle": "2025-02-06T20:55:11.034361Z",
     "shell.execute_reply": "2025-02-06T20:55:11.033858Z"
    }
   },
   "outputs": [
    {
     "name": "stdout",
     "output_type": "stream",
     "text": [
      "   _r       GSC      RAJ2000   DEJ2000  PosErr ... Plate  Epoch   Mult Versions\n",
      "                       deg       deg    arcsec ...          yr                 \n",
      "-------- ---------- --------- --------- ------ ... ----- -------- ---- --------\n",
      "0.063449 0280102008  10.71207  41.20873    0.2 ...  0738 1985.877    F  GSC-all\n",
      "0.043453 0280102015  10.68782  41.22536    0.2 ...  0738 1985.877    F  GSC-all\n",
      "0.096170 0280102081  10.80558  41.23727    0.2 ...  0738 1985.877    F  GSC-all\n",
      "0.066633 0280102017  10.60025  41.24853    0.2 ...  0738 1985.877    F  GSC-all\n",
      "0.082097 0280502180  10.64539  41.34535    0.2 ...  0738 1985.877    F  GSC-all\n"
     ]
    }
   ],
   "source": [
    "# Pick out the first one with \"I/220\" in it.\n",
    "i220keys = [k for k in all_results if 'I/220' in k]\n",
    "my_favorite_result = all_results[i220keys[0]]\n",
    "print(my_favorite_result)"
   ]
  },
  {
   "cell_type": "markdown",
   "metadata": {},
   "source": [
    "### Asynchronous Searches"
   ]
  },
  {
   "cell_type": "markdown",
   "metadata": {},
   "source": [
    "Asynchronous versions (i.e., search will run in the background) of `conesearch()` and `search_all()` are also available. Result can be obtained using the asynchronous instance's `get()` method that returns the result upon completion or after a given `timeout` value in seconds."
   ]
  },
  {
   "cell_type": "code",
   "execution_count": 23,
   "metadata": {
    "execution": {
     "iopub.execute_input": "2025-02-06T20:55:11.035968Z",
     "iopub.status.busy": "2025-02-06T20:55:11.035782Z",
     "iopub.status.idle": "2025-02-06T20:55:14.057902Z",
     "shell.execute_reply": "2025-02-06T20:55:14.057449Z"
    }
   },
   "outputs": [
    {
     "name": "stdout",
     "output_type": "stream",
     "text": [
      "Am I running? True\n"
     ]
    },
    {
     "name": "stdout",
     "output_type": "stream",
     "text": [
      "After 3 seconds. Am I done? True\n",
      "\n"
     ]
    }
   ],
   "source": [
    "try:\n",
    "    async_search = conesearch.AsyncConeSearch(\n",
    "        c, 0.1 * u.degree, catalog_db='The USNO-A2.0 Catalogue (Monet+ 1998) 1')\n",
    "    print('Am I running?', async_search.running())\n",
    "\n",
    "    time.sleep(3)\n",
    "    print('After 3 seconds. Am I done?', async_search.done())\n",
    "    print()\n",
    "\n",
    "    result = async_search.get(timeout=30)\n",
    "    print('Number of rows returned is', len(result))\n",
    "    \n",
    "except Exception as e:  \n",
    "    # We provide a cached version of the result table in case the query fails \n",
    "    # due to an intermittent server-side issue, or if you do not have an \n",
    "    # internet connection\n",
    "    result = Table.read('usno-A2-result.fits')"
   ]
  },
  {
   "cell_type": "code",
   "execution_count": 24,
   "metadata": {
    "execution": {
     "iopub.execute_input": "2025-02-06T20:55:14.059837Z",
     "iopub.status.busy": "2025-02-06T20:55:14.059488Z",
     "iopub.status.idle": "2025-02-06T20:55:16.207346Z",
     "shell.execute_reply": "2025-02-06T20:55:16.206815Z"
    }
   },
   "outputs": [
    {
     "name": "stdout",
     "output_type": "stream",
     "text": [
      "Am I running? True\n",
      "Am I done? False\n",
      "\n"
     ]
    },
    {
     "name": "stderr",
     "output_type": "stream",
     "text": [
      "WARNING: NoResultsWarning: Catalog server 'http://wfaudata.roe.ac.uk/sdssdr7-dsa/DirectCone?DSACAT=SDSS_DR7&DSATAB=Galaxy' returned 0 result [astroquery.vo_conesearch.core]\n",
      "WARNING: NoResultsWarning: Catalog server 'http://wfaudata.roe.ac.uk/sdssdr7-dsa/DirectCone?DSACAT=SDSS_DR7&DSATAB=Star' returned 0 result [astroquery.vo_conesearch.core]\n",
      "WARNING: NoResultsWarning: Catalog server 'http://wfaudata.roe.ac.uk/sdssdr7-dsa/DirectCone?DSACAT=SDSS_DR7&DSATAB=PhotoObj' returned 0 result [astroquery.vo_conesearch.core]\n"
     ]
    },
    {
     "name": "stderr",
     "output_type": "stream",
     "text": [
      "WARNING: NoResultsWarning: Catalog server 'http://wfaudata.roe.ac.uk/sdssdr7-dsa/DirectCone?DSACAT=SDSS_DR7&DSATAB=PhotoObjAll' returned 0 result [astroquery.vo_conesearch.core]\n"
     ]
    },
    {
     "name": "stdout",
     "output_type": "stream",
     "text": [
      "http://vizier.unistra.fr/viz-bin/conesearch/II/246/out? returned 2008 rows\n",
      "http://vizier.unistra.fr/viz-bin/conesearch/I/345/gaia2? returned 1752 rows\n",
      "http://gsss.stsci.edu/webservices/vo/ConeSearch.aspx?CAT=GSC23 returned 4028 rows\n",
      "http://vizier.unistra.fr/viz-bin/conesearch/I/220/out? returned 5 rows\n",
      "http://vizier.unistra.fr/viz-bin/conesearch/I/254/out? returned 5 rows\n",
      "http://vizier.unistra.fr/viz-bin/conesearch/I/255/out? returned 5 rows\n",
      "http://vizier.unistra.fr/viz-bin/conesearch/I/243/out? returned 3 rows\n",
      "http://vizier.unistra.fr/viz-bin/conesearch/I/252/out? returned 3 rows\n",
      "http://vizier.unistra.fr/viz-bin/conesearch/I/284/out? returned 5 rows\n",
      "http://wfaudata.roe.ac.uk/twomass-dsa/DirectCone?DSACAT=TWOMASS&DSATAB=twomass_psc returned 2008 rows\n",
      "http://wfaudata.roe.ac.uk/twomass-dsa/DirectCone?DSACAT=TWOMASS&DSATAB=twomass_xsc returned 25 rows\n"
     ]
    }
   ],
   "source": [
    "async_search_all = conesearch.AsyncSearchAll(c, 0.1 * u.degree)\n",
    "print('Am I running?', async_search_all.running())\n",
    "print('Am I done?', async_search_all.done())\n",
    "print()\n",
    "\n",
    "all_results = async_search_all.get(timeout=60)\n",
    "for url, tab in all_results.items():\n",
    "    print(url, 'returned', len(tab), 'rows')"
   ]
  },
  {
   "cell_type": "markdown",
   "metadata": {},
   "source": [
    "### Estimating the Search Time"
   ]
  },
  {
   "cell_type": "markdown",
   "metadata": {},
   "source": [
    "Let's predict the run time of performing Cone Search on `http://gsss.stsci.edu/webservices/vo/ConeSearch.aspx?CAT=GSC23&` with a radius of 0.1 degrees. For now, the prediction assumes a very simple linear model, which might or might not reflect the actual trend.\n",
    "\n",
    "This might take a while."
   ]
  },
  {
   "cell_type": "code",
   "execution_count": 25,
   "metadata": {
    "execution": {
     "iopub.execute_input": "2025-02-06T20:55:16.209369Z",
     "iopub.status.busy": "2025-02-06T20:55:16.209019Z",
     "iopub.status.idle": "2025-02-06T20:55:18.823884Z",
     "shell.execute_reply": "2025-02-06T20:55:18.823415Z"
    }
   },
   "outputs": [
    {
     "data": {
      "image/png": "[encoded data removed]",
      "text/plain": [
       "<Figure size 640x480 with 1 Axes>"
      ]
     },
     "metadata": {},
     "output_type": "display_data"
    },
    {
     "data": {
      "image/png": "[encoded data removed]",
      "text/plain": [
       "<Figure size 640x480 with 1 Axes>"
      ]
     },
     "metadata": {},
     "output_type": "display_data"
    }
   ],
   "source": [
    "with warnings.catch_warnings():\n",
    "    warnings.simplefilter('ignore')\n",
    "    t_est, n_est = conesearch.predict_search(\n",
    "        'http://gsss.stsci.edu/webservices/vo/ConeSearch.aspx?CAT=GSC23&',\n",
    "        c, 0.1 * u.degree, verbose=False, plot=True)"
   ]
  },
  {
   "cell_type": "code",
   "execution_count": 26,
   "metadata": {
    "execution": {
     "iopub.execute_input": "2025-02-06T20:55:18.825611Z",
     "iopub.status.busy": "2025-02-06T20:55:18.825445Z",
     "iopub.status.idle": "2025-02-06T20:55:18.828742Z",
     "shell.execute_reply": "2025-02-06T20:55:18.828295Z"
    }
   },
   "outputs": [
    {
     "name": "stdout",
     "output_type": "stream",
     "text": [
      "Predicted run time is 0.5635765248152665 seconds\n",
      "Predicted number of rows is 2617\n"
     ]
    }
   ],
   "source": [
    "print('Predicted run time is', t_est, 'seconds')\n",
    "print('Predicted number of rows is', n_est)"
   ]
  },
  {
   "cell_type": "markdown",
   "metadata": {},
   "source": [
    "Let's get the actual run time and number of rows to compare with the prediction above. This might take a while.\n",
    "\n",
    "As you will see, the prediction is not spot on, but it's not too shabby (at least, not when we tried it!). Note that both predicted and actual run time results also depend on network latency and responsiveness of the service provider."
   ]
  },
  {
   "cell_type": "code",
   "execution_count": 27,
   "metadata": {
    "execution": {
     "iopub.execute_input": "2025-02-06T20:55:18.830510Z",
     "iopub.status.busy": "2025-02-06T20:55:18.830186Z",
     "iopub.status.idle": "2025-02-06T20:55:19.386721Z",
     "shell.execute_reply": "2025-02-06T20:55:19.386154Z"
    }
   },
   "outputs": [
    {
     "name": "stdout",
     "output_type": "stream",
     "text": [
      "INFO: conesearch_timer took 0.5531394481658936 s on AVERAGE for 1 call(s). [astroquery.utils.timer]\n"
     ]
    }
   ],
   "source": [
    "t_real, tab = conesearch.conesearch_timer(\n",
    "    c, 0.1 * u.degree,\n",
    "    catalog_db='http://gsss.stsci.edu/webservices/vo/ConeSearch.aspx?CAT=GSC23&',\n",
    "    verbose=False)"
   ]
  },
  {
   "cell_type": "code",
   "execution_count": 28,
   "metadata": {
    "execution": {
     "iopub.execute_input": "2025-02-06T20:55:19.388640Z",
     "iopub.status.busy": "2025-02-06T20:55:19.388308Z",
     "iopub.status.idle": "2025-02-06T20:55:19.391637Z",
     "shell.execute_reply": "2025-02-06T20:55:19.391179Z"
    }
   },
   "outputs": [
    {
     "name": "stdout",
     "output_type": "stream",
     "text": [
      "Actual run time is 0.5531394481658936 seconds\n",
      "Actual number of rows is 4028\n"
     ]
    }
   ],
   "source": [
    "print('Actual run time is', t_real, 'seconds')\n",
    "print('Actual number of rows is', len(tab))"
   ]
  }
 ],
 "metadata": {
  "astropy-tutorials": {
   "author": "P. L. Lim",
   "date": "March 2015",
   "description": "...",
   "link_name": "VO Conesearch",
   "name": "",
   "published": false
  },
  "language_info": {
   "codemirror_mode": {
    "name": "ipython",
    "version": 3
   },
   "file_extension": ".py",
   "mimetype": "text/x-python",
   "name": "python",
   "nbconvert_exporter": "python",
   "pygments_lexer": "ipython3",
   "version": "3.12.8"
  }
 },
 "nbformat": 4,
 "nbformat_minor": 4
}
