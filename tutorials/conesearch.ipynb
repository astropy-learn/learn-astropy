{
 "cells": [
  {
   "cell_type": "markdown",
   "metadata": {
    "description": "VO Simple Cone Search basic tutorial."
   },
   "source": [
    "# Searching major star catalogs and Simbad by position or name with `vo_conesearch`\n",
    "\n",
    "## Authors\n",
    "P. L. Lim\n",
    "\n",
    "## Learning Goals\n",
    "* Perform a cone search around M31 using a web service.\n",
    "* Write the result out to a LaTeX table.\n",
    "* Perform a SIMBAD query using the cone search result.\n",
    "* Extract metadata from the cone search catalog.\n",
    "* Sort cone search results by angular distance.\n",
    "* Search multiple cone search services at once (synchronously and asynchronously).\n",
    "* Estimate the run time of a cone search.\n",
    "\n",
    "## Keywords\n",
    "astroquery, table, coordinates, units, vo_conesearch, LaTex, SIMBAD, matplotlib\n",
    "\n",
    "## Summary\n",
    "This tutorial desmonstrates the [Cone Search](http://astroquery.readthedocs.io/en/latest/vo_conesearch/vo_conesearch.html) subpackage, which allows you to query a catalog of astronomical sources and obtain those that lie within a cone of a given radius around the given position. "
   ]
  },
  {
   "cell_type": "markdown",
   "metadata": {},
   "source": [
    "### Imports"
   ]
  },
  {
   "cell_type": "code",
   "execution_count": 1,
   "metadata": {
    "execution": {
     "iopub.execute_input": "2022-08-12T15:18:17.135731Z",
     "iopub.status.busy": "2022-08-12T15:18:17.135359Z",
     "iopub.status.idle": "2022-08-12T15:18:18.377101Z",
     "shell.execute_reply": "2022-08-12T15:18:18.376433Z"
    }
   },
   "outputs": [],
   "source": [
    "# Python standard library\n",
    "import time\n",
    "import warnings\n",
    "\n",
    "# Third-party software\n",
    "import numpy as np\n",
    "\n",
    "# Astropy\n",
    "from astropy import coordinates as coord\n",
    "from astropy import units as u\n",
    "from astropy.table import Table\n",
    "\n",
    "# Astroquery. This tutorial requires 0.3.5 or greater.\n",
    "import astroquery\n",
    "from astroquery.simbad import Simbad\n",
    "from astroquery.vo_conesearch import conf, conesearch, vos_catalog\n",
    "\n",
    "# Set up matplotlib\n",
    "import matplotlib.pyplot as plt\n",
    "%matplotlib inline"
   ]
  },
  {
   "cell_type": "markdown",
   "metadata": {},
   "source": [
    "If you are running an older version of `astroquery`, you might need to set `vos_baseurl` yourself, as follows."
   ]
  },
  {
   "cell_type": "code",
   "execution_count": 2,
   "metadata": {
    "execution": {
     "iopub.execute_input": "2022-08-12T15:18:18.380737Z",
     "iopub.status.busy": "2022-08-12T15:18:18.380414Z",
     "iopub.status.idle": "2022-08-12T15:18:18.385000Z",
     "shell.execute_reply": "2022-08-12T15:18:18.384416Z"
    }
   },
   "outputs": [],
   "source": [
    "from astropy.utils import minversion\n",
    "\n",
    "if not minversion(astroquery, '0.3.10'):\n",
    "    conf.vos_baseurl = 'https://astroconda.org/aux/vo_databases/'"
   ]
  },
  {
   "cell_type": "markdown",
   "metadata": {},
   "source": [
    "To start, it might be useful to list the available Cone Search catalogs first. By default, catalogs that pass nightly validation are included. Validation is hosted by Space Telescope Science Institute (STScI)."
   ]
  },
  {
   "cell_type": "code",
   "execution_count": 3,
   "metadata": {
    "execution": {
     "iopub.execute_input": "2022-08-12T15:18:18.387880Z",
     "iopub.status.busy": "2022-08-12T15:18:18.387658Z",
     "iopub.status.idle": "2022-08-12T15:18:18.788496Z",
     "shell.execute_reply": "2022-08-12T15:18:18.787851Z"
    }
   },
   "outputs": [
    {
     "data": {
      "text/plain": [
       "['Guide Star Catalog 2.3 Cone Search 1',\n",
       " 'SDSS DR7 - Sloan Digital Sky Survey Data Release 7 1',\n",
       " 'SDSS DR7 - Sloan Digital Sky Survey Data Release 7 2',\n",
       " 'SDSS DR7 - Sloan Digital Sky Survey Data Release 7 3',\n",
       " 'SDSS DR7 - Sloan Digital Sky Survey Data Release 7 4',\n",
       " 'SDSS DR8 - Sloan Digital Sky Survey Data Release 8 1',\n",
       " 'SDSS DR8 - Sloan Digital Sky Survey Data Release 8 2',\n",
       " 'The HST Guide Star Catalog, Version 1.1 1',\n",
       " 'The HST Guide Star Catalog, Version 1.2 1',\n",
       " 'The HST Guide Star Catalog, Version GSC-ACT 1',\n",
       " 'The PMM USNO-A1.0 Catalogue 1',\n",
       " 'The USNO-A2.0 Catalogue 1',\n",
       " 'Two Micron All Sky Survey (2MASS) 1',\n",
       " 'Two Micron All Sky Survey (2MASS) 2']"
      ]
     },
     "execution_count": 3,
     "metadata": {},
     "output_type": "execute_result"
    }
   ],
   "source": [
    "conesearch.list_catalogs()"
   ]
  },
  {
   "cell_type": "markdown",
   "metadata": {},
   "source": [
    "Next, let's pick an astronomical object of interest. For example, M31."
   ]
  },
  {
   "cell_type": "code",
   "execution_count": 4,
   "metadata": {
    "execution": {
     "iopub.execute_input": "2022-08-12T15:18:18.792034Z",
     "iopub.status.busy": "2022-08-12T15:18:18.791652Z",
     "iopub.status.idle": "2022-08-12T15:18:20.247977Z",
     "shell.execute_reply": "2022-08-12T15:18:20.247175Z"
    }
   },
   "outputs": [
    {
     "name": "stdout",
     "output_type": "stream",
     "text": [
      "<SkyCoord (ICRS): (ra, dec) in deg\n",
      "    (10.6847083, 41.26875)>\n"
     ]
    }
   ],
   "source": [
    "c = coord.SkyCoord.from_name('M31', frame='icrs')\n",
    "print(c)"
   ]
  },
  {
   "cell_type": "markdown",
   "metadata": {},
   "source": [
    "By default, a basic Cone Search goes through the list of catalogs and *stops* at the first one that returns non-empty VO table. Let's search for objects within 0.1 degree around M31. You will see a lot of warnings that were generated by VO table parser but ignored by Cone Search service validator. VO compliance enforced by Cone Search providers is beyond the control of `astroquery.vo_conesearch` package.\n",
    "\n",
    "The result is an [Astropy table](http://astropy.readthedocs.io/en/stable/table/index.html)."
   ]
  },
  {
   "cell_type": "code",
   "execution_count": 5,
   "metadata": {
    "execution": {
     "iopub.execute_input": "2022-08-12T15:18:20.251617Z",
     "iopub.status.busy": "2022-08-12T15:18:20.251394Z",
     "iopub.status.idle": "2022-08-12T15:18:22.278647Z",
     "shell.execute_reply": "2022-08-12T15:18:22.277979Z"
    }
   },
   "outputs": [
    {
     "name": "stdout",
     "output_type": "stream",
     "text": [
      "Trying http://gsss.stsci.edu/webservices/vo/ConeSearch.aspx?CAT=GSC23&\n"
     ]
    },
    {
     "name": "stderr",
     "output_type": "stream",
     "text": [
      "WARNING: W50: http://gsss.stsci.edu/webservices/vo/ConeSearch.aspx?CAT=GSC23RA=10.6847083&DEC=41.26875&SR=0.1&VERB=1:154:0: W50: Invalid unit string 'pixel' [astropy.io.votable.tree]\n"
     ]
    }
   ],
   "source": [
    "result = conesearch.conesearch(c, 0.1 * u.degree)"
   ]
  },
  {
   "cell_type": "code",
   "execution_count": 6,
   "metadata": {
    "execution": {
     "iopub.execute_input": "2022-08-12T15:18:22.281994Z",
     "iopub.status.busy": "2022-08-12T15:18:22.281748Z",
     "iopub.status.idle": "2022-08-12T15:18:22.285393Z",
     "shell.execute_reply": "2022-08-12T15:18:22.284750Z"
    }
   },
   "outputs": [
    {
     "name": "stdout",
     "output_type": "stream",
     "text": [
      "First non-empty table returned by http://gsss.stsci.edu/webservices/vo/ConeSearch.aspx?CAT=GSC23\n",
      "Number of rows is 4028\n"
     ]
    }
   ],
   "source": [
    "print('First non-empty table returned by', result.url)\n",
    "print('Number of rows is', len(result))"
   ]
  },
  {
   "cell_type": "code",
   "execution_count": 7,
   "metadata": {
    "execution": {
     "iopub.execute_input": "2022-08-12T15:18:22.288821Z",
     "iopub.status.busy": "2022-08-12T15:18:22.288605Z",
     "iopub.status.idle": "2022-08-12T15:18:22.315621Z",
     "shell.execute_reply": "2022-08-12T15:18:22.314902Z"
    }
   },
   "outputs": [
    {
     "name": "stdout",
     "output_type": "stream",
     "text": [
      "    objID           gsc2ID      gsc1ID ... multipleFlag compassGSC2id   Mag  \n",
      "                                       ...                              mag  \n",
      "-------------- ---------------- ------ ... ------------ ------------- -------\n",
      "23323175812944 00424433+4116085        ...            0 6453800072293   9.453\n",
      "23323175812948 00424403+4116069        ...            0 6453800072297   9.321\n",
      "23323175812933 00424455+4116103        ...            0 6453800072282  10.773\n",
      "23323175812939 00424464+4116092        ...            0 6453800072288   9.299\n",
      "23323175812930 00424403+4116108        ...            0 6453800072279  11.507\n",
      "23323175812931 00424464+4116106        ...            0 6453800072280   9.399\n",
      "23323175812973 00424446+4116016        ...            0 6453800072322   12.07\n",
      "23323175812966 00424398+4116028        ...            0 6453800072315  12.136\n",
      "23323175812979 00424420+4116009        ...            0 6453800072328  10.065\n",
      "23323175812958 00424377+4116045        ...            0 6453800072307  12.446\n",
      "           ...              ...    ... ...          ...           ...     ...\n",
      " 1330012229027    N330012229027        ...            0 6453800029027 20.3122\n",
      " 1330012247547    N330012247547        ...            0 6453800047547 21.5449\n",
      " 1330012244072    N330012244072        ...            0 6453800044072 20.9598\n",
      " 1330012248107    N330012248107        ...            0 6453800048107 21.6947\n",
      "  133001227000     N33001227000        ...            0 6453800007000 20.1382\n",
      " 1330012244001    N330012244001        ...            0 6453800044001 21.8968\n",
      " 1330012228861    N330012228861        ...            0 6453800028861 20.3572\n",
      " 1330012212014    N330012212014        ...            0 6453800012014 16.5079\n",
      " 1330012231849    N330012231849        ...            0 6453800031849 20.2869\n",
      " 1330012210212    N330012210212        ...            0 6453800010212 20.2767\n",
      "Length = 4028 rows\n"
     ]
    }
   ],
   "source": [
    "print(result)"
   ]
  },
  {
   "cell_type": "markdown",
   "metadata": {},
   "source": [
    "This table can be manipulated like any other Astropy table; e.g., re-write the table into LaTeX format."
   ]
  },
  {
   "cell_type": "code",
   "execution_count": 8,
   "metadata": {
    "execution": {
     "iopub.execute_input": "2022-08-12T15:18:22.319664Z",
     "iopub.status.busy": "2022-08-12T15:18:22.319258Z",
     "iopub.status.idle": "2022-08-12T15:18:26.063834Z",
     "shell.execute_reply": "2022-08-12T15:18:26.063176Z"
    }
   },
   "outputs": [],
   "source": [
    "result.write('my_result.tex', format='ascii.latex', overwrite=True)"
   ]
  },
  {
   "cell_type": "markdown",
   "metadata": {},
   "source": [
    "You can now use your favorite text editor to open the `my_result.tex` file, but here, we are going to read it back into another Astropy table.\n",
    "\n",
    "Note that the extra `data_start=4` option is necessary due to the non-roundtripping nature of LaTeX reader/writer (see [astropy issue 5205](https://github.com/astropy/astropy/issues/5205))."
   ]
  },
  {
   "cell_type": "code",
   "execution_count": 9,
   "metadata": {
    "execution": {
     "iopub.execute_input": "2022-08-12T15:18:26.067347Z",
     "iopub.status.busy": "2022-08-12T15:18:26.066862Z",
     "iopub.status.idle": "2022-08-12T15:18:26.292540Z",
     "shell.execute_reply": "2022-08-12T15:18:26.291988Z"
    }
   },
   "outputs": [
    {
     "name": "stdout",
     "output_type": "stream",
     "text": [
      "    objID           gsc2ID      gsc1ID ... multipleFlag compassGSC2id   Mag  \n",
      "-------------- ---------------- ------ ... ------------ ------------- -------\n",
      "23323175812944 00424433+4116085     -- ...            0 6453800072293   9.453\n",
      "23323175812948 00424403+4116069     -- ...            0 6453800072297   9.321\n",
      "23323175812933 00424455+4116103     -- ...            0 6453800072282  10.773\n",
      "23323175812939 00424464+4116092     -- ...            0 6453800072288   9.299\n",
      "23323175812930 00424403+4116108     -- ...            0 6453800072279  11.507\n",
      "23323175812931 00424464+4116106     -- ...            0 6453800072280   9.399\n",
      "23323175812973 00424446+4116016     -- ...            0 6453800072322   12.07\n",
      "23323175812966 00424398+4116028     -- ...            0 6453800072315  12.136\n",
      "23323175812979 00424420+4116009     -- ...            0 6453800072328  10.065\n",
      "23323175812958 00424377+4116045     -- ...            0 6453800072307  12.446\n",
      "           ...              ...    ... ...          ...           ...     ...\n",
      "  133001226993     N33001226993     -- ...            0 6453800006993 20.2829\n",
      " 1330012229027    N330012229027     -- ...            0 6453800029027 20.3122\n",
      " 1330012247547    N330012247547     -- ...            0 6453800047547 21.5449\n",
      " 1330012244072    N330012244072     -- ...            0 6453800044072 20.9598\n",
      " 1330012248107    N330012248107     -- ...            0 6453800048107 21.6947\n",
      "  133001227000     N33001227000     -- ...            0 6453800007000 20.1382\n",
      " 1330012244001    N330012244001     -- ...            0 6453800044001 21.8968\n",
      " 1330012228861    N330012228861     -- ...            0 6453800028861 20.3572\n",
      " 1330012212014    N330012212014     -- ...            0 6453800012014 16.5079\n",
      " 1330012231849    N330012231849     -- ...            0 6453800031849 20.2869\n",
      " 1330012210212    N330012210212     -- ...            0 6453800010212 20.2767\n",
      "Length = 4028 rows\n"
     ]
    }
   ],
   "source": [
    "result_tex = Table.read('my_result.tex', format='ascii.latex', data_start=4)\n",
    "print(result_tex)"
   ]
  },
  {
   "cell_type": "markdown",
   "metadata": {},
   "source": [
    "Cone Search results can also be used in conjuction with other types of queries.\n",
    "For example, you can query SIMBAD for the first entry in your result above."
   ]
  },
  {
   "cell_type": "code",
   "execution_count": 10,
   "metadata": {
    "execution": {
     "iopub.execute_input": "2022-08-12T15:18:26.295786Z",
     "iopub.status.busy": "2022-08-12T15:18:26.295556Z",
     "iopub.status.idle": "2022-08-12T15:18:26.300545Z",
     "shell.execute_reply": "2022-08-12T15:18:26.299957Z"
    }
   },
   "outputs": [],
   "source": [
    "# Due to the unpredictability of external services,\n",
    "# The first successful query result (above) might differ\n",
    "# from run to run.\n",
    "#\n",
    "# CHANGE THESE VALUES to the appropriate RA and DEC\n",
    "# column names you see above, if necessary.\n",
    "# These are for http://gsss.stsci.edu/webservices/vo/ConeSearch.aspx?CAT=GSC23&\n",
    "ra_colname = 'ra'\n",
    "dec_colname = 'dec'"
   ]
  },
  {
   "cell_type": "code",
   "execution_count": 11,
   "metadata": {
    "execution": {
     "iopub.execute_input": "2022-08-12T15:18:26.303737Z",
     "iopub.status.busy": "2022-08-12T15:18:26.303214Z",
     "iopub.status.idle": "2022-08-12T15:18:27.098361Z",
     "shell.execute_reply": "2022-08-12T15:18:27.097647Z"
    }
   },
   "outputs": [
    {
     "name": "stdout",
     "output_type": "stream",
     "text": [
      "Searching SIMBAD for\n",
      "<SkyCoord (ICRS): (ra, dec) in deg\n",
      "    (10.684737, 41.269035)>\n",
      "\n"
     ]
    },
    {
     "name": "stdout",
     "output_type": "stream",
     "text": [
      "            MAIN_ID                  RA      ... SCRIPT_NUMBER_ID\n",
      "                                  \"h:m:s\"    ...                 \n",
      "------------------------------- ------------ ... ----------------\n",
      "               NAME P2B Cluster  00 42 44.34 ...                1\n",
      "                     [LFG93] P3  00 42 44.34 ...                1\n",
      "                      NAME M31*  00 42 44.33 ...                1\n",
      "    [K2002] J004244.35+411608.9 00 42 44.351 ...                1\n",
      "                  [HPH2013] 165  00 42 44.34 ...                1\n",
      "                  [HPH2013] 164  00 42 44.30 ...                1\n",
      "                     [LFG93] P1  00 42 44.37 ...                1\n",
      "    [KPM2002] G121.1741-21.5730  00 42 44.27 ...                1\n",
      "                  [O2006] QSS 8 00 42 44.365 ...                1\n",
      "                  [HPH2013] 167  00 42 44.36 ...                1\n",
      "                            ...          ... ...              ...\n",
      "        CXOGMP J004244.2+411608   00 42 44.2 ...                1\n",
      "                  [HPH2013] 170  00 42 44.40 ...                1\n",
      "        XMMM31 J004244.1+411607  00 42 44.19 ...                1\n",
      "                  [HPH2013] 172  00 42 44.47 ...                1\n",
      "                  [HPH2013] 169  00 42 44.39 ...                1\n",
      "                  M31N 2004-09b  00 42 44.45 ...                1\n",
      "                    [PSC2013] 9 00 42 44.060 ...                1\n",
      "                   [LGF2011] S1  00 42 44.36 ...                1\n",
      "NAME Nova Treffers 1993 in M 31     00 42 44 ...                1\n",
      "        CXOM31 J004244.3+411605  00 42 44.23 ...                1\n",
      "Length = 24 rows\n"
     ]
    }
   ],
   "source": [
    "# Don't run this cell if column names above are invalid.\n",
    "if ra_colname in result.colnames and dec_colname in result.colnames:\n",
    "    row = result[0]\n",
    "    simbad_obj = coord.SkyCoord(ra=row[ra_colname]*u.deg, dec=row[dec_colname]*u.deg)\n",
    "    print('Searching SIMBAD for\\n{}\\n'.format(simbad_obj))\n",
    "    simbad_result = Simbad.query_region(simbad_obj, radius=5*u.arcsec)\n",
    "    print(simbad_result)\n",
    "else:\n",
    "    print('{} or {} not in search results. Choose from: {}'.format(\n",
    "        ra_colname, dec_colname, ' '.join(result.colnames)))"
   ]
  },
  {
   "cell_type": "markdown",
   "metadata": {},
   "source": [
    "Now back to Cone Search... You can extract metadata of this Cone Search catalog."
   ]
  },
  {
   "cell_type": "code",
   "execution_count": 12,
   "metadata": {
    "execution": {
     "iopub.execute_input": "2022-08-12T15:18:27.101981Z",
     "iopub.status.busy": "2022-08-12T15:18:27.101589Z",
     "iopub.status.idle": "2022-08-12T15:18:27.108503Z",
     "shell.execute_reply": "2022-08-12T15:18:27.107874Z"
    }
   },
   "outputs": [
    {
     "name": "stdout",
     "output_type": "stream",
     "text": [
      "{\n",
      "    \"authenticated_only\": 0,\n",
      "    \"cap_description\": \"\",\n",
      "    \"cap_index\": 1,\n",
      "    \"cap_type\": \"conesearch\",\n",
      "    \"content_level\": \"research\",\n",
      "    \"content_type\": \"catalog\",\n",
      "    \"created\": \"12/4/2008 3:29:11 PM\",\n",
      "    \"creator_seq\": \"\",\n",
      "    \"duplicatesIgnored\": 1,\n",
      "    \"intf_index\": 1,\n",
      "    \"intf_role\": \"std\",\n",
      "    \"intf_type\": \"vs:paramhttp\",\n",
      "    \"ivoid\": \"ivo://archive.stsci.edu/gsc/gsc2.3\",\n",
      "    \"mirror_url\": \"\",\n",
      "    \"query_type\": \"\",\n",
      "    \"reference_url\": \"http://gsss.stsci.edu/Catalogs/GSC/GSC2/GSC2.htm\",\n",
      "    \"region_of_regard\": NaN,\n",
      "    \"res_description\": \"The Guide Star Catalog II (GSC-II) is an all-sky optical catalog based on 1\\\" resolution scans of the photographic Sky Survey plates, at two epochs and three bandpasses, from the Palomar and UK Schmidt telescopes. This all-sky catalog will ultimately contains positions, proper motions, classifications, and magnitudes in multiple bandpasses for almost a billion objects down to approximately Jpg=21, Fpg=20. The GSC-II is currently used for HST Bright Object Protection and HST pointing. Looking ahead, the GSC-II will form the basis of the Guide Star Catalog for JWST. This was constructed in collaboration with ground-based observatories for use with the GEMINI, VLT and GALILEO telescopes\",\n",
      "    \"res_subject\": \"Observational astronomy\",\n",
      "    \"res_type\": \"vs:catalogservice\",\n",
      "    \"res_version\": \"2.3.2\",\n",
      "    \"result_type\": \"\",\n",
      "    \"rights\": \"\",\n",
      "    \"rights_uri\": \"\",\n",
      "    \"short_name\": \"GSC23\",\n",
      "    \"source_format\": \"\",\n",
      "    \"source_value\": \"\",\n",
      "    \"standard_id\": \"ivo://ivoa.net/std/conesearch\",\n",
      "    \"std_version\": \"\",\n",
      "    \"title\": \"Guide Star Catalog 2.3 Cone Search\",\n",
      "    \"updated\": \"2/13/2020 5:10:38 PM\",\n",
      "    \"url\": \"http://gsss.stsci.edu/webservices/vo/ConeSearch.aspx?CAT=GSC23&\",\n",
      "    \"url_use\": \"base\",\n",
      "    \"validate_expected\": \"good\",\n",
      "    \"validate_network_error\": null,\n",
      "    \"validate_nexceptions\": 0,\n",
      "    \"validate_nwarnings\": 2,\n",
      "    \"validate_out_db_name\": \"good\",\n",
      "    \"validate_version\": \"1.2\",\n",
      "    \"validate_warning_types\": [\n",
      "        \"W50\"\n",
      "    ],\n",
      "    \"validate_warnings\": [\n",
      "        \"/var/www/astroconda.org/html/aux/vo_databases/daily_20220812/results/91/13/e0bb2f53e1be973136ff8afe5ae9/vo.xml:154:0: W50: Invalid unit string 'pixel'\",\n",
      "        \"/var/www/astroconda.org/html/aux/vo_databases/daily_20220812/results/91/13/e0bb2f53e1be973136ff8afe5ae9/vo.xml:154:0: W50: Invalid unit string 'pixel'\"\n",
      "    ],\n",
      "    \"validate_xmllint\": true,\n",
      "    \"validate_xmllint_content\": \"/var/www/astroconda.org/html/aux/vo_databases/daily_20220812/results/91/13/e0bb2f53e1be973136ff8afe5ae9/vo.xml validates\\n\",\n",
      "    \"waveband\": \"optical\",\n",
      "    \"wsdl_url\": \"\"\n",
      "}\n"
     ]
    }
   ],
   "source": [
    "my_db = vos_catalog.get_remote_catalog_db(conf.conesearch_dbname)\n",
    "my_cat = my_db.get_catalog_by_url(result.url + '&')\n",
    "print(my_cat.dumps())"
   ]
  },
  {
   "cell_type": "markdown",
   "metadata": {},
   "source": [
    "If you have a favorite catalog in mind, you can also perform Cone Search only on that catalog. A list of available catalogs can be obtained by calling `conesearch.list_catalogs()`, as mentioned above."
   ]
  },
  {
   "cell_type": "code",
   "execution_count": 13,
   "metadata": {
    "execution": {
     "iopub.execute_input": "2022-08-12T15:18:27.111755Z",
     "iopub.status.busy": "2022-08-12T15:18:27.111524Z",
     "iopub.status.idle": "2022-08-12T15:18:27.154207Z",
     "shell.execute_reply": "2022-08-12T15:18:27.153558Z"
    }
   },
   "outputs": [],
   "source": [
    "try:\n",
    "    result = conesearch.conesearch(\n",
    "        c, 0.1 * u.degree, catalog_db='The USNO-A2.0 Catalogue (Monet+ 1998) 1')\n",
    "except Exception as e:  \n",
    "    # We provide a cached version of the result table in case the query fails \n",
    "    # due to an intermittent server-side issue, or if you do not have an \n",
    "    # internet connection\n",
    "    result = Table.read('usno-A2-result.fits')"
   ]
  },
  {
   "cell_type": "code",
   "execution_count": 14,
   "metadata": {
    "execution": {
     "iopub.execute_input": "2022-08-12T15:18:27.157915Z",
     "iopub.status.busy": "2022-08-12T15:18:27.157439Z",
     "iopub.status.idle": "2022-08-12T15:18:27.163019Z",
     "shell.execute_reply": "2022-08-12T15:18:27.162433Z"
    }
   },
   "outputs": [
    {
     "name": "stdout",
     "output_type": "stream",
     "text": [
      "Number of rows is 3\n"
     ]
    }
   ],
   "source": [
    "print('Number of rows is', len(result))"
   ]
  },
  {
   "cell_type": "markdown",
   "metadata": {},
   "source": [
    "Let's explore the 3 rows of astronomical objects found within 0.1 degree of M31 in the given catalog and sort them by increasing distance. For this example, the VO table has several columns that might include:\n",
    "\n",
    "* `_r` = Angular distance (in degrees) between object and M31\n",
    "* `USNO-A2.0` = Catalog ID of the object\n",
    "* `RAJ2000` = Right ascension of the object (epoch=J2000)\n",
    "* `DEJ2000` = Declination of the object (epoch=J2000)\n",
    "\n",
    "Note that column names, meanings, order, etc. might vary from catalog to catalog."
   ]
  },
  {
   "cell_type": "code",
   "execution_count": 15,
   "metadata": {
    "execution": {
     "iopub.execute_input": "2022-08-12T15:18:27.165855Z",
     "iopub.status.busy": "2022-08-12T15:18:27.165498Z",
     "iopub.status.idle": "2022-08-12T15:18:27.169010Z",
     "shell.execute_reply": "2022-08-12T15:18:27.168390Z"
    }
   },
   "outputs": [
    {
     "name": "stdout",
     "output_type": "stream",
     "text": [
      "['_r', 'USNO-A2.0', 'RAJ2000', 'DEJ2000', 'ACTflag', 'Mflag', 'Bmag', 'Rmag', 'Epoch']\n"
     ]
    }
   ],
   "source": [
    "col_names = result.colnames\n",
    "print(col_names)"
   ]
  },
  {
   "cell_type": "code",
   "execution_count": 16,
   "metadata": {
    "execution": {
     "iopub.execute_input": "2022-08-12T15:18:27.172552Z",
     "iopub.status.busy": "2022-08-12T15:18:27.172207Z",
     "iopub.status.idle": "2022-08-12T15:18:27.176358Z",
     "shell.execute_reply": "2022-08-12T15:18:27.175862Z"
    }
   },
   "outputs": [
    {
     "name": "stdout",
     "output_type": "stream",
     "text": [
      "   _r      USNO-A2.0    RAJ2000    DEJ2000   ACTflag Mflag Bmag Rmag  Epoch  \n",
      "  deg                     deg        deg                   mag  mag     yr   \n",
      "-------- ------------- ---------- ---------- ------- ----- ---- ---- --------\n",
      "0.094265 1275-00425574  10.595878  41.335328      --    -- 19.8 17.4 1953.773\n",
      "0.098040 1275-00427192  10.639945  41.360845      --    -- 19.4 18.4 1953.773\n",
      "0.063280 1275-00429939  10.712834  41.209109       A    -- 99.9 11.2       --\n"
     ]
    }
   ],
   "source": [
    "# Before sort\n",
    "print(result)"
   ]
  },
  {
   "cell_type": "code",
   "execution_count": 17,
   "metadata": {
    "execution": {
     "iopub.execute_input": "2022-08-12T15:18:27.179182Z",
     "iopub.status.busy": "2022-08-12T15:18:27.178647Z",
     "iopub.status.idle": "2022-08-12T15:18:27.186782Z",
     "shell.execute_reply": "2022-08-12T15:18:27.186171Z"
    }
   },
   "outputs": [
    {
     "name": "stdout",
     "output_type": "stream",
     "text": [
      "   _r      USNO-A2.0    RAJ2000    DEJ2000   ACTflag Mflag Bmag Rmag  Epoch  \n",
      "  deg                     deg        deg                   mag  mag     yr   \n",
      "-------- ------------- ---------- ---------- ------- ----- ---- ---- --------\n",
      "0.063280 1275-00429939  10.712834  41.209109       A       99.9 11.2       --\n",
      "0.094265 1275-00425574  10.595878  41.335328               19.8 17.4 1953.773\n",
      "0.098040 1275-00427192  10.639945  41.360845               19.4 18.4 1953.773\n"
     ]
    }
   ],
   "source": [
    "# After sort\n",
    "result.sort('_r')\n",
    "print(result)"
   ]
  },
  {
   "cell_type": "markdown",
   "metadata": {},
   "source": [
    "You can also convert the distance to arcseconds."
   ]
  },
  {
   "cell_type": "code",
   "execution_count": 18,
   "metadata": {
    "execution": {
     "iopub.execute_input": "2022-08-12T15:18:27.190099Z",
     "iopub.status.busy": "2022-08-12T15:18:27.189756Z",
     "iopub.status.idle": "2022-08-12T15:18:27.196589Z",
     "shell.execute_reply": "2022-08-12T15:18:27.196020Z"
    }
   },
   "outputs": [
    {
     "data": {
      "text/latex": [
       "$[227.808,~339.354,~352.944] \\; \\mathrm{{}^{\\prime\\prime}}$"
      ],
      "text/plain": [
       "<Quantity [227.808, 339.354, 352.944] arcsec>"
      ]
     },
     "execution_count": 18,
     "metadata": {},
     "output_type": "execute_result"
    }
   ],
   "source": [
    "result['_r'].to(u.arcsec)"
   ]
  },
  {
   "cell_type": "markdown",
   "metadata": {},
   "source": [
    "What if you want *all* the results from *all* the catalogs? And you also want to suppress all the VO table warnings and informational messages?\n",
    "\n",
    "__Warning: This can be time and resource intensive.__"
   ]
  },
  {
   "cell_type": "code",
   "execution_count": 19,
   "metadata": {
    "execution": {
     "iopub.execute_input": "2022-08-12T15:18:27.199743Z",
     "iopub.status.busy": "2022-08-12T15:18:27.199412Z",
     "iopub.status.idle": "2022-08-12T15:18:37.250137Z",
     "shell.execute_reply": "2022-08-12T15:18:37.249452Z"
    }
   },
   "outputs": [],
   "source": [
    "with warnings.catch_warnings():\n",
    "    warnings.simplefilter('ignore')\n",
    "    all_results = conesearch.search_all(c, 0.1 * u.degree, verbose=False)"
   ]
  },
  {
   "cell_type": "code",
   "execution_count": 20,
   "metadata": {
    "execution": {
     "iopub.execute_input": "2022-08-12T15:18:37.254064Z",
     "iopub.status.busy": "2022-08-12T15:18:37.253405Z",
     "iopub.status.idle": "2022-08-12T15:18:37.257669Z",
     "shell.execute_reply": "2022-08-12T15:18:37.257019Z"
    }
   },
   "outputs": [
    {
     "name": "stdout",
     "output_type": "stream",
     "text": [
      "http://gsss.stsci.edu/webservices/vo/ConeSearch.aspx?CAT=GSC23 returned 4028 rows\n",
      "http://vizier.unistra.fr/viz-bin/conesearch/I/220/out? returned 5 rows\n",
      "http://vizier.unistra.fr/viz-bin/conesearch/I/254/out? returned 5 rows\n",
      "http://vizier.unistra.fr/viz-bin/conesearch/I/255/out? returned 5 rows\n",
      "http://vizier.unistra.fr/viz-bin/conesearch/I/243/out? returned 3 rows\n",
      "http://vizier.unistra.fr/viz-bin/conesearch/I/252/out? returned 3 rows\n",
      "http://wfaudata.roe.ac.uk/twomass-dsa/DirectCone?DSACAT=TWOMASS&DSATAB=twomass_psc returned 2008 rows\n",
      "http://wfaudata.roe.ac.uk/twomass-dsa/DirectCone?DSACAT=TWOMASS&DSATAB=twomass_xsc returned 25 rows\n"
     ]
    }
   ],
   "source": [
    "for url, tab in all_results.items():\n",
    "    print(url, 'returned', len(tab), 'rows')"
   ]
  },
  {
   "cell_type": "code",
   "execution_count": 21,
   "metadata": {
    "execution": {
     "iopub.execute_input": "2022-08-12T15:18:37.261359Z",
     "iopub.status.busy": "2022-08-12T15:18:37.261121Z",
     "iopub.status.idle": "2022-08-12T15:18:37.268595Z",
     "shell.execute_reply": "2022-08-12T15:18:37.268002Z"
    }
   },
   "outputs": [
    {
     "name": "stdout",
     "output_type": "stream",
     "text": [
      "   _r       GSC      RAJ2000   DEJ2000  PosErr ... Plate  Epoch   Mult Versions\n",
      "  deg                  deg       deg    arcsec ...          yr                 \n",
      "-------- ---------- --------- --------- ------ ... ----- -------- ---- --------\n",
      "0.063449 0280102008  10.71207  41.20873    0.2 ...  0738 1985.877    F  GSC-all\n",
      "0.043453 0280102015  10.68782  41.22536    0.2 ...  0738 1985.877    F  GSC-all\n",
      "0.096170 0280102081  10.80558  41.23727    0.2 ...  0738 1985.877    F  GSC-all\n",
      "0.066633 0280102017  10.60025  41.24853    0.2 ...  0738 1985.877    F  GSC-all\n",
      "0.082097 0280502180  10.64539  41.34535    0.2 ...  0738 1985.877    F  GSC-all\n"
     ]
    }
   ],
   "source": [
    "# Pick out the first one with \"I/220\" in it.\n",
    "i220keys = [k for k in all_results if 'I/220' in k]\n",
    "my_favorite_result = all_results[i220keys[0]]\n",
    "print(my_favorite_result)"
   ]
  },
  {
   "cell_type": "markdown",
   "metadata": {},
   "source": [
    "### Asynchronous Searches"
   ]
  },
  {
   "cell_type": "markdown",
   "metadata": {},
   "source": [
    "Asynchronous versions (i.e., search will run in the background) of `conesearch()` and `search_all()` are also available. Result can be obtained using the asynchronous instance's `get()` method that returns the result upon completion or after a given `timeout` value in seconds."
   ]
  },
  {
   "cell_type": "code",
   "execution_count": 22,
   "metadata": {
    "execution": {
     "iopub.execute_input": "2022-08-12T15:18:37.271698Z",
     "iopub.status.busy": "2022-08-12T15:18:37.271458Z",
     "iopub.status.idle": "2022-08-12T15:18:40.309445Z",
     "shell.execute_reply": "2022-08-12T15:18:40.308730Z"
    }
   },
   "outputs": [
    {
     "name": "stdout",
     "output_type": "stream",
     "text": [
      "Am I running? True\n"
     ]
    },
    {
     "name": "stdout",
     "output_type": "stream",
     "text": [
      "After 3 seconds. Am I done? True\n",
      "\n"
     ]
    }
   ],
   "source": [
    "try:\n",
    "    async_search = conesearch.AsyncConeSearch(\n",
    "        c, 0.1 * u.degree, catalog_db='The USNO-A2.0 Catalogue (Monet+ 1998) 1')\n",
    "    print('Am I running?', async_search.running())\n",
    "\n",
    "    time.sleep(3)\n",
    "    print('After 3 seconds. Am I done?', async_search.done())\n",
    "    print()\n",
    "\n",
    "    result = async_search.get(timeout=30)\n",
    "    print('Number of rows returned is', len(result))\n",
    "    \n",
    "except Exception as e:  \n",
    "    # We provide a cached version of the result table in case the query fails \n",
    "    # due to an intermittent server-side issue, or if you do not have an \n",
    "    # internet connection\n",
    "    result = Table.read('usno-A2-result.fits')"
   ]
  },
  {
   "cell_type": "code",
   "execution_count": 23,
   "metadata": {
    "execution": {
     "iopub.execute_input": "2022-08-12T15:18:40.314315Z",
     "iopub.status.busy": "2022-08-12T15:18:40.312931Z",
     "iopub.status.idle": "2022-08-12T15:18:42.566459Z",
     "shell.execute_reply": "2022-08-12T15:18:42.565796Z"
    }
   },
   "outputs": [
    {
     "name": "stdout",
     "output_type": "stream",
     "text": [
      "Am I running? True\n",
      "Am I done? False\n",
      "\n"
     ]
    },
    {
     "name": "stderr",
     "output_type": "stream",
     "text": [
      "WARNING: NoResultsWarning: Catalog server 'http://wfaudata.roe.ac.uk/sdssdr7-dsa/DirectCone?DSACAT=SDSS_DR7&DSATAB=PhotoObj' returned 0 result [astroquery.vo_conesearch.core]\n",
      "WARNING: NoResultsWarning: Catalog server 'http://wfaudata.roe.ac.uk/sdssdr7-dsa/DirectCone?DSACAT=SDSS_DR7&DSATAB=PhotoObjAll' returned 0 result [astroquery.vo_conesearch.core]\n",
      "WARNING: NoResultsWarning: Catalog server 'http://wfaudata.roe.ac.uk/sdssdr7-dsa/DirectCone?DSACAT=SDSS_DR7&DSATAB=Galaxy' returned 0 result [astroquery.vo_conesearch.core]\n"
     ]
    },
    {
     "name": "stderr",
     "output_type": "stream",
     "text": [
      "WARNING: NoResultsWarning: Catalog server 'http://wfaudata.roe.ac.uk/sdssdr7-dsa/DirectCone?DSACAT=SDSS_DR7&DSATAB=Star' returned 0 result [astroquery.vo_conesearch.core]\n",
      "WARNING: NoResultsWarning: Catalog server 'http://wfaudata.roe.ac.uk/sdssdr8-dsa/DirectCone?DSACAT=SDSS_DR8&DSATAB=SpecObjAll' returned 0 result [astroquery.vo_conesearch.core]\n"
     ]
    },
    {
     "name": "stderr",
     "output_type": "stream",
     "text": [
      "WARNING: NoResultsWarning: Catalog server 'http://wfaudata.roe.ac.uk/sdssdr8-dsa/DirectCone?DSACAT=SDSS_DR8&DSATAB=PhotoObjAll' returned 0 result [astroquery.vo_conesearch.core]\n"
     ]
    },
    {
     "name": "stdout",
     "output_type": "stream",
     "text": [
      "http://gsss.stsci.edu/webservices/vo/ConeSearch.aspx?CAT=GSC23 returned 4028 rows\n",
      "http://vizier.unistra.fr/viz-bin/conesearch/I/220/out? returned 5 rows\n",
      "http://vizier.unistra.fr/viz-bin/conesearch/I/254/out? returned 5 rows\n",
      "http://vizier.unistra.fr/viz-bin/conesearch/I/255/out? returned 5 rows\n",
      "http://vizier.unistra.fr/viz-bin/conesearch/I/243/out? returned 3 rows\n",
      "http://vizier.unistra.fr/viz-bin/conesearch/I/252/out? returned 3 rows\n",
      "http://wfaudata.roe.ac.uk/twomass-dsa/DirectCone?DSACAT=TWOMASS&DSATAB=twomass_psc returned 2008 rows\n",
      "http://wfaudata.roe.ac.uk/twomass-dsa/DirectCone?DSACAT=TWOMASS&DSATAB=twomass_xsc returned 25 rows\n"
     ]
    }
   ],
   "source": [
    "async_search_all = conesearch.AsyncSearchAll(c, 0.1 * u.degree)\n",
    "print('Am I running?', async_search_all.running())\n",
    "print('Am I done?', async_search_all.done())\n",
    "print()\n",
    "\n",
    "all_results = async_search_all.get(timeout=60)\n",
    "for url, tab in all_results.items():\n",
    "    print(url, 'returned', len(tab), 'rows')"
   ]
  },
  {
   "cell_type": "markdown",
   "metadata": {},
   "source": [
    "### Estimating the Search Time"
   ]
  },
  {
   "cell_type": "markdown",
   "metadata": {},
   "source": [
    "Let's predict the run time of performing Cone Search on `http://gsss.stsci.edu/webservices/vo/ConeSearch.aspx?CAT=GSC23&` with a radius of 0.1 degrees. For now, the prediction assumes a very simple linear model, which might or might not reflect the actual trend.\n",
    "\n",
    "This might take a while."
   ]
  },
  {
   "cell_type": "code",
   "execution_count": 24,
   "metadata": {
    "execution": {
     "iopub.execute_input": "2022-08-12T15:18:42.569793Z",
     "iopub.status.busy": "2022-08-12T15:18:42.569547Z",
     "iopub.status.idle": "2022-08-12T15:18:46.792796Z",
     "shell.execute_reply": "2022-08-12T15:18:46.792125Z"
    }
   },
   "outputs": [
    {
     "data": {
      "image/png": "[encoded data removed]",
      "text/plain": [
       "<Figure size 432x288 with 1 Axes>"
      ]
     },
     "metadata": {
      "needs_background": "light"
     },
     "output_type": "display_data"
    },
    {
     "data": {
      "image/png": "[encoded data removed]",
      "text/plain": [
       "<Figure size 432x288 with 1 Axes>"
      ]
     },
     "metadata": {
      "needs_background": "light"
     },
     "output_type": "display_data"
    }
   ],
   "source": [
    "with warnings.catch_warnings():\n",
    "    warnings.simplefilter('ignore')\n",
    "    t_est, n_est = conesearch.predict_search(\n",
    "        'http://gsss.stsci.edu/webservices/vo/ConeSearch.aspx?CAT=GSC23&',\n",
    "        c, 0.1 * u.degree, verbose=False, plot=True)"
   ]
  },
  {
   "cell_type": "code",
   "execution_count": 25,
   "metadata": {
    "execution": {
     "iopub.execute_input": "2022-08-12T15:18:46.796314Z",
     "iopub.status.busy": "2022-08-12T15:18:46.795948Z",
     "iopub.status.idle": "2022-08-12T15:18:46.800944Z",
     "shell.execute_reply": "2022-08-12T15:18:46.800299Z"
    }
   },
   "outputs": [
    {
     "name": "stdout",
     "output_type": "stream",
     "text": [
      "Predicted run time is 0.8666160198358388 seconds\n",
      "Predicted number of rows is 2617\n"
     ]
    }
   ],
   "source": [
    "print('Predicted run time is', t_est, 'seconds')\n",
    "print('Predicted number of rows is', n_est)"
   ]
  },
  {
   "cell_type": "markdown",
   "metadata": {},
   "source": [
    "Let's get the actual run time and number of rows to compare with the prediction above. This might take a while.\n",
    "\n",
    "As you will see, the prediction is not spot on, but it's not too shabby (at least, not when we tried it!). Note that both predicted and actual run time results also depend on network latency and responsiveness of the service provider."
   ]
  },
  {
   "cell_type": "code",
   "execution_count": 26,
   "metadata": {
    "execution": {
     "iopub.execute_input": "2022-08-12T15:18:46.803779Z",
     "iopub.status.busy": "2022-08-12T15:18:46.803531Z",
     "iopub.status.idle": "2022-08-12T15:18:47.565824Z",
     "shell.execute_reply": "2022-08-12T15:18:47.564867Z"
    }
   },
   "outputs": [
    {
     "name": "stdout",
     "output_type": "stream",
     "text": [
      "INFO: conesearch_timer took 0.7577645778656006 s on AVERAGE for 1 call(s). [astroquery.utils.timer]\n"
     ]
    }
   ],
   "source": [
    "t_real, tab = conesearch.conesearch_timer(\n",
    "    c, 0.1 * u.degree,\n",
    "    catalog_db='http://gsss.stsci.edu/webservices/vo/ConeSearch.aspx?CAT=GSC23&',\n",
    "    verbose=False)"
   ]
  },
  {
   "cell_type": "code",
   "execution_count": 27,
   "metadata": {
    "execution": {
     "iopub.execute_input": "2022-08-12T15:18:47.569240Z",
     "iopub.status.busy": "2022-08-12T15:18:47.568881Z",
     "iopub.status.idle": "2022-08-12T15:18:47.573981Z",
     "shell.execute_reply": "2022-08-12T15:18:47.573351Z"
    }
   },
   "outputs": [
    {
     "name": "stdout",
     "output_type": "stream",
     "text": [
      "Actual run time is 0.7577645778656006 seconds\n",
      "Actual number of rows is 4028\n"
     ]
    }
   ],
   "source": [
    "print('Actual run time is', t_real, 'seconds')\n",
    "print('Actual number of rows is', len(tab))"
   ]
  }
 ],
 "metadata": {
  "astropy-tutorials": {
   "author": "P. L. Lim",
   "date": "March 2015",
   "description": "...",
   "link_name": "VO Conesearch",
   "name": "",
   "published": false
  },
  "language_info": {
   "codemirror_mode": {
    "name": "ipython",
    "version": 3
   },
   "file_extension": ".py",
   "mimetype": "text/x-python",
   "name": "python",
   "nbconvert_exporter": "python",
   "pygments_lexer": "ipython3",
   "version": "3.9.13"
  }
 },
 "nbformat": 4,
 "nbformat_minor": 4
}
