{
 "cells": [
  {
   "cell_type": "markdown",
   "metadata": {},
   "source": [
    "# Edit a FITS header\n",
    "\n",
    "## Authors\n",
    "Adrian Price-Whelan, Adam Ginsburg, Stephanie T. Douglas, Kelle Cruz\n",
    "\n",
    "## Learning Goals\n",
    "* Read a FITS file \n",
    "* Retrieve FITS header metadata\n",
    "* Edit the FITS header \n",
    "* Write the modified file as a FITS file\n",
    "\n",
    "## Keywords\n",
    "FITS, file input/output\n",
    "\n",
    "## Summary\n",
    "This tutorial describes how to read in and edit a FITS header, and then write \n",
    "it back out to disk. For this example we're going to change the `OBJECT` \n",
    "keyword."
   ]
  },
  {
   "cell_type": "code",
   "execution_count": 1,
   "metadata": {
    "execution": {
     "iopub.execute_input": "2025-02-06T21:07:46.640427Z",
     "iopub.status.busy": "2025-02-06T21:07:46.640257Z",
     "iopub.status.idle": "2025-02-06T21:07:46.644101Z",
     "shell.execute_reply": "2025-02-06T21:07:46.643564Z"
    }
   },
   "outputs": [
    {
     "name": "stdout",
     "output_type": "stream",
     "text": [
      "Required packages for this notebook:\n",
      "astropy\n",
      "\n"
     ]
    }
   ],
   "source": [
    "with open('requirements.txt') as f:\n",
    "    print(f\"Required packages for this notebook:\\n{f.read()}\")"
   ]
  },
  {
   "cell_type": "code",
   "execution_count": 2,
   "metadata": {
    "execution": {
     "iopub.execute_input": "2025-02-06T21:07:46.680186Z",
     "iopub.status.busy": "2025-02-06T21:07:46.679661Z",
     "iopub.status.idle": "2025-02-06T21:07:46.867232Z",
     "shell.execute_reply": "2025-02-06T21:07:46.866609Z"
    }
   },
   "outputs": [],
   "source": [
    "from astropy.io import fits"
   ]
  },
  {
   "cell_type": "markdown",
   "metadata": {},
   "source": [
    "``astropy.io.fits`` provides a lot of flexibility for reading FITS \n",
    "files and headers, but most of the time the convenience functions are\n",
    "the easiest way to access the data. ``fits.getdata()`` reads only the \n",
    "data from a FITS file, but with the `header=True` keyword argument will\n",
    "also read the header. "
   ]
  },
  {
   "cell_type": "code",
   "execution_count": 3,
   "metadata": {
    "execution": {
     "iopub.execute_input": "2025-02-06T21:07:46.869343Z",
     "iopub.status.busy": "2025-02-06T21:07:46.868955Z",
     "iopub.status.idle": "2025-02-06T21:07:46.872887Z",
     "shell.execute_reply": "2025-02-06T21:07:46.872462Z"
    }
   },
   "outputs": [],
   "source": [
    "data, header = fits.getdata(\"input_file.fits\", header=True)"
   ]
  },
  {
   "cell_type": "markdown",
   "metadata": {},
   "source": [
    "There is also a dedicated function for reading only the \n",
    "header:"
   ]
  },
  {
   "cell_type": "code",
   "execution_count": 4,
   "metadata": {
    "execution": {
     "iopub.execute_input": "2025-02-06T21:07:46.874766Z",
     "iopub.status.busy": "2025-02-06T21:07:46.874428Z",
     "iopub.status.idle": "2025-02-06T21:07:46.880807Z",
     "shell.execute_reply": "2025-02-06T21:07:46.880361Z"
    }
   },
   "outputs": [
    {
     "data": {
      "text/plain": [
       "SIMPLE  =                    T / conforms to FITS standard                      \n",
       "BITPIX  =                  -64 / array data type                                \n",
       "NAXIS   =                    2 / number of array dimensions                     \n",
       "NAXIS1  =                  100                                                  \n",
       "NAXIS2  =                  100                                                  \n",
       "EXTEND  =                    T                                                  \n",
       "OBJECT  = 'KITTEN  '                                                            \n",
       "MYHDRKW = 'My Header Keyword'                                                   "
      ]
     },
     "execution_count": 4,
     "metadata": {},
     "output_type": "execute_result"
    }
   ],
   "source": [
    "hdu_number = 0 # HDU means header data unit\n",
    "fits.getheader('input_file.fits', hdu_number)"
   ]
  },
  {
   "cell_type": "markdown",
   "metadata": {},
   "source": [
    "But `getdata()` can get both the data and the header, so it's a useful \n",
    "command to remember. Since the primary HDU of a FITS file must contain image data, \n",
    "the data is now stored in a ``numpy`` array. The header is stored in an \n",
    "object that acts like a standard Python dictionary. "
   ]
  },
  {
   "cell_type": "code",
   "execution_count": 5,
   "metadata": {
    "execution": {
     "iopub.execute_input": "2025-02-06T21:07:46.882359Z",
     "iopub.status.busy": "2025-02-06T21:07:46.882194Z",
     "iopub.status.idle": "2025-02-06T21:07:46.888411Z",
     "shell.execute_reply": "2025-02-06T21:07:46.887828Z"
    }
   },
   "outputs": [
    {
     "name": "stdout",
     "output_type": "stream",
     "text": [
      "Filename: input_file.fits\n",
      "No.    Name      Ver    Type      Cards   Dimensions   Format\n",
      "  0  PRIMARY       1 PrimaryHDU       8   (100, 100)   float64   \n",
      "  1                1 ImageHDU         7   (128, 128)   float64   \n"
     ]
    },
    {
     "data": {
      "text/plain": [
       "SIMPLE  =                    T / conforms to FITS standard                      \n",
       "BITPIX  =                  -64 / array data type                                \n",
       "NAXIS   =                    2 / number of array dimensions                     \n",
       "NAXIS1  =                  100                                                  \n",
       "NAXIS2  =                  100                                                  \n",
       "EXTEND  =                    T                                                  \n",
       "OBJECT  = 'KITTEN  '                                                            \n",
       "MYHDRKW = 'My Header Keyword'                                                   "
      ]
     },
     "execution_count": 5,
     "metadata": {},
     "output_type": "execute_result"
    }
   ],
   "source": [
    "# But hdu_number = 0 is the PRIMARY HDU.How many HDUs are in this file?\n",
    "fits_inf = fits.open(\"input_file.fits\")\n",
    "fits_inf.info() \n",
    "fits_inf[0].header"
   ]
  },
  {
   "cell_type": "markdown",
   "metadata": {},
   "source": [
    "Using ``fits.open`` allows us to look more generally at our data.  ``fits_inf[0].header`` gives us the same output as ``fits.getheader``.  What will you learn if you type ``fits_inf[1].header``?  Based on ``fits_inf.info()`` can you guess what will happen if you type ``fits_inf[2].header``?"
   ]
  },
  {
   "cell_type": "markdown",
   "metadata": {},
   "source": [
    "Now let's change the header to give it the correct object:"
   ]
  },
  {
   "cell_type": "code",
   "execution_count": 6,
   "metadata": {
    "execution": {
     "iopub.execute_input": "2025-02-06T21:07:46.890119Z",
     "iopub.status.busy": "2025-02-06T21:07:46.889924Z",
     "iopub.status.idle": "2025-02-06T21:07:46.892372Z",
     "shell.execute_reply": "2025-02-06T21:07:46.891950Z"
    }
   },
   "outputs": [],
   "source": [
    "header['OBJECT'] = \"M31\""
   ]
  },
  {
   "cell_type": "markdown",
   "metadata": {},
   "source": [
    "Finally, we have to write out the FITS file. Again, the convenience \n",
    "function for this is the most useful command to remember:"
   ]
  },
  {
   "cell_type": "code",
   "execution_count": 7,
   "metadata": {
    "execution": {
     "iopub.execute_input": "2025-02-06T21:07:46.893877Z",
     "iopub.status.busy": "2025-02-06T21:07:46.893707Z",
     "iopub.status.idle": "2025-02-06T21:07:46.901286Z",
     "shell.execute_reply": "2025-02-06T21:07:46.900805Z"
    }
   },
   "outputs": [],
   "source": [
    "fits.writeto('output_file.fits', data, header, overwrite=True)"
   ]
  },
  {
   "cell_type": "markdown",
   "metadata": {},
   "source": [
    "That's it; you're done!"
   ]
  },
  {
   "cell_type": "markdown",
   "metadata": {},
   "source": [
    "Two common and more complicated cases are worth mentioning (but if your needs \n",
    "are much more complex, you should consult the full documentation http://docs.astropy.org/en/stable/io/fits/). \n",
    "\n",
    "The first complication is that the FITS file you're examining and \n",
    "editing might have multiple HDU's (extensions), in which case you can \n",
    "specify the extension like this:"
   ]
  },
  {
   "cell_type": "code",
   "execution_count": 8,
   "metadata": {
    "execution": {
     "iopub.execute_input": "2025-02-06T21:07:46.903083Z",
     "iopub.status.busy": "2025-02-06T21:07:46.902726Z",
     "iopub.status.idle": "2025-02-06T21:07:46.907051Z",
     "shell.execute_reply": "2025-02-06T21:07:46.906622Z"
    }
   },
   "outputs": [],
   "source": [
    "data1, header1 = fits.getdata(\"input_file.fits\", ext=1, header=True)"
   ]
  },
  {
   "cell_type": "markdown",
   "metadata": {},
   "source": [
    "This will get you the data and header associated with the `index=1` extension \n",
    "in the FITS file. Without specifying a number, `getdata()` will get the \n",
    "0th extension (equivalent to saying `ext=0`)."
   ]
  },
  {
   "cell_type": "markdown",
   "metadata": {},
   "source": [
    "Another useful tip is if you want to overwrite an existing FITS \n",
    "file. By default, `writeto()` won't let you do this, so you need to \n",
    "explicitly give it permission using the `clobber` keyword argument:"
   ]
  },
  {
   "cell_type": "code",
   "execution_count": 9,
   "metadata": {
    "execution": {
     "iopub.execute_input": "2025-02-06T21:07:46.908760Z",
     "iopub.status.busy": "2025-02-06T21:07:46.908441Z",
     "iopub.status.idle": "2025-02-06T21:07:46.912797Z",
     "shell.execute_reply": "2025-02-06T21:07:46.912370Z"
    }
   },
   "outputs": [],
   "source": [
    "fits.writeto('output_file.fits', data, header, overwrite=True)"
   ]
  },
  {
   "cell_type": "markdown",
   "metadata": {},
   "source": [
    "A final example is if you want to make a small change to a FITS file, like updating a header keyword, but you don't want to read in and write out the whole file, which can take a while.  Instead you can use the `mode='update'` read mode to do this:"
   ]
  },
  {
   "cell_type": "code",
   "execution_count": 10,
   "metadata": {
    "execution": {
     "iopub.execute_input": "2025-02-06T21:07:46.914347Z",
     "iopub.status.busy": "2025-02-06T21:07:46.914178Z",
     "iopub.status.idle": "2025-02-06T21:07:46.919359Z",
     "shell.execute_reply": "2025-02-06T21:07:46.918954Z"
    }
   },
   "outputs": [],
   "source": [
    "with fits.open('input_file.fits', mode='update') as filehandle:\n",
    "    filehandle[0].header['MYHDRKW'] = \"My Header Keyword\""
   ]
  },
  {
   "cell_type": "markdown",
   "metadata": {},
   "source": [
    "## Exercise"
   ]
  },
  {
   "cell_type": "markdown",
   "metadata": {},
   "source": [
    "Read in the file you just wrote and add three header keywords:\n",
    "\n",
    "1. 'RA' for the Right Ascension of M31\n",
    "2. 'DEC' for the Declination of M31\n",
    "3. 'RADECSRC' with text indicating where you found the RA/Dec (web URL, textbook name, your photographic memory, etc.)\n",
    "\n",
    "Then write the updated header back out to a new file: "
   ]
  },
  {
   "cell_type": "code",
   "execution_count": null,
   "metadata": {},
   "outputs": [],
   "source": []
  }
 ],
 "metadata": {
  "astropy-tutorials": {
   "author": "Adrian M. Price-Whelan <adrn@astro.columbia.edu>",
   "date": "July 2013",
   "description": "Demonstrates how to read in, edit a FITS header, and then write it back out to disk using astropy.io.fits.",
   "link_name": "Editing a FITS header",
   "name": "",
   "published": true
  },
  "language_info": {
   "codemirror_mode": {
    "name": "ipython",
    "version": 3
   },
   "file_extension": ".py",
   "mimetype": "text/x-python",
   "name": "python",
   "nbconvert_exporter": "python",
   "pygments_lexer": "ipython3",
   "version": "3.12.8"
  }
 },
 "nbformat": 4,
 "nbformat_minor": 4
}
