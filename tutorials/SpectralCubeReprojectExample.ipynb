{
 "cells": [
  {
   "cell_type": "markdown",
   "id": "0",
   "metadata": {},
   "source": [
    "# Cube Reprojection Tutorial\n",
    "\n",
    "## Authors\n",
    "Adam Ginsburg, Eric Koch\n",
    "\n",
    "## Learning Goals\n",
    "* reproject a cube spectrally\n",
    "* smooth it spectrally\n",
    "* reproject it spatially\n",
    "\n",
    "## Keywords\n",
    "spectral cube, radio astronomy, astroquery, units, dask\n",
    "\n",
    "## Summary\n",
    "Spectroscopic cube observations taken at different wavelength can trace the motion of gas or stars using spectral lines, but often lines at different wavelengths give different information.\n",
    "For example, one might observe a galaxy in the 21cm line of HI and the 115 GHz line of CO, or a protoplanetary disk in a line of N2H+ and a line of CO, or a galactic disk in the H-alpha and H-beta lines (in absorption or emission).\n",
    "In order to compare these data sets pixel-by-pixel, they must be placed onto a common grid with common resolution.\n",
    "\n",
    "This tutorial shows how to take two spectral cubes observed toward the same part of the sky, but different frequencies, and put them onto the same grid using [spectral-cube](spectral-cube.readthedocs.io).\n",
    "\n",
    "It uses [astroquery](https://astroquery.readthedocs.io/) to obtain line frequencies from [splatalogue](https://astroquery.readthedocs.io/en/latest/splatalogue/splatalogue.html); this example uses radio-wavelength data for which Splatalogue's molecular line lists are appropriate.\n",
    "Finally, it shows how to do the reprojection using [dask](https://dask.org) to enable parallelization."
   ]
  },
  {
   "cell_type": "code",
   "execution_count": 1,
   "metadata": {
    "execution": {
     "iopub.execute_input": "2025-04-23T21:27:02.049543Z",
     "iopub.status.busy": "2025-04-23T21:27:02.049104Z",
     "iopub.status.idle": "2025-04-23T21:27:02.053173Z",
     "shell.execute_reply": "2025-04-23T21:27:02.052573Z"
    }
   },
   "outputs": [
    {
     "name": "stdout",
     "output_type": "stream",
     "text": [
      "Required packages for this notebook:\n",
      "astropy\n",
      "dask\n",
      "ipydatagrid\n",
      "numpy\n",
      "pandas\n",
      "radio_beam\n",
      "reproject\n",
      "spectral_cube @ git+https://github.com/radio-astro-tools/spectral-cube  # as of: 2024-10-10 for issue with 'distutils'\n",
      "\n"
     ]
    }
   ],
   "source": [
    "with open('requirements.txt') as f:\n",
    "    print(f\"Required packages for this notebook:\\n{f.read()}\")"
   ]
  },
  {
   "cell_type": "markdown",
   "id": "2",
   "metadata": {},
   "source": [
    "## Index \n",
    "\n",
    " * [Step 1: Download](#Step-1:-Download-the-data)\n",
    " * [Step 2: Open files, collect metadata](#Step-2:-Load-the-cubes)\n",
    " * [Step 3: Convert to velocity](#Step-3:-Convert-cubes-from-frequency-to-velocity)\n",
    " * [Step 4: Spectral Interpolation](#Step-4.-Spectral-Interpolation)\n",
    " * [Step 5: Spatial Smoothing](#Step-5.-Spatial-Smoothing)\n",
    " * [Step 6: Reprojection](#Step-6.-Reprojection)\n",
    " \n",
    " \n",
    "In this example, we do spectral smoothing and interpolation (step 4) before spatial smoothing and interpolation (step 5), but if you have a varying-resolution cube (with a different beam size for each channel), you have to do spatial smoothing first.   For more information see the [spectral-cube documentation](spectral-cube.readthedocs.io)."
   ]
  },
  {
   "cell_type": "markdown",
   "id": "3",
   "metadata": {},
   "source": [
    "## Step 1: Download the data\n",
    "\n",
    "(you might not have to do this step, since you may already have data)"
   ]
  },
  {
   "cell_type": "code",
   "execution_count": 2,
   "id": "4",
   "metadata": {
    "execution": {
     "iopub.execute_input": "2025-04-23T21:27:02.089540Z",
     "iopub.status.busy": "2025-04-23T21:27:02.089065Z",
     "iopub.status.idle": "2025-04-23T21:27:02.231402Z",
     "shell.execute_reply": "2025-04-23T21:27:02.230796Z"
    }
   },
   "outputs": [],
   "source": [
    "import numpy as np\n",
    "from astropy.utils.data import download_file"
   ]
  },
  {
   "cell_type": "markdown",
   "id": "5",
   "metadata": {},
   "source": [
    "We download two example spectral cubes of a point in the Galactic center from a permalink on the ALMA archives.\n",
    "These are moderately large files, with sizes 18 MB and 337 MB.\n",
    "\n",
    "If you have trouble with these downloads, try changing to a different ALMA server (e.g., almascience.eso.org->almascience.nrao.edu) or increase the timeout.  See the [download_file](https://docs.astropy.org/en/stable/api/astropy.utils.data.download_file.html) documentation."
   ]
  },
  {
   "cell_type": "code",
   "execution_count": 3,
   "id": "6",
   "metadata": {
    "execution": {
     "iopub.execute_input": "2025-04-23T21:27:02.233754Z",
     "iopub.status.busy": "2025-04-23T21:27:02.233319Z",
     "iopub.status.idle": "2025-04-23T21:27:04.965530Z",
     "shell.execute_reply": "2025-04-23T21:27:04.965001Z"
    }
   },
   "outputs": [],
   "source": [
    "filename_1 = download_file(\"https://almascience.eso.org/dataPortal/member.uid___A001_X1465_X3a33.BrickMaser_sci.spw71.cube.I.manual.image.pbcor.fits\",\n",
    "                           cache=True)"
   ]
  },
  {
   "cell_type": "code",
   "execution_count": 4,
   "id": "7",
   "metadata": {
    "execution": {
     "iopub.execute_input": "2025-04-23T21:27:04.967413Z",
     "iopub.status.busy": "2025-04-23T21:27:04.967222Z",
     "iopub.status.idle": "2025-04-23T21:27:18.789645Z",
     "shell.execute_reply": "2025-04-23T21:27:18.789076Z"
    }
   },
   "outputs": [],
   "source": [
    "filename_2 = download_file(\"https://almascience.eso.org/dataPortal/member.uid___A001_X87d_X141.a_sma1_sci.spw27.cube.I.pbcor.fits\",\n",
    "                          cache=True)"
   ]
  },
  {
   "cell_type": "markdown",
   "id": "8",
   "metadata": {},
   "source": [
    "## Step 2: Load the cubes"
   ]
  },
  {
   "cell_type": "code",
   "execution_count": 5,
   "id": "9",
   "metadata": {
    "execution": {
     "iopub.execute_input": "2025-04-23T21:27:18.791549Z",
     "iopub.status.busy": "2025-04-23T21:27:18.791375Z",
     "iopub.status.idle": "2025-04-23T21:27:19.729019Z",
     "shell.execute_reply": "2025-04-23T21:27:19.728475Z"
    }
   },
   "outputs": [],
   "source": [
    "from spectral_cube import SpectralCube"
   ]
  },
  {
   "cell_type": "code",
   "execution_count": 6,
   "id": "10",
   "metadata": {
    "execution": {
     "iopub.execute_input": "2025-04-23T21:27:19.731214Z",
     "iopub.status.busy": "2025-04-23T21:27:19.730847Z",
     "iopub.status.idle": "2025-04-23T21:27:19.783684Z",
     "shell.execute_reply": "2025-04-23T21:27:19.783121Z"
    }
   },
   "outputs": [
    {
     "name": "stderr",
     "output_type": "stream",
     "text": [
      "WARNING: StokesWarning: Cube is a Stokes cube, returning spectral cube for I component [spectral_cube.io.core]\n"
     ]
    },
    {
     "data": {
      "text/plain": [
       "SpectralCube with shape=(75, 250, 250) and unit=Jy / beam:\n",
       " n_x:    250  type_x: RA---SIN  unit_x: deg    range:   266.534072 deg:  266.554577 deg\n",
       " n_y:    250  type_y: DEC--SIN  unit_y: deg    range:   -28.713958 deg:  -28.695975 deg\n",
       " n_s:     75  type_s: FREQ      unit_s: Hz     range: 139434992275.503 Hz:139503942362.300 Hz"
      ]
     },
     "execution_count": 6,
     "metadata": {},
     "output_type": "execute_result"
    }
   ],
   "source": [
    "cube1 = SpectralCube.read(filename_1)\n",
    "cube1"
   ]
  },
  {
   "cell_type": "code",
   "execution_count": 7,
   "id": "11",
   "metadata": {
    "execution": {
     "iopub.execute_input": "2025-04-23T21:27:19.785501Z",
     "iopub.status.busy": "2025-04-23T21:27:19.785122Z",
     "iopub.status.idle": "2025-04-23T21:27:19.835801Z",
     "shell.execute_reply": "2025-04-23T21:27:19.835340Z"
    }
   },
   "outputs": [
    {
     "name": "stderr",
     "output_type": "stream",
     "text": [
      "WARNING: StokesWarning: Cube is a Stokes cube, returning spectral cube for I component [spectral_cube.io.core]\n"
     ]
    },
    {
     "data": {
      "text/plain": [
       "SpectralCube with shape=(478, 420, 420) and unit=Jy / beam:\n",
       " n_x:    420  type_x: RA---SIN  unit_x: deg    range:   266.537002 deg:  266.551600 deg\n",
       " n_y:    420  type_y: DEC--SIN  unit_y: deg    range:   -28.711371 deg:  -28.698569 deg\n",
       " n_s:    478  type_s: FREQ      unit_s: Hz     range: 216957714464.027 Hz:217190639088.700 Hz"
      ]
     },
     "execution_count": 7,
     "metadata": {},
     "output_type": "execute_result"
    }
   ],
   "source": [
    "cube2 = SpectralCube.read(filename_2)\n",
    "cube2"
   ]
  },
  {
   "cell_type": "markdown",
   "id": "12",
   "metadata": {},
   "source": [
    "The cubes are at different frequencies - 139 and 217 GHz.\n",
    "\n",
    "The first cube covers the H2CS 4(1,3)-3(1,2) line at 139.483699\tGHz.\n",
    "\n",
    "The second covers SiO v=5-4 at 217.104984 GHz"
   ]
  },
  {
   "cell_type": "markdown",
   "id": "13",
   "metadata": {},
   "source": [
    "We use the `find_lines` tool to query [splatalogue](https://splatalogue.online/) with [astroquery](https://astroquery.readthedocs.io/en/latest/splatalogue/splatalogue.html) over the spectral range covered by the cube.  It returns a table of matching lines.  Note that some line names will be repeated because Splatalogue includes several different databases and most chemical species are present in all of these."
   ]
  },
  {
   "cell_type": "code",
   "execution_count": 8,
   "id": "14",
   "metadata": {
    "execution": {
     "iopub.execute_input": "2025-04-23T21:27:19.837603Z",
     "iopub.status.busy": "2025-04-23T21:27:19.837174Z",
     "iopub.status.idle": "2025-04-23T21:27:20.542559Z",
     "shell.execute_reply": "2025-04-23T21:27:20.541958Z"
    }
   },
   "outputs": [
    {
     "name": "stderr",
     "output_type": "stream",
     "text": [
      "WARNING: ExperimentalImplementationWarning: The line-finding routine is experimental.  Please report bugs on the Issues page: https://github.com/radio-astro-tools/spectral-cube/issues [spectral_cube.spectral_cube]\n"
     ]
    },
    {
     "data": {
      "application/vnd.jupyter.widget-view+json": {
       "model_id": "a03c775b634b45f3ad5ab18da55aba4b",
       "version_major": 2,
       "version_minor": 0
      },
      "text/plain": [
       "DataGrid(auto_fit_params={'area': 'all', 'padding': 30, 'numCols': None}, corner_renderer=None, default_render…"
      ]
     },
     "execution_count": 8,
     "metadata": {},
     "output_type": "execute_result"
    }
   ],
   "source": [
    "cube1.find_lines(chemical_name=' H2CS ').show_in_notebook()"
   ]
  },
  {
   "cell_type": "code",
   "execution_count": 9,
   "id": "15",
   "metadata": {
    "execution": {
     "iopub.execute_input": "2025-04-23T21:27:20.544661Z",
     "iopub.status.busy": "2025-04-23T21:27:20.544123Z",
     "iopub.status.idle": "2025-04-23T21:27:20.697786Z",
     "shell.execute_reply": "2025-04-23T21:27:20.697218Z"
    }
   },
   "outputs": [
    {
     "name": "stderr",
     "output_type": "stream",
     "text": [
      "WARNING: ExperimentalImplementationWarning: The line-finding routine is experimental.  Please report bugs on the Issues page: https://github.com/radio-astro-tools/spectral-cube/issues [spectral_cube.spectral_cube]\n"
     ]
    },
    {
     "data": {
      "application/vnd.jupyter.widget-view+json": {
       "model_id": "b6e28d7ddd424cacbaccd47435be0dba",
       "version_major": 2,
       "version_minor": 0
      },
      "text/plain": [
       "DataGrid(auto_fit_params={'area': 'all', 'padding': 30, 'numCols': None}, corner_renderer=None, default_render…"
      ]
     },
     "execution_count": 9,
     "metadata": {},
     "output_type": "execute_result"
    }
   ],
   "source": [
    "cube2.find_lines(chemical_name='SiO').show_in_notebook()"
   ]
  },
  {
   "cell_type": "markdown",
   "id": "16",
   "metadata": {},
   "source": [
    "## Step 3: Convert cubes from frequency to velocity\n",
    "\n",
    "To compare the kinematic structure of the target, we need to convert from the observed frequency (which must be in a common reference frame; in this case, it already is) to the doppler velocity."
   ]
  },
  {
   "cell_type": "code",
   "execution_count": 10,
   "id": "17",
   "metadata": {
    "execution": {
     "iopub.execute_input": "2025-04-23T21:27:20.699769Z",
     "iopub.status.busy": "2025-04-23T21:27:20.699358Z",
     "iopub.status.idle": "2025-04-23T21:27:20.702085Z",
     "shell.execute_reply": "2025-04-23T21:27:20.701618Z"
    }
   },
   "outputs": [],
   "source": [
    "from astropy import units as u"
   ]
  },
  {
   "cell_type": "code",
   "execution_count": 11,
   "id": "18",
   "metadata": {
    "execution": {
     "iopub.execute_input": "2025-04-23T21:27:20.703800Z",
     "iopub.status.busy": "2025-04-23T21:27:20.703454Z",
     "iopub.status.idle": "2025-04-23T21:27:20.718062Z",
     "shell.execute_reply": "2025-04-23T21:27:20.717494Z"
    }
   },
   "outputs": [
    {
     "data": {
      "text/plain": [
       "SpectralCube with shape=(75, 250, 250) and unit=Jy / beam:\n",
       " n_x:    250  type_x: RA---SIN  unit_x: deg    range:   266.534072 deg:  266.554577 deg\n",
       " n_y:    250  type_y: DEC--SIN  unit_y: deg    range:   -28.713958 deg:  -28.695975 deg\n",
       " n_s:     75  type_s: VRAD      unit_s: km / s  range:      -43.509 km / s:     104.685 km / s"
      ]
     },
     "execution_count": 11,
     "metadata": {},
     "output_type": "execute_result"
    }
   ],
   "source": [
    "cube1vel = cube1.with_spectral_unit(u.km/u.s, velocity_convention='radio', rest_value=139.483699*u.GHz)\n",
    "cube1vel"
   ]
  },
  {
   "cell_type": "code",
   "execution_count": 12,
   "id": "19",
   "metadata": {
    "execution": {
     "iopub.execute_input": "2025-04-23T21:27:20.719851Z",
     "iopub.status.busy": "2025-04-23T21:27:20.719428Z",
     "iopub.status.idle": "2025-04-23T21:27:20.732871Z",
     "shell.execute_reply": "2025-04-23T21:27:20.732307Z"
    }
   },
   "outputs": [
    {
     "data": {
      "text/plain": [
       "SpectralCube with shape=(478, 420, 420) and unit=Jy / beam:\n",
       " n_x:    420  type_x: RA---SIN  unit_x: deg    range:   266.537002 deg:  266.551600 deg\n",
       " n_y:    420  type_y: DEC--SIN  unit_y: deg    range:   -28.711371 deg:  -28.698569 deg\n",
       " n_s:    478  type_s: VRAD      unit_s: km / s  range:     -118.278 km / s:     203.359 km / s"
      ]
     },
     "execution_count": 12,
     "metadata": {},
     "output_type": "execute_result"
    }
   ],
   "source": [
    "cube2vel = cube2.with_spectral_unit(u.km/u.s, velocity_convention='radio', rest_value=217.104984*u.GHz)\n",
    "cube2vel"
   ]
  },
  {
   "cell_type": "markdown",
   "id": "20",
   "metadata": {},
   "source": [
    "From the shape of the cube, we can see the H2CS cube is narrower in velocity, so we'll use that as the target spectral reprojection.  However, the SiO cube is the smaller footprint on the sky."
   ]
  },
  {
   "cell_type": "markdown",
   "id": "21",
   "metadata": {},
   "source": [
    "### Create spatial maps of the peak intensity to quickly explore the cubes:\n",
    "    \n",
    "One way to quickly explore the structure in the data cubes is to produce a peak intensity map, or the maximum along the spectral axis (`axis=0`)."
   ]
  },
  {
   "cell_type": "code",
   "execution_count": 13,
   "id": "22",
   "metadata": {
    "execution": {
     "iopub.execute_input": "2025-04-23T21:27:20.734809Z",
     "iopub.status.busy": "2025-04-23T21:27:20.734402Z",
     "iopub.status.idle": "2025-04-23T21:27:21.304726Z",
     "shell.execute_reply": "2025-04-23T21:27:21.304093Z"
    }
   },
   "outputs": [
    {
     "name": "stderr",
     "output_type": "stream",
     "text": [
      "WARNING: PossiblySlowWarning: This function (<function BaseSpectralCube.max at 0x7fee00fbfc40>) requires loading the entire cube into memory and may therefore be slow. [spectral_cube.utils]\n"
     ]
    },
    {
     "name": "stderr",
     "output_type": "stream",
     "text": [
      "/opt/hostedtoolcache/Python/3.12.10/x64/lib/python3.12/site-packages/spectral_cube/spectral_cube.py:436: RuntimeWarning: All-NaN slice encountered\n",
      "  out = function(self._get_filled_data(fill=fill,\n"
     ]
    },
    {
     "data": {
      "image/png": "[encoded data removed]",
      "text/plain": [
       "<Figure size 640x480 with 1 Axes>"
      ]
     },
     "metadata": {},
     "output_type": "display_data"
    }
   ],
   "source": [
    "mx = cube1.max(axis=0)\n",
    "mx.quicklook()"
   ]
  },
  {
   "cell_type": "markdown",
   "id": "23",
   "metadata": {},
   "source": [
    "We can do the same thing all on one line (for the other cube this time):"
   ]
  },
  {
   "cell_type": "code",
   "execution_count": 14,
   "id": "24",
   "metadata": {
    "execution": {
     "iopub.execute_input": "2025-04-23T21:27:21.306887Z",
     "iopub.status.busy": "2025-04-23T21:27:21.306236Z",
     "iopub.status.idle": "2025-04-23T21:27:21.728031Z",
     "shell.execute_reply": "2025-04-23T21:27:21.727416Z"
    }
   },
   "outputs": [
    {
     "name": "stderr",
     "output_type": "stream",
     "text": [
      "WARNING: PossiblySlowWarning: This function (<function BaseSpectralCube.max at 0x7fee00fbfc40>) requires loading the entire cube into memory and may therefore be slow. [spectral_cube.utils]\n"
     ]
    },
    {
     "name": "stderr",
     "output_type": "stream",
     "text": [
      "/opt/hostedtoolcache/Python/3.12.10/x64/lib/python3.12/site-packages/spectral_cube/spectral_cube.py:436: RuntimeWarning: All-NaN slice encountered\n",
      "  out = function(self._get_filled_data(fill=fill,\n"
     ]
    },
    {
     "data": {
      "image/png": "[encoded data removed]",
      "text/plain": [
       "<Figure size 640x480 with 1 Axes>"
      ]
     },
     "metadata": {},
     "output_type": "display_data"
    }
   ],
   "source": [
    "cube2.max(axis=0).quicklook()"
   ]
  },
  {
   "cell_type": "markdown",
   "id": "25",
   "metadata": {},
   "source": [
    "# Step 4. Spectral Interpolation\n",
    "\n",
    "We can choose to do either the spatial or spectral step first.  \n",
    "In this case, we choose the spectral step first because the H$_2$CS cube is narrower in velocity (`cube1vel`) and this will reduce the number of channels we need to spatially interpolate over in the next step.\n",
    "\n",
    "We need to match resolution to the cube with the largest channel width:"
   ]
  },
  {
   "cell_type": "code",
   "execution_count": 15,
   "id": "26",
   "metadata": {
    "execution": {
     "iopub.execute_input": "2025-04-23T21:27:21.729854Z",
     "iopub.status.busy": "2025-04-23T21:27:21.729667Z",
     "iopub.status.idle": "2025-04-23T21:27:21.735029Z",
     "shell.execute_reply": "2025-04-23T21:27:21.734582Z"
    }
   },
   "outputs": [
    {
     "data": {
      "text/plain": [
       "(<Quantity 2.00262828 km / s>, <Quantity 0.67429189 km / s>)"
      ]
     },
     "execution_count": 15,
     "metadata": {},
     "output_type": "execute_result"
    }
   ],
   "source": [
    "velocity_res_1 = np.diff(cube1vel.spectral_axis)[0]\n",
    "velocity_res_2 = np.diff(cube2vel.spectral_axis)[0]\n",
    "velocity_res_1, velocity_res_2"
   ]
  },
  {
   "cell_type": "markdown",
   "id": "27",
   "metadata": {},
   "source": [
    "Next, we will reduce `cube2vel` to have the same spectral range as `cube1vel`:"
   ]
  },
  {
   "cell_type": "code",
   "execution_count": 16,
   "id": "28",
   "metadata": {
    "execution": {
     "iopub.execute_input": "2025-04-23T21:27:21.736761Z",
     "iopub.status.busy": "2025-04-23T21:27:21.736582Z",
     "iopub.status.idle": "2025-04-23T21:27:21.749502Z",
     "shell.execute_reply": "2025-04-23T21:27:21.748938Z"
    }
   },
   "outputs": [
    {
     "data": {
      "text/plain": [
       "(SpectralCube with shape=(75, 250, 250) and unit=Jy / beam:\n",
       "  n_x:    250  type_x: RA---SIN  unit_x: deg    range:   266.534072 deg:  266.554577 deg\n",
       "  n_y:    250  type_y: DEC--SIN  unit_y: deg    range:   -28.713958 deg:  -28.695975 deg\n",
       "  n_s:     75  type_s: VRAD      unit_s: km / s  range:      -43.509 km / s:     104.685 km / s,\n",
       " SpectralCube with shape=(221, 420, 420) and unit=Jy / beam:\n",
       "  n_x:    420  type_x: RA---SIN  unit_x: deg    range:   266.537002 deg:  266.551600 deg\n",
       "  n_y:    420  type_y: DEC--SIN  unit_y: deg    range:   -28.711371 deg:  -28.698569 deg\n",
       "  n_s:    221  type_s: VRAD      unit_s: km / s  range:      -43.432 km / s:     104.913 km / s)"
      ]
     },
     "execution_count": 16,
     "metadata": {},
     "output_type": "execute_result"
    }
   ],
   "source": [
    "cube2vel_cutout = cube2vel.spectral_slab(cube1vel.spectral_axis.min(),\n",
    "                                         cube1vel.spectral_axis.max())\n",
    "cube1vel, cube2vel_cutout"
   ]
  },
  {
   "cell_type": "markdown",
   "id": "29",
   "metadata": {},
   "source": [
    "Note that it is important for the to-be-interpolated cube, in this case `cube2`, to have pixels bounding `cube1`'s spectral axis, but in this case it does not.  If the pixel range doesn't overlap perfectly, it may blank out one of the edge pixels.  So, to fix this, we add a little buffer:"
   ]
  },
  {
   "cell_type": "code",
   "execution_count": 17,
   "id": "30",
   "metadata": {
    "execution": {
     "iopub.execute_input": "2025-04-23T21:27:21.751119Z",
     "iopub.status.busy": "2025-04-23T21:27:21.750943Z",
     "iopub.status.idle": "2025-04-23T21:27:21.763192Z",
     "shell.execute_reply": "2025-04-23T21:27:21.762712Z"
    }
   },
   "outputs": [
    {
     "data": {
      "text/plain": [
       "(SpectralCube with shape=(75, 250, 250) and unit=Jy / beam:\n",
       "  n_x:    250  type_x: RA---SIN  unit_x: deg    range:   266.534072 deg:  266.554577 deg\n",
       "  n_y:    250  type_y: DEC--SIN  unit_y: deg    range:   -28.713958 deg:  -28.695975 deg\n",
       "  n_s:     75  type_s: VRAD      unit_s: km / s  range:      -43.509 km / s:     104.685 km / s,\n",
       " SpectralCube with shape=(222, 420, 420) and unit=Jy / beam:\n",
       "  n_x:    420  type_x: RA---SIN  unit_x: deg    range:   266.537002 deg:  266.551600 deg\n",
       "  n_y:    420  type_y: DEC--SIN  unit_y: deg    range:   -28.711371 deg:  -28.698569 deg\n",
       "  n_s:    222  type_s: VRAD      unit_s: km / s  range:      -44.106 km / s:     104.913 km / s)"
      ]
     },
     "execution_count": 17,
     "metadata": {},
     "output_type": "execute_result"
    }
   ],
   "source": [
    "cube2vel_cutout = cube2vel.spectral_slab(cube1vel.spectral_axis.min() - velocity_res_2,\n",
    "                                         cube1vel.spectral_axis.max())\n",
    "cube1vel, cube2vel_cutout"
   ]
  },
  {
   "cell_type": "markdown",
   "id": "31",
   "metadata": {},
   "source": [
    "Our H2CS cube (`cube1vel`) has broader channels.  We need to first smooth `cube2vel` to the broader channel width before doing the spatial reprojection.\n",
    "\n",
    "To do this, we will spectrally smooth with a Gaussian with width set such that smoothing `cube2vel` will result in the same width as `cube1vel`.   We do this by finding the difference in widths when deconvolving the `cube1vel` channel width from `cube2vel`. For further information see the [documentation on smoothing](https://spectral-cube.readthedocs.io/en/latest/smoothing.html#spectral-smoothing).\n",
    "\n",
    "Note that if we did not do this smoothing step, we would under-sample the `cube2vel` data in the next downsampling step, reducing our signal-to-noise ratio.\n",
    "\n",
    "We have adopted a width equal to the channel width; the [line spread function](https://help.almascience.org/kb/articles/what-spectral-resolution-will-i-get-for-a-given-channel-spacing) is actually a Hanning-smoothed tophat.  We are making a coarse approximation here."
   ]
  },
  {
   "cell_type": "code",
   "execution_count": 18,
   "id": "32",
   "metadata": {
    "execution": {
     "iopub.execute_input": "2025-04-23T21:27:21.764851Z",
     "iopub.status.busy": "2025-04-23T21:27:21.764673Z",
     "iopub.status.idle": "2025-04-23T21:27:21.769166Z",
     "shell.execute_reply": "2025-04-23T21:27:21.768619Z"
    }
   },
   "outputs": [
    {
     "data": {
      "text/latex": [
       "$1.8856963 \\; \\mathrm{\\frac{km}{s}}$"
      ],
      "text/plain": [
       "<Quantity 1.88569628 km / s>"
      ]
     },
     "execution_count": 18,
     "metadata": {},
     "output_type": "execute_result"
    }
   ],
   "source": [
    "fwhm_gaussian = (velocity_res_1**2 - velocity_res_2**2)**0.5\n",
    "fwhm_gaussian"
   ]
  },
  {
   "cell_type": "code",
   "execution_count": 19,
   "id": "33",
   "metadata": {
    "execution": {
     "iopub.execute_input": "2025-04-23T21:27:21.770966Z",
     "iopub.status.busy": "2025-04-23T21:27:21.770557Z",
     "iopub.status.idle": "2025-04-23T21:27:21.774669Z",
     "shell.execute_reply": "2025-04-23T21:27:21.774082Z"
    }
   },
   "outputs": [],
   "source": [
    "from astropy.convolution import Gaussian1DKernel\n",
    "fwhm_to_sigma = np.sqrt(8*np.log(2))\n",
    "# we want the kernel in pixel units, so we force to km/s and take the value\n",
    "spectral_smoothing_kernel = Gaussian1DKernel(stddev=fwhm_gaussian.to(u.km/u.s).value / fwhm_to_sigma)"
   ]
  },
  {
   "cell_type": "markdown",
   "id": "34",
   "metadata": {},
   "source": [
    "We then smooth with the kernel.  Note that this is doing 420x420 = 176400 smoothing operations on a length-221 spectrum: it will take a little time"
   ]
  },
  {
   "cell_type": "code",
   "execution_count": 20,
   "id": "35",
   "metadata": {
    "execution": {
     "iopub.execute_input": "2025-04-23T21:27:21.776319Z",
     "iopub.status.busy": "2025-04-23T21:27:21.776114Z",
     "iopub.status.idle": "2025-04-23T21:27:39.529804Z",
     "shell.execute_reply": "2025-04-23T21:27:39.529151Z"
    }
   },
   "outputs": [
    {
     "name": "stderr",
     "output_type": "stream",
     "text": [
      "WARNING: nan_treatment='interpolate', however, NaN values detected post convolution. A contiguous region of NaN values, larger than the kernel size, are present in the input array. Increase the kernel size to avoid this. [astropy.convolution.convolve]\n"
     ]
    }
   ],
   "source": [
    "cube2vel_smooth = cube2vel_cutout.spectral_smooth(spectral_smoothing_kernel)"
   ]
  },
  {
   "cell_type": "markdown",
   "id": "36",
   "metadata": {},
   "source": [
    "Now that we've done spectral smoothing, we can resample the spectral axis of `cube2vel_smooth` to match `cube1vel` by interpolating `cube2vel_smooth` onto `cube1vel`'s grid:"
   ]
  },
  {
   "cell_type": "code",
   "execution_count": 21,
   "id": "37",
   "metadata": {
    "execution": {
     "iopub.execute_input": "2025-04-23T21:27:39.531727Z",
     "iopub.status.busy": "2025-04-23T21:27:39.531529Z",
     "iopub.status.idle": "2025-04-23T21:27:47.530976Z",
     "shell.execute_reply": "2025-04-23T21:27:47.530486Z"
    }
   },
   "outputs": [
    {
     "data": {
      "application/vnd.jupyter.widget-view+json": {
       "model_id": "755d601cb3bb4480b1ae0268f4fdb283",
       "version_major": 2,
       "version_minor": 0
      },
      "text/plain": [
       "Spectral Interpolate:   0%|          | 0/176400 [00:00<?, ?it/s]"
      ]
     },
     "metadata": {},
     "output_type": "display_data"
    },
    {
     "data": {
      "text/plain": [
       "SpectralCube with shape=(75, 420, 420) and unit=Jy / beam:\n",
       " n_x:    420  type_x: RA---SIN  unit_x: deg    range:   266.537002 deg:  266.551600 deg\n",
       " n_y:    420  type_y: DEC--SIN  unit_y: deg    range:   -28.711371 deg:  -28.698569 deg\n",
       " n_s:     75  type_s: VRAD      unit_s: km / s  range:      -43.509 km / s:     104.685 km / s"
      ]
     },
     "execution_count": 21,
     "metadata": {},
     "output_type": "execute_result"
    }
   ],
   "source": [
    "cube2vel_spectralresample = cube2vel_smooth.spectral_interpolate(cube1vel.spectral_axis,\n",
    "                                                                 suppress_smooth_warning=True)\n",
    "cube2vel_spectralresample"
   ]
  },
  {
   "cell_type": "markdown",
   "id": "38",
   "metadata": {},
   "source": [
    "Note that we included the `suppress_smooth_warning=True` argument.  That is to hide this warning:\n",
    "```\n",
    "WARNING: SmoothingWarning: Input grid has too small a spacing. The data should be smoothed prior to resampling. [spectral_cube.spectral_cube]\n",
    "```\n",
    "which will tell you if the operation will under-sample the original data.  The smoothing work we did above is specifically to make sure we are properly sampling, so this warning does not apply."
   ]
  },
  {
   "cell_type": "markdown",
   "id": "39",
   "metadata": {},
   "source": [
    "# Step 5. Spatial Smoothing"
   ]
  },
  {
   "cell_type": "markdown",
   "id": "40",
   "metadata": {},
   "source": [
    "Now that we've done spectral smoothing, we also need to follow a similar procedure of smoothing then resampling for the spatial axes.  \n",
    "\n",
    "The `beam` is the resolution element of our cubes:"
   ]
  },
  {
   "cell_type": "code",
   "execution_count": 22,
   "id": "41",
   "metadata": {
    "execution": {
     "iopub.execute_input": "2025-04-23T21:27:47.532829Z",
     "iopub.status.busy": "2025-04-23T21:27:47.532630Z",
     "iopub.status.idle": "2025-04-23T21:27:47.536813Z",
     "shell.execute_reply": "2025-04-23T21:27:47.536231Z"
    }
   },
   "outputs": [
    {
     "data": {
      "text/plain": [
       "(Beam: BMAJ=1.29719604986604 arcsec BMIN=1.04247149438736 arcsec BPA=82.95313553702 deg,\n",
       " Beam: BMAJ=0.8935712308515601 arcsec BMIN=0.6649610689789199 arcsec BPA=85.81119797802 deg)"
      ]
     },
     "execution_count": 22,
     "metadata": {},
     "output_type": "execute_result"
    }
   ],
   "source": [
    "cube1vel.beam, cube2vel_spectralresample.beam"
   ]
  },
  {
   "cell_type": "markdown",
   "id": "42",
   "metadata": {},
   "source": [
    "`cube1` again hase the larger beam, so we'll smooth `cube2` to its resolution"
   ]
  },
  {
   "cell_type": "markdown",
   "id": "43",
   "metadata": {},
   "source": [
    "#### Aside: mixed beams \n",
    "\n",
    "If cube1 and cube2 had different sized beams, but neither was clearly larger, we would have to convolve _both_ to a [common beam](https://radio-beam.readthedocs.io/en/latest/commonbeam.html#finding-the-smallest-common-beam).\n",
    "\n",
    "In this case, it's redundant and we could have just used `cube1`'s beam, but this is the more general approach:"
   ]
  },
  {
   "cell_type": "code",
   "execution_count": 23,
   "id": "44",
   "metadata": {
    "execution": {
     "iopub.execute_input": "2025-04-23T21:27:47.538575Z",
     "iopub.status.busy": "2025-04-23T21:27:47.538390Z",
     "iopub.status.idle": "2025-04-23T21:27:47.544491Z",
     "shell.execute_reply": "2025-04-23T21:27:47.543922Z"
    }
   },
   "outputs": [
    {
     "data": {
      "text/latex": [
       "Beam: BMAJ=$1.29719604986604^{''}$ BMIN=$1.04247149438736^{''}$ BPA=$82.95313553702^\\circ$"
      ],
      "text/plain": [
       "Beam: BMAJ=1.29719604986604 arcsec BMIN=1.04247149438736 arcsec BPA=82.95313553702 deg"
      ]
     },
     "execution_count": 23,
     "metadata": {},
     "output_type": "execute_result"
    }
   ],
   "source": [
    "import radio_beam\n",
    "common_beam = radio_beam.commonbeam.common_2beams(radio_beam.Beams(beams=[cube1vel.beam, cube2vel.beam]))\n",
    "common_beam"
   ]
  },
  {
   "cell_type": "markdown",
   "id": "45",
   "metadata": {},
   "source": [
    "We then convolve:"
   ]
  },
  {
   "cell_type": "code",
   "execution_count": 24,
   "id": "46",
   "metadata": {
    "execution": {
     "iopub.execute_input": "2025-04-23T21:27:47.546224Z",
     "iopub.status.busy": "2025-04-23T21:27:47.545891Z",
     "iopub.status.idle": "2025-04-23T21:27:49.785824Z",
     "shell.execute_reply": "2025-04-23T21:27:49.785260Z"
    }
   },
   "outputs": [
    {
     "data": {
      "text/plain": [
       "SpectralCube with shape=(75, 420, 420) and unit=Jy / beam:\n",
       " n_x:    420  type_x: RA---SIN  unit_x: deg    range:   266.537002 deg:  266.551600 deg\n",
       " n_y:    420  type_y: DEC--SIN  unit_y: deg    range:   -28.711371 deg:  -28.698569 deg\n",
       " n_s:     75  type_s: VRAD      unit_s: km / s  range:      -43.509 km / s:     104.685 km / s"
      ]
     },
     "execution_count": 24,
     "metadata": {},
     "output_type": "execute_result"
    }
   ],
   "source": [
    "# for v<0.6, we convert to Kelvin to ensure the units are preserved:\n",
    "# cube2vel_spatialspectralsmooth = cube2vel_spectralresample.to(u.K).convolve_to(common_beam)\n",
    "# in more recent versions, the unit conversion is handled appropriately,\n",
    "# so unit conversion isn't needed\n",
    "cube2vel_spatialspectralsmooth = cube2vel_spectralresample.convolve_to(common_beam)\n",
    "cube2vel_spatialspectralsmooth"
   ]
  },
  {
   "cell_type": "markdown",
   "id": "47",
   "metadata": {},
   "source": [
    "# Step 6. Reprojection\n",
    "\n",
    "Now we can do the spatial resampling as the final step for producing two cubes matched to the same spatial and spectral pixel grid:"
   ]
  },
  {
   "cell_type": "code",
   "execution_count": 25,
   "id": "48",
   "metadata": {
    "execution": {
     "iopub.execute_input": "2025-04-23T21:27:49.787737Z",
     "iopub.status.busy": "2025-04-23T21:27:49.787370Z",
     "iopub.status.idle": "2025-04-23T21:28:02.409042Z",
     "shell.execute_reply": "2025-04-23T21:28:02.408445Z"
    }
   },
   "outputs": [
    {
     "data": {
      "text/plain": [
       "SpectralCube with shape=(75, 250, 250) and unit=Jy / beam:\n",
       " n_x:    250  type_x: RA---SIN  unit_x: deg    range:   266.534072 deg:  266.554577 deg\n",
       " n_y:    250  type_y: DEC--SIN  unit_y: deg    range:   -28.713958 deg:  -28.695975 deg\n",
       " n_s:     75  type_s: VRAD      unit_s: km / s  range:      -43.509 km / s:     104.685 km / s"
      ]
     },
     "execution_count": 25,
     "metadata": {},
     "output_type": "execute_result"
    }
   ],
   "source": [
    "# first we make a copy of the target (cube1vel) header and set its rest frequency \n",
    "# to that of the cube we're reprojecting (cube2vel_spatialspectralsmooth)\n",
    "# (see https://github.com/radio-astro-tools/spectral-cube/issues/874)\n",
    "tgthdr = cube1vel.header\n",
    "tgthdr['RESTFRQ'] = cube2vel_spatialspectralsmooth.header['RESTFRQ']\n",
    "\n",
    "# now we continue with the reprojection\n",
    "cube2vel_reproj = cube2vel_spatialspectralsmooth.reproject(tgthdr)\n",
    "cube2vel_reproj"
   ]
  },
  {
   "cell_type": "markdown",
   "id": "49",
   "metadata": {},
   "source": [
    "These two cubes are now on an identical grid, and can be directly compared:"
   ]
  },
  {
   "cell_type": "code",
   "execution_count": 26,
   "id": "50",
   "metadata": {
    "execution": {
     "iopub.execute_input": "2025-04-23T21:28:02.410946Z",
     "iopub.status.busy": "2025-04-23T21:28:02.410746Z",
     "iopub.status.idle": "2025-04-23T21:28:02.414830Z",
     "shell.execute_reply": "2025-04-23T21:28:02.414376Z"
    }
   },
   "outputs": [
    {
     "data": {
      "text/plain": [
       "(SpectralCube with shape=(75, 250, 250) and unit=Jy / beam:\n",
       "  n_x:    250  type_x: RA---SIN  unit_x: deg    range:   266.534072 deg:  266.554577 deg\n",
       "  n_y:    250  type_y: DEC--SIN  unit_y: deg    range:   -28.713958 deg:  -28.695975 deg\n",
       "  n_s:     75  type_s: VRAD      unit_s: km / s  range:      -43.509 km / s:     104.685 km / s,\n",
       " SpectralCube with shape=(75, 250, 250) and unit=Jy / beam:\n",
       "  n_x:    250  type_x: RA---SIN  unit_x: deg    range:   266.534072 deg:  266.554577 deg\n",
       "  n_y:    250  type_y: DEC--SIN  unit_y: deg    range:   -28.713958 deg:  -28.695975 deg\n",
       "  n_s:     75  type_s: VRAD      unit_s: km / s  range:      -43.509 km / s:     104.685 km / s)"
      ]
     },
     "execution_count": 26,
     "metadata": {},
     "output_type": "execute_result"
    }
   ],
   "source": [
    "cube2vel_reproj, cube1vel"
   ]
  },
  {
   "cell_type": "markdown",
   "id": "51",
   "metadata": {},
   "source": [
    "These spectra can now be overplotted as they are in the same unit with the same beam."
   ]
  },
  {
   "cell_type": "code",
   "execution_count": 27,
   "id": "52",
   "metadata": {
    "execution": {
     "iopub.execute_input": "2025-04-23T21:28:02.416583Z",
     "iopub.status.busy": "2025-04-23T21:28:02.416214Z",
     "iopub.status.idle": "2025-04-23T21:28:02.694314Z",
     "shell.execute_reply": "2025-04-23T21:28:02.693786Z"
    }
   },
   "outputs": [
    {
     "data": {
      "image/png": "[encoded data removed]",
      "text/plain": [
       "<Figure size 640x480 with 1 Axes>"
      ]
     },
     "metadata": {},
     "output_type": "display_data"
    }
   ],
   "source": [
    "cube1vel[:,125,125].quicklook()\n",
    "cube2vel_reproj[:,125,125].quicklook()"
   ]
  },
  {
   "cell_type": "markdown",
   "id": "53",
   "metadata": {},
   "source": [
    "# Dask\n",
    "\n",
    "All of the above can be done using `dask` as the underlying framework to parallelize the operations.\n",
    "See [the spectral-cube documentation on dask integration](https://spectral-cube.readthedocs.io/en/latest/dask.html) or the [dask documentation](https://dask.org/) for further details.\n",
    "\n",
    "The dask approach can be made more memory-efficient (avoid using too much RAM) by writing intermediate steps to disk.  The non-dask approach used above will generally need to read the whole cube into memory.  Depending on the situation, either approach may be faster, but `dask` may be needed if the cube is larger than memory."
   ]
  },
  {
   "cell_type": "markdown",
   "id": "54",
   "metadata": {},
   "source": [
    "We repeat all the operations above using dask.  We use a `ProgressBar` so you can see how long it takes.  We also suppress warnings to make the output look cleaner (we already saw all the important warnings above)."
   ]
  },
  {
   "cell_type": "code",
   "execution_count": 28,
   "id": "55",
   "metadata": {
    "execution": {
     "iopub.execute_input": "2025-04-23T21:28:02.696396Z",
     "iopub.status.busy": "2025-04-23T21:28:02.696024Z",
     "iopub.status.idle": "2025-04-23T21:28:02.700640Z",
     "shell.execute_reply": "2025-04-23T21:28:02.700193Z"
    }
   },
   "outputs": [],
   "source": [
    "from dask.diagnostics import ProgressBar\n",
    "import warnings"
   ]
  },
  {
   "cell_type": "code",
   "execution_count": 29,
   "id": "56",
   "metadata": {
    "execution": {
     "iopub.execute_input": "2025-04-23T21:28:02.702233Z",
     "iopub.status.busy": "2025-04-23T21:28:02.702062Z",
     "iopub.status.idle": "2025-04-23T21:30:42.253596Z",
     "shell.execute_reply": "2025-04-23T21:30:42.253044Z"
    }
   },
   "outputs": [
    {
     "name": "stdout",
     "output_type": "stream",
     "text": [
      "\r",
      "[                                        ] | 0% Completed | 241.34 us"
     ]
    },
    {
     "name": "stdout",
     "output_type": "stream",
     "text": [
      "\r",
      "[                                        ] | 0% Completed | 102.84 ms"
     ]
    },
    {
     "name": "stdout",
     "output_type": "stream",
     "text": [
      "\r",
      "[                                        ] | 0% Completed | 205.73 ms"
     ]
    },
    {
     "name": "stdout",
     "output_type": "stream",
     "text": [
      "\r",
      "[                                        ] | 0% Completed | 441.20 ms"
     ]
    },
    {
     "name": "stdout",
     "output_type": "stream",
     "text": [
      "\r",
      "[                                        ] | 0% Completed | 701.44 ms"
     ]
    },
    {
     "name": "stdout",
     "output_type": "stream",
     "text": [
      "\r",
      "[                                        ] | 0% Completed | 810.34 ms"
     ]
    },
    {
     "name": "stdout",
     "output_type": "stream",
     "text": [
      "\r",
      "[                                        ] | 0% Completed | 1.58 s"
     ]
    },
    {
     "name": "stdout",
     "output_type": "stream",
     "text": [
      "\r",
      "[                                        ] | 0% Completed | 1.69 s"
     ]
    },
    {
     "name": "stdout",
     "output_type": "stream",
     "text": [
      "\r",
      "[                                        ] | 0% Completed | 1.94 s"
     ]
    },
    {
     "name": "stdout",
     "output_type": "stream",
     "text": [
      "\r",
      "[                                        ] | 0% Completed | 2.24 s"
     ]
    },
    {
     "name": "stdout",
     "output_type": "stream",
     "text": [
      "\r",
      "[                                        ] | 0% Completed | 2.34 s"
     ]
    },
    {
     "name": "stdout",
     "output_type": "stream",
     "text": [
      "\r",
      "[                                        ] | 0% Completed | 2.44 s"
     ]
    },
    {
     "name": "stdout",
     "output_type": "stream",
     "text": [
      "\r",
      "[                                        ] | 0% Completed | 3.22 s"
     ]
    },
    {
     "name": "stdout",
     "output_type": "stream",
     "text": [
      "\r",
      "[                                        ] | 0% Completed | 3.32 s"
     ]
    },
    {
     "name": "stdout",
     "output_type": "stream",
     "text": [
      "\r",
      "[                                        ] | 0% Completed | 3.42 s"
     ]
    },
    {
     "name": "stdout",
     "output_type": "stream",
     "text": [
      "\r",
      "[                                        ] | 0% Completed | 3.52 s"
     ]
    },
    {
     "name": "stdout",
     "output_type": "stream",
     "text": [
      "\r",
      "[                                        ] | 0% Completed | 153.29 s"
     ]
    },
    {
     "name": "stdout",
     "output_type": "stream",
     "text": [
      "\r",
      "[                                        ] | 0% Completed | 153.39 s"
     ]
    },
    {
     "name": "stdout",
     "output_type": "stream",
     "text": [
      "\r",
      "[                                        ] | 0% Completed | 153.72 s"
     ]
    },
    {
     "name": "stdout",
     "output_type": "stream",
     "text": [
      "\r",
      "[                                        ] | 0% Completed | 153.97 s"
     ]
    },
    {
     "name": "stdout",
     "output_type": "stream",
     "text": [
      "\r",
      "[                                        ] | 0% Completed | 154.82 s"
     ]
    },
    {
     "name": "stdout",
     "output_type": "stream",
     "text": [
      "\r",
      "[                                        ] | 0% Completed | 154.92 s"
     ]
    },
    {
     "name": "stdout",
     "output_type": "stream",
     "text": [
      "\r",
      "[                                        ] | 0% Completed | 155.02 s"
     ]
    },
    {
     "name": "stdout",
     "output_type": "stream",
     "text": [
      "\r",
      "[########################################] | 100% Completed | 155.12 s"
     ]
    },
    {
     "name": "stdout",
     "output_type": "stream",
     "text": [
      "\n"
     ]
    },
    {
     "data": {
      "text/plain": [
       "DaskSpectralCube with shape=(75, 250, 250) and unit=Jy / beam and chunk size (75, 250, 250):\n",
       " n_x:    250  type_x: RA---SIN  unit_x: deg    range:   266.534072 deg:  266.554577 deg\n",
       " n_y:    250  type_y: DEC--SIN  unit_y: deg    range:   -28.713958 deg:  -28.695975 deg\n",
       " n_s:     75  type_s: VRAD      unit_s: km / s  range:      -43.509 km / s:     104.685 km / s"
      ]
     },
     "execution_count": 29,
     "metadata": {},
     "output_type": "execute_result"
    }
   ],
   "source": [
    "with warnings.catch_warnings():\n",
    "    warnings.simplefilter('ignore')\n",
    "    with ProgressBar():\n",
    "        cube2dask = SpectralCube.read(filename_2, use_dask=True)\n",
    "        cube2daskvel = cube2dask.with_spectral_unit(u.km/u.s,\n",
    "                                            velocity_convention='radio', rest_value=217.104984*u.GHz)\n",
    "        cube2daskvel_cutout = cube2daskvel.spectral_slab(cube1vel.spectral_axis.min() - velocity_res_2,\n",
    "                                                 cube1vel.spectral_axis.max())\n",
    "        cube2daskvel_smooth = cube2daskvel_cutout.spectral_smooth(spectral_smoothing_kernel)\n",
    "        cube2daskvel_spectralresample = cube2daskvel_smooth.spectral_interpolate(cube1vel.spectral_axis,\n",
    "                                                                             suppress_smooth_warning=True)\n",
    "        cube2daskvel_spatialspectralsmooth = cube2daskvel_spectralresample.convolve_to(common_beam)\n",
    "        cube2daskvel_reproj = cube2daskvel_spatialspectralsmooth.reproject(tgthdr) # as above, tgthdr is altered cube1vel header\n",
    "cube2daskvel_reproj"
   ]
  },
  {
   "cell_type": "code",
   "execution_count": null,
   "id": "57",
   "metadata": {},
   "outputs": [],
   "source": []
  }
 ],
 "metadata": {
  "language_info": {
   "codemirror_mode": {
    "name": "ipython",
    "version": 3
   },
   "file_extension": ".py",
   "mimetype": "text/x-python",
   "name": "python",
   "nbconvert_exporter": "python",
   "pygments_lexer": "ipython3",
   "version": "3.12.10"
  },
  "widgets": {
   "application/vnd.jupyter.widget-state+json": {
    "state": {
     "02ad3622e7c24591b3eece9cc8cf45f7": {
      "model_module": "@jupyter-widgets/controls",
      "model_module_version": "2.0.0",
      "model_name": "FloatProgressModel",
      "state": {
       "_dom_classes": [],
       "_model_module": "@jupyter-widgets/controls",
       "_model_module_version": "2.0.0",
       "_model_name": "FloatProgressModel",
       "_view_count": null,
       "_view_module": "@jupyter-widgets/controls",
       "_view_module_version": "2.0.0",
       "_view_name": "ProgressView",
       "bar_style": "success",
       "description": "",
       "description_allow_html": false,
       "layout": "IPY_MODEL_79e3ca4323944a9aa7d6b1a7f0ab7844",
       "max": 176400.0,
       "min": 0.0,
       "orientation": "horizontal",
       "style": "IPY_MODEL_8e0cfbd8c7fb4b57bc4d4804e5f38cad",
       "tabbable": null,
       "tooltip": null,
       "value": 176400.0
      }
     },
     "0938a1212ac444be8719945a7ba89baa": {
      "model_module": "ipydatagrid",
      "model_module_version": "^1.4.0",
      "model_name": "VegaExprModel",
      "state": {
       "_model_module": "ipydatagrid",
       "_model_module_version": "^1.4.0",
       "_model_name": "VegaExprModel",
       "_view_count": null,
       "_view_module": "ipydatagrid",
       "_view_module_version": "^1.4.0",
       "_view_name": "VegaExprView",
       "value": "default_value"
      }
     },
     "15dd9bdb42fe42f7ab7eb3da3503ba7d": {
      "model_module": "ipydatagrid",
      "model_module_version": "^1.4.0",
      "model_name": "VegaExprModel",
      "state": {
       "_model_module": "ipydatagrid",
       "_model_module_version": "^1.4.0",
       "_model_name": "VegaExprModel",
       "_view_count": null,
       "_view_module": "ipydatagrid",
       "_view_module_version": "^1.4.0",
       "_view_name": "VegaExprView",
       "value": "default_value"
      }
     },
     "259435a3586a405898f8ad5b62bcde48": {
      "model_module": "@jupyter-widgets/base",
      "model_module_version": "2.0.0",
      "model_name": "LayoutModel",
      "state": {
       "_model_module": "@jupyter-widgets/base",
       "_model_module_version": "2.0.0",
       "_model_name": "LayoutModel",
       "_view_count": null,
       "_view_module": "@jupyter-widgets/base",
       "_view_module_version": "2.0.0",
       "_view_name": "LayoutView",
       "align_content": null,
       "align_items": null,
       "align_self": null,
       "border_bottom": null,
       "border_left": null,
       "border_right": null,
       "border_top": null,
       "bottom": null,
       "display": null,
       "flex": null,
       "flex_flow": null,
       "grid_area": null,
       "grid_auto_columns": null,
       "grid_auto_flow": null,
       "grid_auto_rows": null,
       "grid_column": null,
       "grid_gap": null,
       "grid_row": null,
       "grid_template_areas": null,
       "grid_template_columns": null,
       "grid_template_rows": null,
       "height": null,
       "justify_content": null,
       "justify_items": null,
       "left": null,
       "margin": null,
       "max_height": null,
       "max_width": null,
       "min_height": null,
       "min_width": null,
       "object_fit": null,
       "object_position": null,
       "order": null,
       "overflow": null,
       "padding": null,
       "right": null,
       "top": null,
       "visibility": null,
       "width": null
      }
     },
     "2e06aa89066440f6abe9502c113669db": {
      "model_module": "ipydatagrid",
      "model_module_version": "^1.4.0",
      "model_name": "TextRendererModel",
      "state": {
       "_model_module": "ipydatagrid",
       "_model_module_version": "^1.4.0",
       "_model_name": "TextRendererModel",
       "_view_count": null,
       "_view_module": "ipydatagrid",
       "_view_module_version": "^1.4.0",
       "_view_name": "TextRendererView",
       "background_color": "IPY_MODEL_0938a1212ac444be8719945a7ba89baa",
       "font": "12px sans-serif",
       "format": null,
       "format_type": "number",
       "horizontal_alignment": "left",
       "missing": "",
       "text_color": "IPY_MODEL_15dd9bdb42fe42f7ab7eb3da3503ba7d",
       "text_elide_direction": "right",
       "text_value": null,
       "text_wrap": false,
       "vertical_alignment": "center"
      }
     },
     "337f566637a943ac9cbc5e7f48aaded3": {
      "model_module": "@jupyter-widgets/base",
      "model_module_version": "2.0.0",
      "model_name": "LayoutModel",
      "state": {
       "_model_module": "@jupyter-widgets/base",
       "_model_module_version": "2.0.0",
       "_model_name": "LayoutModel",
       "_view_count": null,
       "_view_module": "@jupyter-widgets/base",
       "_view_module_version": "2.0.0",
       "_view_name": "LayoutView",
       "align_content": null,
       "align_items": null,
       "align_self": null,
       "border_bottom": null,
       "border_left": null,
       "border_right": null,
       "border_top": null,
       "bottom": null,
       "display": null,
       "flex": null,
       "flex_flow": null,
       "grid_area": null,
       "grid_auto_columns": null,
       "grid_auto_flow": null,
       "grid_auto_rows": null,
       "grid_column": null,
       "grid_gap": null,
       "grid_row": null,
       "grid_template_areas": null,
       "grid_template_columns": null,
       "grid_template_rows": null,
       "height": null,
       "justify_content": null,
       "justify_items": null,
       "left": null,
       "margin": null,
       "max_height": null,
       "max_width": null,
       "min_height": null,
       "min_width": null,
       "object_fit": null,
       "object_position": null,
       "order": null,
       "overflow": null,
       "padding": null,
       "right": null,
       "top": null,
       "visibility": null,
       "width": null
      }
     },
     "424fbafeea0d4a6a99fbabda6f75ec70": {
      "model_module": "@jupyter-widgets/base",
      "model_module_version": "2.0.0",
      "model_name": "LayoutModel",
      "state": {
       "_model_module": "@jupyter-widgets/base",
       "_model_module_version": "2.0.0",
       "_model_name": "LayoutModel",
       "_view_count": null,
       "_view_module": "@jupyter-widgets/base",
       "_view_module_version": "2.0.0",
       "_view_name": "LayoutView",
       "align_content": null,
       "align_items": null,
       "align_self": null,
       "border_bottom": null,
       "border_left": null,
       "border_right": null,
       "border_top": null,
       "bottom": null,
       "display": null,
       "flex": null,
       "flex_flow": null,
       "grid_area": null,
       "grid_auto_columns": null,
       "grid_auto_flow": null,
       "grid_auto_rows": null,
       "grid_column": null,
       "grid_gap": null,
       "grid_row": null,
       "grid_template_areas": null,
       "grid_template_columns": null,
       "grid_template_rows": null,
       "height": null,
       "justify_content": null,
       "justify_items": null,
       "left": null,
       "margin": null,
       "max_height": null,
       "max_width": null,
       "min_height": null,
       "min_width": null,
       "object_fit": null,
       "object_position": null,
       "order": null,
       "overflow": null,
       "padding": null,
       "right": null,
       "top": null,
       "visibility": null,
       "width": null
      }
     },
     "5b3ebda1cf8f49a8a65c4d3504e48417": {
      "model_module": "ipydatagrid",
      "model_module_version": "^1.4.0",
      "model_name": "TextRendererModel",
      "state": {
       "_model_module": "ipydatagrid",
       "_model_module_version": "^1.4.0",
       "_model_name": "TextRendererModel",
       "_view_count": null,
       "_view_module": "ipydatagrid",
       "_view_module_version": "^1.4.0",
       "_view_name": "TextRendererView",
       "background_color": "IPY_MODEL_613c9c72357b406fb247b29a7fb5d2a0",
       "font": "12px sans-serif",
       "format": null,
       "format_type": "number",
       "horizontal_alignment": "left",
       "missing": "",
       "text_color": "IPY_MODEL_f50b5149216747babda0fbaf46fb445e",
       "text_elide_direction": "right",
       "text_value": null,
       "text_wrap": false,
       "vertical_alignment": "center"
      }
     },
     "5ba857a5c8a64cfa963a535c595cd295": {
      "model_module": "@jupyter-widgets/controls",
      "model_module_version": "2.0.0",
      "model_name": "HTMLStyleModel",
      "state": {
       "_model_module": "@jupyter-widgets/controls",
       "_model_module_version": "2.0.0",
       "_model_name": "HTMLStyleModel",
       "_view_count": null,
       "_view_module": "@jupyter-widgets/base",
       "_view_module_version": "2.0.0",
       "_view_name": "StyleView",
       "background": null,
       "description_width": "",
       "font_size": null,
       "text_color": null
      }
     },
     "613c9c72357b406fb247b29a7fb5d2a0": {
      "model_module": "ipydatagrid",
      "model_module_version": "^1.4.0",
      "model_name": "VegaExprModel",
      "state": {
       "_model_module": "ipydatagrid",
       "_model_module_version": "^1.4.0",
       "_model_name": "VegaExprModel",
       "_view_count": null,
       "_view_module": "ipydatagrid",
       "_view_module_version": "^1.4.0",
       "_view_name": "VegaExprView",
       "value": "default_value"
      }
     },
     "755d601cb3bb4480b1ae0268f4fdb283": {
      "model_module": "@jupyter-widgets/controls",
      "model_module_version": "2.0.0",
      "model_name": "HBoxModel",
      "state": {
       "_dom_classes": [],
       "_model_module": "@jupyter-widgets/controls",
       "_model_module_version": "2.0.0",
       "_model_name": "HBoxModel",
       "_view_count": null,
       "_view_module": "@jupyter-widgets/controls",
       "_view_module_version": "2.0.0",
       "_view_name": "HBoxView",
       "box_style": "",
       "children": [
        "IPY_MODEL_79f857c7cc6f44f98678164cfa6480be",
        "IPY_MODEL_02ad3622e7c24591b3eece9cc8cf45f7",
        "IPY_MODEL_e742c3c746174af4859918b57606f88d"
       ],
       "layout": "IPY_MODEL_e9f228b36bb14509a4dae0b55cfbc42c",
       "tabbable": null,
       "tooltip": null
      }
     },
     "79e3ca4323944a9aa7d6b1a7f0ab7844": {
      "model_module": "@jupyter-widgets/base",
      "model_module_version": "2.0.0",
      "model_name": "LayoutModel",
      "state": {
       "_model_module": "@jupyter-widgets/base",
       "_model_module_version": "2.0.0",
       "_model_name": "LayoutModel",
       "_view_count": null,
       "_view_module": "@jupyter-widgets/base",
       "_view_module_version": "2.0.0",
       "_view_name": "LayoutView",
       "align_content": null,
       "align_items": null,
       "align_self": null,
       "border_bottom": null,
       "border_left": null,
       "border_right": null,
       "border_top": null,
       "bottom": null,
       "display": null,
       "flex": null,
       "flex_flow": null,
       "grid_area": null,
       "grid_auto_columns": null,
       "grid_auto_flow": null,
       "grid_auto_rows": null,
       "grid_column": null,
       "grid_gap": null,
       "grid_row": null,
       "grid_template_areas": null,
       "grid_template_columns": null,
       "grid_template_rows": null,
       "height": null,
       "justify_content": null,
       "justify_items": null,
       "left": null,
       "margin": null,
       "max_height": null,
       "max_width": null,
       "min_height": null,
       "min_width": null,
       "object_fit": null,
       "object_position": null,
       "order": null,
       "overflow": null,
       "padding": null,
       "right": null,
       "top": null,
       "visibility": null,
       "width": null
      }
     },
     "79f857c7cc6f44f98678164cfa6480be": {
      "model_module": "@jupyter-widgets/controls",
      "model_module_version": "2.0.0",
      "model_name": "HTMLModel",
      "state": {
       "_dom_classes": [],
       "_model_module": "@jupyter-widgets/controls",
       "_model_module_version": "2.0.0",
       "_model_name": "HTMLModel",
       "_view_count": null,
       "_view_module": "@jupyter-widgets/controls",
       "_view_module_version": "2.0.0",
       "_view_name": "HTMLView",
       "description": "",
       "description_allow_html": false,
       "layout": "IPY_MODEL_424fbafeea0d4a6a99fbabda6f75ec70",
       "placeholder": "​",
       "style": "IPY_MODEL_82949612a4004fa1891a9ba556547064",
       "tabbable": null,
       "tooltip": null,
       "value": "Spectral Interpolate: 100%"
      }
     },
     "82949612a4004fa1891a9ba556547064": {
      "model_module": "@jupyter-widgets/controls",
      "model_module_version": "2.0.0",
      "model_name": "HTMLStyleModel",
      "state": {
       "_model_module": "@jupyter-widgets/controls",
       "_model_module_version": "2.0.0",
       "_model_name": "HTMLStyleModel",
       "_view_count": null,
       "_view_module": "@jupyter-widgets/base",
       "_view_module_version": "2.0.0",
       "_view_name": "StyleView",
       "background": null,
       "description_width": "",
       "font_size": null,
       "text_color": null
      }
     },
     "882815024c434a1daa7104fe51195398": {
      "model_module": "@jupyter-widgets/base",
      "model_module_version": "2.0.0",
      "model_name": "LayoutModel",
      "state": {
       "_model_module": "@jupyter-widgets/base",
       "_model_module_version": "2.0.0",
       "_model_name": "LayoutModel",
       "_view_count": null,
       "_view_module": "@jupyter-widgets/base",
       "_view_module_version": "2.0.0",
       "_view_name": "LayoutView",
       "align_content": null,
       "align_items": null,
       "align_self": null,
       "border_bottom": null,
       "border_left": null,
       "border_right": null,
       "border_top": null,
       "bottom": null,
       "display": null,
       "flex": null,
       "flex_flow": null,
       "grid_area": null,
       "grid_auto_columns": null,
       "grid_auto_flow": null,
       "grid_auto_rows": null,
       "grid_column": null,
       "grid_gap": null,
       "grid_row": null,
       "grid_template_areas": null,
       "grid_template_columns": null,
       "grid_template_rows": null,
       "height": null,
       "justify_content": null,
       "justify_items": null,
       "left": null,
       "margin": null,
       "max_height": null,
       "max_width": null,
       "min_height": null,
       "min_width": null,
       "object_fit": null,
       "object_position": null,
       "order": null,
       "overflow": null,
       "padding": null,
       "right": null,
       "top": null,
       "visibility": null,
       "width": null
      }
     },
     "8e0cfbd8c7fb4b57bc4d4804e5f38cad": {
      "model_module": "@jupyter-widgets/controls",
      "model_module_version": "2.0.0",
      "model_name": "ProgressStyleModel",
      "state": {
       "_model_module": "@jupyter-widgets/controls",
       "_model_module_version": "2.0.0",
       "_model_name": "ProgressStyleModel",
       "_view_count": null,
       "_view_module": "@jupyter-widgets/base",
       "_view_module_version": "2.0.0",
       "_view_name": "StyleView",
       "bar_color": null,
       "description_width": ""
      }
     },
     "a03c775b634b45f3ad5ab18da55aba4b": {
      "buffers": [
       {
        "data": "AAAAAAEAAAACAAAAAwAAAA==",
        "encoding": "base64",
        "path": [
         "_data",
         "data",
         "key",
         "value"
        ]
       },
       {
        "data": "0gAAANIAAADSAAAA0gAAAA==",
        "encoding": "base64",
        "path": [
         "_data",
         "data",
         "species_id",
         "value"
        ]
       },
       {
        "data": "L90kBoElMEBuowG8BSIwQDVeukkMIjBAAAAAAAAAAAA=",
        "encoding": "base64",
        "path": [
         "_data",
         "data",
         "lower_state_energy",
         "value"
        ]
       },
       {
        "data": "v/G1Z5bMNED+t5IdG8k0QAwfEVMiyTRAAAAAAAAAAAA=",
        "encoding": "base64",
        "path": [
         "_data",
         "data",
         "upper_state_energy",
         "value"
        ]
       },
       {
        "data": "+IiYEkmEPkBwd9Zuu5g+QPFG5pE/mD5AAAAAAAAAAAA=",
        "encoding": "base64",
        "path": [
         "_data",
         "data",
         "sijmu2",
         "value"
        ]
       },
       {
        "data": "GQRWDi1yJkCNl24Sg4AmQAAAAAAAAA5AAAAAAAAAAAA=",
        "encoding": "base64",
        "path": [
         "_data",
         "data",
         "sij",
         "value"
        ]
       },
       {
        "data": "C2MLQQ7KEcB+NQcI5sgRwCBe1y/YjQ/AAAAAAAAAAAA=",
        "encoding": "base64",
        "path": [
         "_data",
         "data",
         "aij",
         "value"
        ]
       },
       {
        "data": "AQAAAAAAAAAAAAAAAAAAAA==",
        "encoding": "base64",
        "path": [
         "_data",
         "data",
         "Lovas_NRAO",
         "value"
        ]
       },
       {
        "data": "exSuR9sGAUFos+pz3QYBQd9PjZfdBgFB30+Nl90GAUE=",
        "encoding": "base64",
        "path": [
         "_data",
         "data",
         "orderedfreq",
         "value"
        ]
       },
       {
        "data": "esISDyg7N0DnxvSEJTY3QMoyxLEuNjdAAAAAAAAAAAA=",
        "encoding": "base64",
        "path": [
         "_data",
         "data",
         "lower_state_energy_K",
         "value"
        ]
       },
       {
        "data": "FJZ4QNnsPUDHRiBe1+c9QPJetTLh5z1AAAAAAAAAAAA=",
        "encoding": "base64",
        "path": [
         "_data",
         "data",
         "upper_state_energy_K",
         "value"
        ]
       },
       {
        "data": "TUz//1NK//8AAAAAAAAAAA==",
        "encoding": "base64",
        "path": [
         "_data",
         "data",
         "moleculeTag",
         "value"
        ]
       },
       {
        "data": "LwEAAC8BAAAAAAAAAAAAAA==",
        "encoding": "base64",
        "path": [
         "_data",
         "data",
         "qnCode",
         "value"
        ]
       },
       {
        "data": "lwk+ANoLPgDnIjkAt/o4AA==",
        "encoding": "base64",
        "path": [
         "_data",
         "data",
         "lineid",
         "value"
        ]
       },
       {
        "data": "AAAAAAAAAAABAAAAAAAAAA==",
        "encoding": "base64",
        "path": [
         "_data",
         "data",
         "transition_in_space",
         "value"
        ]
       },
       {
        "data": "AAAAAAAAAAAAAAAAAAAAAA==",
        "encoding": "base64",
        "path": [
         "_data",
         "data",
         "transition_in_G358",
         "value"
        ]
       },
       {
        "data": "AAAAAAAAAAAAAAAAAAAAAA==",
        "encoding": "base64",
        "path": [
         "_data",
         "data",
         "requestnumber",
         "value"
        ]
       },
       {
        "data": "AAAAAAEAAAACAAAAAwAAAA==",
        "encoding": "base64",
        "path": [
         "_data",
         "data",
         "ipydguuid",
         "value"
        ]
       }
      ],
      "model_module": "ipydatagrid",
      "model_module_version": "^1.4.0",
      "model_name": "DataGridModel",
      "state": {
       "_data": {
        "data": {
         "LovasASTIntensity": [
          " 0.17",
          " ",
          " 0.17",
          " 0.17"
         ],
         "Lovas_NRAO": {
          "dtype": "int32",
          "shape": [
           4
          ],
          "type": null
         },
         "aij": {
          "dtype": "float64",
          "shape": [
           4
          ],
          "type": null
         },
         "chemical_name": [
          "Thioformaldehyde",
          "Thioformaldehyde",
          "Thioformaldehyde",
          "Thioformaldehyde"
         ],
         "intintensity": [
          "",
          "",
          "",
          ""
         ],
         "ipydguuid": {
          "dtype": "int32",
          "shape": [
           4
          ],
          "type": null
         },
         "key": {
          "dtype": "int32",
          "shape": [
           4
          ],
          "type": null
         },
         "labref_Lovas_NIST": [
          " ",
          " ",
          "   Mar05",
          ""
         ],
         "lineid": {
          "dtype": "int32",
          "shape": [
           4
          ],
          "type": null
         },
         "linelist": [
          "JPL",
          "CDMS",
          "SLAIM",
          "Lovas"
         ],
         "lower_state_energy": {
          "dtype": "float64",
          "shape": [
           4
          ],
          "type": null
         },
         "lower_state_energy_K": {
          "dtype": "float64",
          "shape": [
           4
          ],
          "type": null
         },
         "measFreq": [
          "139.48341 (0.28), <span style = 'color: #DC143C'>139.48341</span>",
          "139.4836816 (0.05), <span style = 'color: #DC143C'>139.4836816</span>",
          "139.483741 (0.024), <span style = 'color: #DC143C'>139.483741</span>",
          " <span style = 'color: #DC143C'></span>"
         ],
         "moleculeTag": {
          "dtype": "int32",
          "shape": [
           4
          ],
          "type": null
         },
         "name": [
          "H<sub>2</sub>CS",
          "H<sub>2</sub>CS",
          "H<sub>2</sub>CS",
          "H<sub>2</sub>CS"
         ],
         "obsref_Lovas_NIST": [
          "Lor84a",
          " ",
          " ",
          "Lor84a"
         ],
         "orderedFreq": [
          " <span style = 'color: #DC143C'></span>",
          " <span style = 'color: #DC143C'></span>",
          "139.483699 (0.017), <span style = 'color: #DC143C'>139.483699</span>",
          "139.483699 (0.017), <span style = 'color: #DC143C'>139.483699</span>"
         ],
         "orderedfreq": {
          "dtype": "float64",
          "shape": [
           4
          ],
          "type": null
         },
         "qnCode": {
          "dtype": "int32",
          "shape": [
           4
          ],
          "type": null
         },
         "rel_int_HFS_Lovas": [
          " ",
          " ",
          "",
          " "
         ],
         "requestnumber": {
          "dtype": "int32",
          "shape": [
           4
          ],
          "type": null
         },
         "resolved_QNs": [
          " 4( 1, 3)- 3( 1, 2)",
          " 4( 1, 3)- 3( 1, 2)",
          "      4(  1, 3)-   3(  1, 2)",
          "4(1,3)-3(1,2)"
         ],
         "searchErrorMessage": [
          "",
          "",
          "",
          ""
         ],
         "sij": {
          "dtype": "float64",
          "shape": [
           4
          ],
          "type": null
         },
         "sijmu2": {
          "dtype": "float64",
          "shape": [
           4
          ],
          "type": null
         },
         "source_Lovas_NIST": [
          " rho Oph B1",
          " ",
          " ",
          " rho Oph B1"
         ],
         "species_id": {
          "dtype": "int32",
          "shape": [
           4
          ],
          "type": null
         },
         "sqlquery": {
          "type": "raw",
          "value": [
           "$NaN$",
           "$NaN$",
           "$NaN$",
           "$NaN$"
          ]
         },
         "telescope_Lovas_NIST": [
          " MMWO    4.9m",
          " ",
          " ",
          " MMWO    4.9m"
         ],
         "transitionBandColor": [
          "datatablegreen",
          "datatablegreen",
          "datatablegreen",
          "datatablegreen"
         ],
         "transition_in_G358": {
          "dtype": "int32",
          "shape": [
           4
          ],
          "type": null
         },
         "transition_in_space": {
          "dtype": "int32",
          "shape": [
           4
          ],
          "type": null
         },
         "unres_quantum_numbers": [
          " 4 1 3       3 1 2",
          " 4 1 3       3 1 2",
          "      4(  1, 3)-   3(  1, 2)",
          "4(1,3)-3(1,2)"
         ],
         "upperStateDegen": [
          "27",
          "27",
          "8.5",
          ""
         ],
         "upper_state_energy": {
          "dtype": "float64",
          "shape": [
           4
          ],
          "type": null
         },
         "upper_state_energy_K": {
          "dtype": "float64",
          "shape": [
           4
          ],
          "type": null
         }
        },
        "fields": [
         {
          "key": "$NaN$"
         },
         {
          "species_id": "$NaN$"
         },
         {
          "name": "$NaN$"
         },
         {
          "chemical_name": "$NaN$"
         },
         {
          "resolved_QNs": "$NaN$"
         },
         {
          "linelist": "$NaN$"
         },
         {
          "LovasASTIntensity": "$NaN$"
         },
         {
          "lower_state_energy": "$NaN$"
         },
         {
          "upper_state_energy": "$NaN$"
         },
         {
          "sijmu2": "$NaN$"
         },
         {
          "sij": "$NaN$"
         },
         {
          "aij": "$NaN$"
         },
         {
          "intintensity": "$NaN$"
         },
         {
          "Lovas_NRAO": "$NaN$"
         },
         {
          "orderedfreq": "$NaN$"
         },
         {
          "lower_state_energy_K": "$NaN$"
         },
         {
          "upper_state_energy_K": "$NaN$"
         },
         {
          "orderedFreq": "$NaN$"
         },
         {
          "measFreq": "$NaN$"
         },
         {
          "upperStateDegen": "$NaN$"
         },
         {
          "moleculeTag": "$NaN$"
         },
         {
          "qnCode": "$NaN$"
         },
         {
          "labref_Lovas_NIST": "$NaN$"
         },
         {
          "rel_int_HFS_Lovas": "$NaN$"
         },
         {
          "unres_quantum_numbers": "$NaN$"
         },
         {
          "lineid": "$NaN$"
         },
         {
          "transition_in_space": "$NaN$"
         },
         {
          "transition_in_G358": "$NaN$"
         },
         {
          "obsref_Lovas_NIST": "$NaN$"
         },
         {
          "source_Lovas_NIST": "$NaN$"
         },
         {
          "telescope_Lovas_NIST": "$NaN$"
         },
         {
          "transitionBandColor": "$NaN$"
         },
         {
          "searchErrorMessage": "$NaN$"
         },
         {
          "sqlquery": "$NaN$"
         },
         {
          "requestnumber": "$NaN$"
         },
         {
          "ipydguuid": "$NaN$"
         }
        ],
        "schema": {
         "fields": [
          {
           "name": "key",
           "type": "integer"
          },
          {
           "name": "species_id",
           "type": "integer"
          },
          {
           "name": "name",
           "type": "string"
          },
          {
           "name": "chemical_name",
           "type": "string"
          },
          {
           "name": "resolved_QNs",
           "type": "string"
          },
          {
           "name": "linelist",
           "type": "string"
          },
          {
           "name": "LovasASTIntensity",
           "type": "string"
          },
          {
           "name": "lower_state_energy",
           "type": "number"
          },
          {
           "name": "upper_state_energy",
           "type": "number"
          },
          {
           "name": "sijmu2",
           "type": "number"
          },
          {
           "name": "sij",
           "type": "number"
          },
          {
           "name": "aij",
           "type": "number"
          },
          {
           "name": "intintensity",
           "type": "string"
          },
          {
           "name": "Lovas_NRAO",
           "type": "integer"
          },
          {
           "name": "orderedfreq",
           "type": "number"
          },
          {
           "name": "lower_state_energy_K",
           "type": "number"
          },
          {
           "name": "upper_state_energy_K",
           "type": "number"
          },
          {
           "name": "orderedFreq",
           "type": "string"
          },
          {
           "name": "measFreq",
           "type": "string"
          },
          {
           "name": "upperStateDegen",
           "type": "string"
          },
          {
           "name": "moleculeTag",
           "type": "integer"
          },
          {
           "name": "qnCode",
           "type": "integer"
          },
          {
           "name": "labref_Lovas_NIST",
           "type": "string"
          },
          {
           "name": "rel_int_HFS_Lovas",
           "type": "string"
          },
          {
           "name": "unres_quantum_numbers",
           "type": "string"
          },
          {
           "name": "lineid",
           "type": "integer"
          },
          {
           "name": "transition_in_space",
           "type": "integer"
          },
          {
           "name": "transition_in_G358",
           "type": "integer"
          },
          {
           "name": "obsref_Lovas_NIST",
           "type": "string"
          },
          {
           "name": "source_Lovas_NIST",
           "type": "string"
          },
          {
           "name": "telescope_Lovas_NIST",
           "type": "string"
          },
          {
           "name": "transitionBandColor",
           "type": "string"
          },
          {
           "name": "searchErrorMessage",
           "type": "string"
          },
          {
           "name": "sqlquery",
           "type": "string"
          },
          {
           "name": "requestnumber",
           "type": "integer"
          },
          {
           "name": "ipydguuid",
           "type": "integer"
          }
         ],
         "pandas_version": "1.4.0",
         "primaryKey": [
          "key",
          "ipydguuid"
         ],
         "primaryKeyUuid": "ipydguuid"
        }
       },
       "_dom_classes": [],
       "_model_module": "ipydatagrid",
       "_model_module_version": "^1.4.0",
       "_model_name": "DataGridModel",
       "_transforms": [],
       "_view_count": null,
       "_view_module": "ipydatagrid",
       "_view_module_version": "^1.4.0",
       "_view_name": "DataGridView",
       "_visible_rows": [],
       "auto_fit_columns": false,
       "auto_fit_params": {
        "area": "all",
        "numCols": null,
        "padding": 30
       },
       "base_column_header_size": 20,
       "base_column_size": 64,
       "base_row_header_size": 64,
       "base_row_size": 20,
       "column_widths": {},
       "corner_renderer": null,
       "default_renderer": "IPY_MODEL_5b3ebda1cf8f49a8a65c4d3504e48417",
       "editable": false,
       "grid_style": {},
       "header_renderer": null,
       "header_visibility": "all",
       "horizontal_stripes": false,
       "layout": "IPY_MODEL_882815024c434a1daa7104fe51195398",
       "renderers": {},
       "selection_mode": "none",
       "selections": [],
       "tabbable": null,
       "tooltip": null,
       "vertical_stripes": false
      }
     },
     "b6e28d7ddd424cacbaccd47435be0dba": {
      "buffers": [
       {
        "data": "AAAAAAEAAAACAAAAAwAAAA==",
        "encoding": "base64",
        "path": [
         "_data",
         "data",
         "key",
         "value"
        ]
       },
       {
        "data": "FAAAABQAAAAUAAAAFAAAAA==",
        "encoding": "base64",
        "path": [
         "_data",
         "data",
         "species_id",
         "value"
        ]
       },
       {
        "data": "1edqK/b3LEDV52or9vcsQAAAAAAAAAAAK4cW2c73LEA=",
        "encoding": "base64",
        "path": [
         "_data",
         "data",
         "lower_state_energy",
         "value"
        ]
       },
       {
        "data": "RFGgT+S5NUBEUaBP5Lk1QAAAAAAAAAAA7yB2ptC5NUA=",
        "encoding": "base64",
        "path": [
         "_data",
         "data",
         "upper_state_energy",
         "value"
        ]
       },
       {
        "data": "rVEP0ej+R0C7RPXWwBJIQAAAAAAAAAAA5IOezarXR0A=",
        "encoding": "base64",
        "path": [
         "_data",
         "data",
         "sijmu2",
         "value"
        ]
       },
       {
        "data": "AAAAAAAAFEAAAAAAAAAUQAAAAAAAAAAAAAAAAAAAFEA=",
        "encoding": "base64",
        "path": [
         "_data",
         "data",
         "sij",
         "value"
        ]
       },
       {
        "data": "g6Pk1TlGCsAziuWWVkMKwAAAAAAAAAAAB+v/HOZLCsA=",
        "encoding": "base64",
        "path": [
         "_data",
         "data",
         "aij",
         "value"
        ]
       },
       {
        "data": "AQAAAAAAAAAAAAAAAAAAAA==",
        "encoding": "base64",
        "path": [
         "_data",
         "data",
         "Lovas_NRAO",
         "value"
        ]
       },
       {
        "data": "CKwcWoeACkFxPQrXh4AKQVpkO9+HgApBWmQ734eACkE=",
        "encoding": "base64",
        "path": [
         "_data",
         "data",
         "orderedfreq",
         "value"
        ]
       },
       {
        "data": "ngd3Z+3WNECeB3dn7dY0QAAAAAAAAAAArRdDOdHWNEA=",
        "encoding": "base64",
        "path": [
         "_data",
         "data",
         "lower_state_energy_K",
         "value"
        ]
       },
       {
        "data": "7kJznUZCP0DuQnOdRkI/QAAAAAAAAAAA/FI/bypCP0A=",
        "encoding": "base64",
        "path": [
         "_data",
         "data",
         "upper_state_energy_K",
         "value"
        ]
       },
       {
        "data": "J1L//x5U//8AAAAAAAAAAA==",
        "encoding": "base64",
        "path": [
         "_data",
         "data",
         "moleculeTag",
         "value"
        ]
       },
       {
        "data": "sgQAAGUAAAAAAAAAAAAAAA==",
        "encoding": "base64",
        "path": [
         "_data",
         "data",
         "qnCode",
         "value"
        ]
       },
       {
        "data": "5Wj4AAjQEQBe1TgAwgI8AA==",
        "encoding": "base64",
        "path": [
         "_data",
         "data",
         "lineid",
         "value"
        ]
       },
       {
        "data": "AAAAAAAAAAAAAAAAAAAAAA==",
        "encoding": "base64",
        "path": [
         "_data",
         "data",
         "transition_in_space",
         "value"
        ]
       },
       {
        "data": "AAAAAAAAAAAAAAAAAAAAAA==",
        "encoding": "base64",
        "path": [
         "_data",
         "data",
         "transition_in_G358",
         "value"
        ]
       },
       {
        "data": "AAAAAAAAAAAAAAAAAAAAAA==",
        "encoding": "base64",
        "path": [
         "_data",
         "data",
         "requestnumber",
         "value"
        ]
       },
       {
        "data": "AAAAAAEAAAACAAAAAwAAAA==",
        "encoding": "base64",
        "path": [
         "_data",
         "data",
         "ipydguuid",
         "value"
        ]
       }
      ],
      "model_module": "ipydatagrid",
      "model_module_version": "^1.4.0",
      "model_name": "DataGridModel",
      "state": {
       "_data": {
        "data": {
         "LovasASTIntensity": [
          " ",
          " 1.6",
          " 1.6",
          " "
         ],
         "Lovas_NRAO": {
          "dtype": "int32",
          "shape": [
           4
          ],
          "type": null
         },
         "aij": {
          "dtype": "float64",
          "shape": [
           4
          ],
          "type": null
         },
         "chemical_name": [
          "Silicon Monoxide",
          "Silicon Monoxide",
          "Silicon Monoxide",
          "Silicon Monoxide"
         ],
         "intintensity": [
          "-1.3211",
          "-1.3166",
          "",
          ""
         ],
         "ipydguuid": {
          "dtype": "int32",
          "shape": [
           4
          ],
          "type": null
         },
         "key": {
          "dtype": "int32",
          "shape": [
           4
          ],
          "type": null
         },
         "labref_Lovas_NIST": [
          " ",
          " ",
          "",
          "    Man77"
         ],
         "lineid": {
          "dtype": "int32",
          "shape": [
           4
          ],
          "type": null
         },
         "linelist": [
          "CDMS",
          "JPL",
          "Lovas",
          "SLAIM"
         ],
         "lower_state_energy": {
          "dtype": "float64",
          "shape": [
           4
          ],
          "type": null
         },
         "lower_state_energy_K": {
          "dtype": "float64",
          "shape": [
           4
          ],
          "type": null
         },
         "measFreq": [
          "217.104919 (0.002), <span style = 'color: #DC143C'>217.104919</span>",
          "217.10498 (0.08), <span style = 'color: #DC143C'>217.10498</span>",
          " <span style = 'color: #DC143C'></span>",
          "217.10498 (0.1), <span style = 'color: #DC143C'>217.10498</span>"
         ],
         "moleculeTag": {
          "dtype": "int32",
          "shape": [
           4
          ],
          "type": null
         },
         "name": [
          "SiO <font color=\"red\">v = 0 </font>",
          "SiO <font color=\"red\">v = 0 </font>",
          "SiO <font color=\"red\">v = 0 </font>",
          "SiO <font color=\"red\">v = 0 </font>"
         ],
         "obsref_Lovas_NIST": [
          " ",
          "Lor84a",
          "Lor84a",
          " "
         ],
         "orderedFreq": [
          " <span style = 'color: #DC143C'></span>",
          " <span style = 'color: #DC143C'></span>",
          "217.104984 (0.014), <span style = 'color: #DC143C'>217.104984</span>",
          "217.104984 (0.014), <span style = 'color: #DC143C'>217.104984</span>"
         ],
         "orderedfreq": {
          "dtype": "float64",
          "shape": [
           4
          ],
          "type": null
         },
         "qnCode": {
          "dtype": "int32",
          "shape": [
           4
          ],
          "type": null
         },
         "rel_int_HFS_Lovas": [
          " ",
          " ",
          " ",
          ""
         ],
         "requestnumber": {
          "dtype": "int32",
          "shape": [
           4
          ],
          "type": null
         },
         "resolved_QNs": [
          " 5- 4",
          "5-4 ",
          "5-4 ",
          "      5        -   4"
         ],
         "searchErrorMessage": [
          "",
          "",
          "",
          ""
         ],
         "sij": {
          "dtype": "float64",
          "shape": [
           4
          ],
          "type": null
         },
         "sijmu2": {
          "dtype": "float64",
          "shape": [
           4
          ],
          "type": null
         },
         "source_Lovas_NIST": [
          " ",
          " OriMC-1",
          " OriMC-1",
          " "
         ],
         "species_id": {
          "dtype": "int32",
          "shape": [
           4
          ],
          "type": null
         },
         "sqlquery": {
          "type": "raw",
          "value": [
           "$NaN$",
           "$NaN$",
           "$NaN$",
           "$NaN$"
          ]
         },
         "telescope_Lovas_NIST": [
          " ",
          " MMWO    4.9m",
          " MMWO    4.9m",
          " "
         ],
         "transitionBandColor": [
          "datatablelightpurple",
          "datatablelightpurple",
          "datatablelightpurple",
          "datatablelightpurple"
         ],
         "transition_in_G358": {
          "dtype": "int32",
          "shape": [
           4
          ],
          "type": null
         },
         "transition_in_space": {
          "dtype": "int32",
          "shape": [
           4
          ],
          "type": null
         },
         "unres_quantum_numbers": [
          " 5 0         4 0       ",
          "J=5-4 v=0",
          "5-4 v=0",
          "      5        -   4 v=0"
         ],
         "upperStateDegen": [
          "11",
          "11",
          "",
          "11"
         ],
         "upper_state_energy": {
          "dtype": "float64",
          "shape": [
           4
          ],
          "type": null
         },
         "upper_state_energy_K": {
          "dtype": "float64",
          "shape": [
           4
          ],
          "type": null
         }
        },
        "fields": [
         {
          "key": "$NaN$"
         },
         {
          "species_id": "$NaN$"
         },
         {
          "name": "$NaN$"
         },
         {
          "chemical_name": "$NaN$"
         },
         {
          "resolved_QNs": "$NaN$"
         },
         {
          "linelist": "$NaN$"
         },
         {
          "LovasASTIntensity": "$NaN$"
         },
         {
          "lower_state_energy": "$NaN$"
         },
         {
          "upper_state_energy": "$NaN$"
         },
         {
          "sijmu2": "$NaN$"
         },
         {
          "sij": "$NaN$"
         },
         {
          "aij": "$NaN$"
         },
         {
          "intintensity": "$NaN$"
         },
         {
          "Lovas_NRAO": "$NaN$"
         },
         {
          "orderedfreq": "$NaN$"
         },
         {
          "lower_state_energy_K": "$NaN$"
         },
         {
          "upper_state_energy_K": "$NaN$"
         },
         {
          "orderedFreq": "$NaN$"
         },
         {
          "measFreq": "$NaN$"
         },
         {
          "upperStateDegen": "$NaN$"
         },
         {
          "moleculeTag": "$NaN$"
         },
         {
          "qnCode": "$NaN$"
         },
         {
          "labref_Lovas_NIST": "$NaN$"
         },
         {
          "rel_int_HFS_Lovas": "$NaN$"
         },
         {
          "unres_quantum_numbers": "$NaN$"
         },
         {
          "lineid": "$NaN$"
         },
         {
          "transition_in_space": "$NaN$"
         },
         {
          "transition_in_G358": "$NaN$"
         },
         {
          "obsref_Lovas_NIST": "$NaN$"
         },
         {
          "source_Lovas_NIST": "$NaN$"
         },
         {
          "telescope_Lovas_NIST": "$NaN$"
         },
         {
          "transitionBandColor": "$NaN$"
         },
         {
          "searchErrorMessage": "$NaN$"
         },
         {
          "sqlquery": "$NaN$"
         },
         {
          "requestnumber": "$NaN$"
         },
         {
          "ipydguuid": "$NaN$"
         }
        ],
        "schema": {
         "fields": [
          {
           "name": "key",
           "type": "integer"
          },
          {
           "name": "species_id",
           "type": "integer"
          },
          {
           "name": "name",
           "type": "string"
          },
          {
           "name": "chemical_name",
           "type": "string"
          },
          {
           "name": "resolved_QNs",
           "type": "string"
          },
          {
           "name": "linelist",
           "type": "string"
          },
          {
           "name": "LovasASTIntensity",
           "type": "string"
          },
          {
           "name": "lower_state_energy",
           "type": "number"
          },
          {
           "name": "upper_state_energy",
           "type": "number"
          },
          {
           "name": "sijmu2",
           "type": "number"
          },
          {
           "name": "sij",
           "type": "number"
          },
          {
           "name": "aij",
           "type": "number"
          },
          {
           "name": "intintensity",
           "type": "string"
          },
          {
           "name": "Lovas_NRAO",
           "type": "integer"
          },
          {
           "name": "orderedfreq",
           "type": "number"
          },
          {
           "name": "lower_state_energy_K",
           "type": "number"
          },
          {
           "name": "upper_state_energy_K",
           "type": "number"
          },
          {
           "name": "orderedFreq",
           "type": "string"
          },
          {
           "name": "measFreq",
           "type": "string"
          },
          {
           "name": "upperStateDegen",
           "type": "string"
          },
          {
           "name": "moleculeTag",
           "type": "integer"
          },
          {
           "name": "qnCode",
           "type": "integer"
          },
          {
           "name": "labref_Lovas_NIST",
           "type": "string"
          },
          {
           "name": "rel_int_HFS_Lovas",
           "type": "string"
          },
          {
           "name": "unres_quantum_numbers",
           "type": "string"
          },
          {
           "name": "lineid",
           "type": "integer"
          },
          {
           "name": "transition_in_space",
           "type": "integer"
          },
          {
           "name": "transition_in_G358",
           "type": "integer"
          },
          {
           "name": "obsref_Lovas_NIST",
           "type": "string"
          },
          {
           "name": "source_Lovas_NIST",
           "type": "string"
          },
          {
           "name": "telescope_Lovas_NIST",
           "type": "string"
          },
          {
           "name": "transitionBandColor",
           "type": "string"
          },
          {
           "name": "searchErrorMessage",
           "type": "string"
          },
          {
           "name": "sqlquery",
           "type": "string"
          },
          {
           "name": "requestnumber",
           "type": "integer"
          },
          {
           "name": "ipydguuid",
           "type": "integer"
          }
         ],
         "pandas_version": "1.4.0",
         "primaryKey": [
          "key",
          "ipydguuid"
         ],
         "primaryKeyUuid": "ipydguuid"
        }
       },
       "_dom_classes": [],
       "_model_module": "ipydatagrid",
       "_model_module_version": "^1.4.0",
       "_model_name": "DataGridModel",
       "_transforms": [],
       "_view_count": null,
       "_view_module": "ipydatagrid",
       "_view_module_version": "^1.4.0",
       "_view_name": "DataGridView",
       "_visible_rows": [],
       "auto_fit_columns": false,
       "auto_fit_params": {
        "area": "all",
        "numCols": null,
        "padding": 30
       },
       "base_column_header_size": 20,
       "base_column_size": 64,
       "base_row_header_size": 64,
       "base_row_size": 20,
       "column_widths": {},
       "corner_renderer": null,
       "default_renderer": "IPY_MODEL_2e06aa89066440f6abe9502c113669db",
       "editable": false,
       "grid_style": {},
       "header_renderer": null,
       "header_visibility": "all",
       "horizontal_stripes": false,
       "layout": "IPY_MODEL_259435a3586a405898f8ad5b62bcde48",
       "renderers": {},
       "selection_mode": "none",
       "selections": [],
       "tabbable": null,
       "tooltip": null,
       "vertical_stripes": false
      }
     },
     "e742c3c746174af4859918b57606f88d": {
      "model_module": "@jupyter-widgets/controls",
      "model_module_version": "2.0.0",
      "model_name": "HTMLModel",
      "state": {
       "_dom_classes": [],
       "_model_module": "@jupyter-widgets/controls",
       "_model_module_version": "2.0.0",
       "_model_name": "HTMLModel",
       "_view_count": null,
       "_view_module": "@jupyter-widgets/controls",
       "_view_module_version": "2.0.0",
       "_view_name": "HTMLView",
       "description": "",
       "description_allow_html": false,
       "layout": "IPY_MODEL_337f566637a943ac9cbc5e7f48aaded3",
       "placeholder": "​",
       "style": "IPY_MODEL_5ba857a5c8a64cfa963a535c595cd295",
       "tabbable": null,
       "tooltip": null,
       "value": " 176400/176400 [00:17&lt;00:00, 43106.90it/s]"
      }
     },
     "e9f228b36bb14509a4dae0b55cfbc42c": {
      "model_module": "@jupyter-widgets/base",
      "model_module_version": "2.0.0",
      "model_name": "LayoutModel",
      "state": {
       "_model_module": "@jupyter-widgets/base",
       "_model_module_version": "2.0.0",
       "_model_name": "LayoutModel",
       "_view_count": null,
       "_view_module": "@jupyter-widgets/base",
       "_view_module_version": "2.0.0",
       "_view_name": "LayoutView",
       "align_content": null,
       "align_items": null,
       "align_self": null,
       "border_bottom": null,
       "border_left": null,
       "border_right": null,
       "border_top": null,
       "bottom": null,
       "display": null,
       "flex": null,
       "flex_flow": null,
       "grid_area": null,
       "grid_auto_columns": null,
       "grid_auto_flow": null,
       "grid_auto_rows": null,
       "grid_column": null,
       "grid_gap": null,
       "grid_row": null,
       "grid_template_areas": null,
       "grid_template_columns": null,
       "grid_template_rows": null,
       "height": null,
       "justify_content": null,
       "justify_items": null,
       "left": null,
       "margin": null,
       "max_height": null,
       "max_width": null,
       "min_height": null,
       "min_width": null,
       "object_fit": null,
       "object_position": null,
       "order": null,
       "overflow": null,
       "padding": null,
       "right": null,
       "top": null,
       "visibility": null,
       "width": null
      }
     },
     "f50b5149216747babda0fbaf46fb445e": {
      "model_module": "ipydatagrid",
      "model_module_version": "^1.4.0",
      "model_name": "VegaExprModel",
      "state": {
       "_model_module": "ipydatagrid",
       "_model_module_version": "^1.4.0",
       "_model_name": "VegaExprModel",
       "_view_count": null,
       "_view_module": "ipydatagrid",
       "_view_module_version": "^1.4.0",
       "_view_name": "VegaExprView",
       "value": "default_value"
      }
     }
    },
    "version_major": 2,
    "version_minor": 0
   }
  }
 },
 "nbformat": 4,
 "nbformat_minor": 4
}
