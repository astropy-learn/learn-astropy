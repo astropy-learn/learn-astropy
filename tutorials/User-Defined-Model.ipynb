{
 "cells": [
  {
   "cell_type": "markdown",
   "metadata": {},
   "source": [
    "# Modeling 2: Create a User Defined Model using astropy.modeling\n",
    "\n",
    "## Authors\n",
    "Rocio Kiman, Lia Corrales, Zé Vinícius, Stephanie T. Douglas\n",
    "\n",
    "## Learning Goals\n",
    "* Define a new model with `astropy` \n",
    "* Identify cases were a user-defined model could be useful\n",
    "* Define models in two different ways:\n",
    "    * Compound models\n",
    "    * Custom models\n",
    "\n",
    "This tutorial assumes the student knows how to fit data using `astropy.modeling`. This topic is covered in the [Models-Quick-Fit tutorial](http://www.astropy.org/astropy-tutorials/rst-tutorials/Models-Quick-Fit.html).\n",
    "\n",
    "## Keywords\n",
    "modeling, FITS, astrostatistics, matplotlib, model fitting, error bars, scatter plots\n",
    "\n",
    "## Summary\n",
    "In this tutorial, we will learn how to define a new model in two ways: with a compound model and with a custom model."
   ]
  },
  {
   "cell_type": "markdown",
   "metadata": {},
   "source": [
    "<div class=\"alert alert-info\">\n",
    "\n",
    "**Note:** This tutorial assumes you have already gone through \n",
    "    [Modeling 1](http://www.astropy.org/astropy-tutorials/rst-tutorials/Models-Quick-Fit.html),\n",
    "    which provides an introduction to `astropy.modeling`\n",
    "    \n",
    "\n",
    "</div>"
   ]
  },
  {
   "cell_type": "markdown",
   "metadata": {},
   "source": [
    "### Imports"
   ]
  },
  {
   "cell_type": "code",
   "execution_count": 1,
   "metadata": {
    "execution": {
     "iopub.execute_input": "2022-08-12T15:09:16.038967Z",
     "iopub.status.busy": "2022-08-12T15:09:16.038711Z",
     "iopub.status.idle": "2022-08-12T15:09:17.281618Z",
     "shell.execute_reply": "2022-08-12T15:09:17.280947Z"
    }
   },
   "outputs": [],
   "source": [
    "import numpy as np\n",
    "import matplotlib.pyplot as plt\n",
    "from astropy.io import fits\n",
    "from astropy.modeling import models, fitting\n",
    "from astropy.modeling.models import custom_model\n",
    "from astropy.modeling import Fittable1DModel, Parameter\n",
    "from astroquery.sdss import SDSS"
   ]
  },
  {
   "cell_type": "markdown",
   "metadata": {},
   "source": [
    "### Fit an emission line in a stellar spectrum"
   ]
  },
  {
   "cell_type": "markdown",
   "metadata": {},
   "source": [
    "M dwarfs are low mass stars (less than half of the mass of the sun). Currently we do not understand completely the physics inside low mass stars because they do not behave the same way higher mass stars do. For example, they stay magnetically active longer than higher mass stars. One way to measure magnetic activity is the height of the [$H\\alpha$](https://en.wikipedia.org/wiki/H-alpha) emission line. It is located at $6563$ Angstroms at the spectrum. "
   ]
  },
  {
   "cell_type": "markdown",
   "metadata": {},
   "source": [
    "Let's search for a spectrum of an M dwarf in the Sloan Digital Sky Survey (SDSS). First, we are going to look for the spectrum in the [SDSS database](https://dr12.sdss.org/basicSpectra). SDSS has a particular way to identify the stars it observes: it uses three numbers: Plate, Fiber and MJD (Modified Julian Date). The star we are going to use has:\n",
    "* Plate: 1349\n",
    "* Fiber: 216\n",
    "* MJD: 52797\n",
    "\n",
    "So go ahead, put this numbers in the website and click on Plot to visualize the spectrum. Try to localize the $H\\alpha$ line. "
   ]
  },
  {
   "cell_type": "markdown",
   "metadata": {},
   "source": [
    "We could download the spectrum by hand from this website, but we are going to import it using the [SDSSClass](http://astroquery.readthedocs.io/en/latest/api/astroquery.sdss.SDSSClass.html) from [`astroquery.sdss`](https://astroquery.readthedocs.io/en/latest/sdss/sdss.html#module-astroquery.sdss). We can get the spectrum using the plate, fiber and mjd in the following way:"
   ]
  },
  {
   "cell_type": "code",
   "execution_count": 2,
   "metadata": {
    "execution": {
     "iopub.execute_input": "2022-08-12T15:09:17.286314Z",
     "iopub.status.busy": "2022-08-12T15:09:17.285860Z",
     "iopub.status.idle": "2022-08-12T15:09:19.470035Z",
     "shell.execute_reply": "2022-08-12T15:09:19.469020Z"
    }
   },
   "outputs": [],
   "source": [
    "spectrum = SDSS.get_spectra(plate=1349, fiberID=216, mjd=52797)[0]"
   ]
  },
  {
   "cell_type": "markdown",
   "metadata": {},
   "source": [
    "#### Now that we have the spectrum...\n",
    "One way to check what is inside the fits file `spectrum` is the following:"
   ]
  },
  {
   "cell_type": "code",
   "execution_count": 3,
   "metadata": {
    "execution": {
     "iopub.execute_input": "2022-08-12T15:09:19.473434Z",
     "iopub.status.busy": "2022-08-12T15:09:19.473105Z",
     "iopub.status.idle": "2022-08-12T15:09:19.485057Z",
     "shell.execute_reply": "2022-08-12T15:09:19.484415Z"
    }
   },
   "outputs": [
    {
     "data": {
      "text/plain": [
       "ColDefs(\n",
       "    name = 'flux'; format = 'E'\n",
       "    name = 'loglam'; format = 'E'\n",
       "    name = 'ivar'; format = 'E'\n",
       "    name = 'and_mask'; format = 'J'\n",
       "    name = 'or_mask'; format = 'J'\n",
       "    name = 'wdisp'; format = 'E'\n",
       "    name = 'sky'; format = 'E'\n",
       "    name = 'model'; format = 'E'\n",
       ")"
      ]
     },
     "execution_count": 3,
     "metadata": {},
     "output_type": "execute_result"
    }
   ],
   "source": [
    "spectrum[1].columns"
   ]
  },
  {
   "cell_type": "markdown",
   "metadata": {},
   "source": [
    "To plot the spectrum we need the flux as a function of wavelength (usually called lambda or $\\lambda$). Note that the wavelength is in log scale: loglam, so we calculate $10^\\lambda$ to remove this scale."
   ]
  },
  {
   "cell_type": "code",
   "execution_count": 4,
   "metadata": {
    "execution": {
     "iopub.execute_input": "2022-08-12T15:09:19.488307Z",
     "iopub.status.busy": "2022-08-12T15:09:19.488092Z",
     "iopub.status.idle": "2022-08-12T15:09:19.493472Z",
     "shell.execute_reply": "2022-08-12T15:09:19.492827Z"
    }
   },
   "outputs": [],
   "source": [
    "flux = spectrum[1].data['flux']\n",
    "lam = 10**(spectrum[1].data['loglam'])"
   ]
  },
  {
   "cell_type": "markdown",
   "metadata": {},
   "source": [
    "To find the units for flux and wavelength, we look in `fitsfile[0].header`.\n",
    "\n",
    "FITS standard requires that the header keyword 'bunit' or 'BUNIT' contains the physical units of the array values. That's where we'll find the flux units. "
   ]
  },
  {
   "cell_type": "code",
   "execution_count": 5,
   "metadata": {
    "execution": {
     "iopub.execute_input": "2022-08-12T15:09:19.496277Z",
     "iopub.status.busy": "2022-08-12T15:09:19.496060Z",
     "iopub.status.idle": "2022-08-12T15:09:19.499684Z",
     "shell.execute_reply": "2022-08-12T15:09:19.499049Z"
    }
   },
   "outputs": [
    {
     "name": "stdout",
     "output_type": "stream",
     "text": [
      "1E-17 erg/cm^2/s/Ang\n"
     ]
    }
   ],
   "source": [
    "#Units of the flux\n",
    "units_flux = spectrum[0].header['bunit']\n",
    "print(units_flux)"
   ]
  },
  {
   "cell_type": "markdown",
   "metadata": {},
   "source": [
    "Different sources will definite wavelength information differently, so we need to check the documentation. For example, this [SDSS tutorial](https://www.sdss.org/dr12/tutorials/quicklook/#python) tells us what header keyword to look at."
   ]
  },
  {
   "cell_type": "code",
   "execution_count": 6,
   "metadata": {
    "execution": {
     "iopub.execute_input": "2022-08-12T15:09:19.503158Z",
     "iopub.status.busy": "2022-08-12T15:09:19.502953Z",
     "iopub.status.idle": "2022-08-12T15:09:19.506425Z",
     "shell.execute_reply": "2022-08-12T15:09:19.505783Z"
    }
   },
   "outputs": [
    {
     "name": "stdout",
     "output_type": "stream",
     "text": [
      "wtype=linear label=Wavelength units=Angstroms\n"
     ]
    }
   ],
   "source": [
    "#Units of the wavelegth\n",
    "units_wavelength_full = spectrum[0].header['WAT1_001']\n",
    "print(units_wavelength_full)"
   ]
  },
  {
   "cell_type": "markdown",
   "metadata": {},
   "source": [
    "We are going to select only the characters of the unit we care about: Angstroms"
   ]
  },
  {
   "cell_type": "code",
   "execution_count": 7,
   "metadata": {
    "execution": {
     "iopub.execute_input": "2022-08-12T15:09:19.510191Z",
     "iopub.status.busy": "2022-08-12T15:09:19.509658Z",
     "iopub.status.idle": "2022-08-12T15:09:19.514284Z",
     "shell.execute_reply": "2022-08-12T15:09:19.513687Z"
    }
   },
   "outputs": [
    {
     "name": "stdout",
     "output_type": "stream",
     "text": [
      "Angstroms\n"
     ]
    }
   ],
   "source": [
    "units_wavelength = units_wavelength_full[36:]\n",
    "print(units_wavelength)"
   ]
  },
  {
   "cell_type": "markdown",
   "metadata": {},
   "source": [
    "Now we are ready to plot the spectrum with all the information."
   ]
  },
  {
   "cell_type": "code",
   "execution_count": 8,
   "metadata": {
    "execution": {
     "iopub.execute_input": "2022-08-12T15:09:19.517317Z",
     "iopub.status.busy": "2022-08-12T15:09:19.516789Z",
     "iopub.status.idle": "2022-08-12T15:09:19.632963Z",
     "shell.execute_reply": "2022-08-12T15:09:19.632413Z"
    }
   },
   "outputs": [
    {
     "data": {
      "image/png": "[encoded data removed]",
      "text/plain": [
       "<Figure size 432x288 with 1 Axes>"
      ]
     },
     "metadata": {
      "needs_background": "light"
     },
     "output_type": "display_data"
    }
   ],
   "source": [
    "plt.plot(lam, flux, color='k')\n",
    "plt.xlim(6300,6700)\n",
    "plt.axvline(x=6563, linestyle='--')\n",
    "plt.xlabel('Wavelength ({})'.format(units_wavelength))\n",
    "plt.ylabel('Flux ({})'.format(units_flux))\n",
    "plt.show()"
   ]
  },
  {
   "cell_type": "markdown",
   "metadata": {},
   "source": [
    "\n",
    "We just plotted our spectrum! Check different ranges of wavelength to see how the full spectrum looks like in comparison to the one we saw before."
   ]
  },
  {
   "cell_type": "markdown",
   "metadata": {},
   "source": [
    "## Fit an Emission Line with a Gaussian Model"
   ]
  },
  {
   "cell_type": "markdown",
   "metadata": {},
   "source": [
    "The blue dashed line marks the $H\\alpha$ emission line. We can tell this is an active star because it has a strong emission line.\n",
    "\n",
    "Now, we would like to measure the height of this line. Let's use `astropy.modeling` to fit a gaussian to the $H\\alpha$ line. We are going to initialize a gaussian model at the position of the $H\\alpha$ line. The idea is that the gaussian amplitude will tell us the height of the line."
   ]
  },
  {
   "cell_type": "code",
   "execution_count": 9,
   "metadata": {
    "execution": {
     "iopub.execute_input": "2022-08-12T15:09:19.636123Z",
     "iopub.status.busy": "2022-08-12T15:09:19.635891Z",
     "iopub.status.idle": "2022-08-12T15:09:19.668452Z",
     "shell.execute_reply": "2022-08-12T15:09:19.667845Z"
    }
   },
   "outputs": [],
   "source": [
    "gausian_model = models.Gaussian1D(1, 6563, 10)\n",
    "fitter = fitting.LevMarLSQFitter()\n",
    "gaussian_fit = fitter(gausian_model, lam, flux)"
   ]
  },
  {
   "cell_type": "markdown",
   "metadata": {},
   "source": [
    "Let's plot the results."
   ]
  },
  {
   "cell_type": "code",
   "execution_count": 10,
   "metadata": {
    "execution": {
     "iopub.execute_input": "2022-08-12T15:09:19.671385Z",
     "iopub.status.busy": "2022-08-12T15:09:19.671164Z",
     "iopub.status.idle": "2022-08-12T15:09:19.826711Z",
     "shell.execute_reply": "2022-08-12T15:09:19.826056Z"
    }
   },
   "outputs": [
    {
     "data": {
      "image/png": "[encoded data removed]",
      "text/plain": [
       "<Figure size 576x360 with 1 Axes>"
      ]
     },
     "metadata": {
      "needs_background": "light"
     },
     "output_type": "display_data"
    }
   ],
   "source": [
    "plt.figure(figsize=(8,5))\n",
    "plt.plot(lam, flux, color='k')\n",
    "plt.plot(lam, gaussian_fit(lam), color='darkorange')\n",
    "plt.xlim(6300,6700)\n",
    "plt.xlabel('Wavelength (Angstroms)')\n",
    "plt.ylabel('Flux ({})'.format(units_flux))\n",
    "plt.show()"
   ]
  },
  {
   "cell_type": "markdown",
   "metadata": {},
   "source": [
    "We can see the fit is not doing a good job. Let's print the parameters of this fit:"
   ]
  },
  {
   "cell_type": "code",
   "execution_count": 11,
   "metadata": {
    "execution": {
     "iopub.execute_input": "2022-08-12T15:09:19.829616Z",
     "iopub.status.busy": "2022-08-12T15:09:19.829394Z",
     "iopub.status.idle": "2022-08-12T15:09:19.835531Z",
     "shell.execute_reply": "2022-08-12T15:09:19.834767Z"
    }
   },
   "outputs": [
    {
     "name": "stdout",
     "output_type": "stream",
     "text": [
      "Model: Gaussian1D\n",
      "Inputs: ('x',)\n",
      "Outputs: ('y',)\n",
      "Model set size: 1\n",
      "Parameters:\n",
      "        amplitude             mean             stddev     \n",
      "    ------------------ ----------------- -----------------\n",
      "    16.750706286489784 9456.749529382625 2368.395705667002\n"
     ]
    }
   ],
   "source": [
    "print(gaussian_fit)"
   ]
  },
  {
   "cell_type": "markdown",
   "metadata": {},
   "source": [
    "## Exercise \n",
    "\n",
    "Go back to the previous plot and try to make the fit work. Note: **Do not spend more than 10 minutes** in this exercise. A couple of ideas to try: \n",
    "* Is it not working because of the model we chose to fit? You can find more models to use [here](http://docs.astropy.org/en/stable/modeling/#module-astropy.modeling.functional_models).\n",
    "* Is it not working because of the fitter we chose?\n",
    "* Is it not working because of the range of data we are fitting? \n",
    "* Is it not working because how we are plotting the data? "
   ]
  },
  {
   "cell_type": "markdown",
   "metadata": {},
   "source": [
    "# Compound models"
   ]
  },
  {
   "cell_type": "markdown",
   "metadata": {},
   "source": [
    "One model is not enough to make this fit work. We need to combine a couple of models to make a [compound model](http://docs.astropy.org/en/stable/modeling/#compound-models) in `astropy`. The idea is that we can add, divide or multiply models that already exist in [astropy.modeling](http://docs.astropy.org/en/stable/modeling/#models-and-fitting-astropy-modeling) and fit the compound model to our data.\n",
    "\n",
    "For our problem we are going to combine the gaussian with a polynomial of degree 1 to account for the background spectrum close to the $H\\alpha$ line. Take a look at the plot we made before to convince yourself that this is the case.\n",
    "\n",
    "Now let's make our compound model!"
   ]
  },
  {
   "cell_type": "code",
   "execution_count": 12,
   "metadata": {
    "execution": {
     "iopub.execute_input": "2022-08-12T15:09:19.838620Z",
     "iopub.status.busy": "2022-08-12T15:09:19.838410Z",
     "iopub.status.idle": "2022-08-12T15:09:19.842201Z",
     "shell.execute_reply": "2022-08-12T15:09:19.841566Z"
    }
   },
   "outputs": [],
   "source": [
    "compound_model = models.Gaussian1D(1, 6563, 10) + models.Polynomial1D(degree=1)"
   ]
  },
  {
   "cell_type": "markdown",
   "metadata": {},
   "source": [
    "After this point, we fit the data in exactly the same way as before, except we use a compound model instead of the gaussian model."
   ]
  },
  {
   "cell_type": "code",
   "execution_count": 13,
   "metadata": {
    "execution": {
     "iopub.execute_input": "2022-08-12T15:09:19.844912Z",
     "iopub.status.busy": "2022-08-12T15:09:19.844702Z",
     "iopub.status.idle": "2022-08-12T15:09:19.868331Z",
     "shell.execute_reply": "2022-08-12T15:09:19.867733Z"
    }
   },
   "outputs": [],
   "source": [
    "fitter = fitting.LevMarLSQFitter()\n",
    "compound_fit = fitter(compound_model, lam, flux)"
   ]
  },
  {
   "cell_type": "code",
   "execution_count": 14,
   "metadata": {
    "execution": {
     "iopub.execute_input": "2022-08-12T15:09:19.871277Z",
     "iopub.status.busy": "2022-08-12T15:09:19.871049Z",
     "iopub.status.idle": "2022-08-12T15:09:19.978838Z",
     "shell.execute_reply": "2022-08-12T15:09:19.978278Z"
    }
   },
   "outputs": [
    {
     "data": {
      "image/png": "[encoded data removed]",
      "text/plain": [
       "<Figure size 576x360 with 1 Axes>"
      ]
     },
     "metadata": {
      "needs_background": "light"
     },
     "output_type": "display_data"
    }
   ],
   "source": [
    "plt.figure(figsize=(8,5))\n",
    "plt.plot(lam, flux, color='k')\n",
    "plt.plot(lam, compound_fit(lam), color='darkorange')\n",
    "plt.xlim(6300,6700)\n",
    "plt.xlabel('Wavelength (Angstroms)')\n",
    "plt.ylabel('Flux ({})'.format(units_flux))\n",
    "plt.show()"
   ]
  },
  {
   "cell_type": "markdown",
   "metadata": {},
   "source": [
    "It works! Let's take a look to the fit we just made. "
   ]
  },
  {
   "cell_type": "code",
   "execution_count": 15,
   "metadata": {
    "execution": {
     "iopub.execute_input": "2022-08-12T15:09:19.981850Z",
     "iopub.status.busy": "2022-08-12T15:09:19.981431Z",
     "iopub.status.idle": "2022-08-12T15:09:19.986486Z",
     "shell.execute_reply": "2022-08-12T15:09:19.985862Z"
    }
   },
   "outputs": [
    {
     "name": "stdout",
     "output_type": "stream",
     "text": [
      "Model: CompoundModel\n",
      "Inputs: ('x',)\n",
      "Outputs: ('y',)\n",
      "Model set size: 1\n",
      "Expression: [0] + [1]\n",
      "Components: \n",
      "    [0]: <Gaussian1D(amplitude=7.02089174, mean=6564.13631715, stddev=1.97761475)>\n",
      "\n",
      "    [1]: <Polynomial1D(1, c0=-12.79335619, c1=0.00323995)>\n",
      "Parameters:\n",
      "      amplitude_0          mean_0      ...         c0_1                c1_1        \n",
      "    ---------------- ----------------- ... ------------------- --------------------\n",
      "    7.02089174399097 6564.136317149307 ... -12.793356186324056 0.003239952053201843\n"
     ]
    }
   ],
   "source": [
    "print(compound_fit)"
   ]
  },
  {
   "cell_type": "markdown",
   "metadata": {},
   "source": [
    "Let's print all the parameters in a fancy way:"
   ]
  },
  {
   "cell_type": "code",
   "execution_count": 16,
   "metadata": {
    "execution": {
     "iopub.execute_input": "2022-08-12T15:09:19.989222Z",
     "iopub.status.busy": "2022-08-12T15:09:19.989008Z",
     "iopub.status.idle": "2022-08-12T15:09:19.992575Z",
     "shell.execute_reply": "2022-08-12T15:09:19.992042Z"
    }
   },
   "outputs": [
    {
     "name": "stdout",
     "output_type": "stream",
     "text": [
      "amplitude_0 7.02089174399097\n",
      "mean_0 6564.136317149307\n",
      "stddev_0 1.9776147549590108\n",
      "c0_1 -12.793356186324056\n",
      "c1_1 0.003239952053201843\n"
     ]
    }
   ],
   "source": [
    "for x,y in zip(compound_fit.param_names, compound_fit.parameters):\n",
    "    print(x,y)"
   ]
  },
  {
   "cell_type": "markdown",
   "metadata": {},
   "source": [
    "We can see that the result includes all the fit parameters from the gaussian (mean, std and amplitude) and the two coefficients from the polynomial of degree 1. So now if we want to see just the amplitude:"
   ]
  },
  {
   "cell_type": "code",
   "execution_count": 17,
   "metadata": {
    "execution": {
     "iopub.execute_input": "2022-08-12T15:09:19.995457Z",
     "iopub.status.busy": "2022-08-12T15:09:19.995246Z",
     "iopub.status.idle": "2022-08-12T15:09:19.999111Z",
     "shell.execute_reply": "2022-08-12T15:09:19.998506Z"
    }
   },
   "outputs": [
    {
     "data": {
      "text/plain": [
       "Parameter('amplitude', value=7.02089174399097)"
      ]
     },
     "execution_count": 17,
     "metadata": {},
     "output_type": "execute_result"
    }
   ],
   "source": [
    "compound_fit.amplitude_0"
   ]
  },
  {
   "cell_type": "markdown",
   "metadata": {},
   "source": [
    "**Conclusions:** What was the difference between the first simple Gaussian and the compound model? The linear model that we added up to the gaussian model allowed the base of the Gaussian fit to have a slope and a background level. Normal Gaussians go to zero at $\\pm \\inf$; this one doesn't. "
   ]
  },
  {
   "cell_type": "markdown",
   "metadata": {},
   "source": [
    "### Fixed or bounded model parameters\n",
    "The mean value of the gaussian from our previous model indicates where the $H\\alpha$ line is. In our fit result, we can tell that it is a little off from $6563$ Angstroms. One way to fix this is to fix some of the parameters of the model. In `astropy.modeling` these are called **[fixed parameters](http://docs.astropy.org/en/stable/api/astropy.modeling.Parameter.html#astropy.modeling.Parameter.fixed)**."
   ]
  },
  {
   "cell_type": "code",
   "execution_count": 18,
   "metadata": {
    "execution": {
     "iopub.execute_input": "2022-08-12T15:09:20.001804Z",
     "iopub.status.busy": "2022-08-12T15:09:20.001598Z",
     "iopub.status.idle": "2022-08-12T15:09:20.005470Z",
     "shell.execute_reply": "2022-08-12T15:09:20.004832Z"
    }
   },
   "outputs": [],
   "source": [
    "compound_model_fixed = models.Gaussian1D(1, 6563, 10) + models.Polynomial1D(degree=1)\n",
    "compound_model_fixed.mean_0.fixed = True"
   ]
  },
  {
   "cell_type": "markdown",
   "metadata": {},
   "source": [
    "Now let's use this new model with a fixed parameter to fit the data the same way we did before."
   ]
  },
  {
   "cell_type": "code",
   "execution_count": 19,
   "metadata": {
    "execution": {
     "iopub.execute_input": "2022-08-12T15:09:20.008111Z",
     "iopub.status.busy": "2022-08-12T15:09:20.007900Z",
     "iopub.status.idle": "2022-08-12T15:09:20.029405Z",
     "shell.execute_reply": "2022-08-12T15:09:20.028805Z"
    }
   },
   "outputs": [],
   "source": [
    "fitter = fitting.LevMarLSQFitter()\n",
    "compound_fit_fixed = fitter(compound_model_fixed, lam, flux)"
   ]
  },
  {
   "cell_type": "code",
   "execution_count": 20,
   "metadata": {
    "execution": {
     "iopub.execute_input": "2022-08-12T15:09:20.032185Z",
     "iopub.status.busy": "2022-08-12T15:09:20.031789Z",
     "iopub.status.idle": "2022-08-12T15:09:20.144122Z",
     "shell.execute_reply": "2022-08-12T15:09:20.143486Z"
    }
   },
   "outputs": [
    {
     "data": {
      "image/png": "[encoded data removed]",
      "text/plain": [
       "<Figure size 576x360 with 1 Axes>"
      ]
     },
     "metadata": {
      "needs_background": "light"
     },
     "output_type": "display_data"
    }
   ],
   "source": [
    "plt.figure(figsize=(8,5))\n",
    "plt.plot(lam, flux, color='k')\n",
    "plt.plot(lam, compound_fit_fixed(lam), color='darkorange')\n",
    "plt.xlim(6300,6700)\n",
    "plt.xlabel('Wavelength (Angstroms)')\n",
    "plt.ylabel('Flux ({})'.format(units_flux))\n",
    "plt.show()"
   ]
  },
  {
   "cell_type": "code",
   "execution_count": 21,
   "metadata": {
    "execution": {
     "iopub.execute_input": "2022-08-12T15:09:20.148516Z",
     "iopub.status.busy": "2022-08-12T15:09:20.147280Z",
     "iopub.status.idle": "2022-08-12T15:09:20.154486Z",
     "shell.execute_reply": "2022-08-12T15:09:20.153856Z"
    }
   },
   "outputs": [
    {
     "name": "stdout",
     "output_type": "stream",
     "text": [
      "Model: CompoundModel\n",
      "Inputs: ('x',)\n",
      "Outputs: ('y',)\n",
      "Model set size: 1\n",
      "Expression: [0] + [1]\n",
      "Components: \n",
      "    [0]: <Gaussian1D(amplitude=1.53257471, mean=6563., stddev=28.57847527)>\n",
      "\n",
      "    [1]: <Polynomial1D(1, c0=-12.79103, c1=0.00323745)>\n",
      "Parameters:\n",
      "       amplitude_0     mean_0 ...         c0_1                 c1_1        \n",
      "    ------------------ ------ ... ------------------- ---------------------\n",
      "    1.5325747099688163 6563.0 ... -12.791030003382556 0.0032374486282497287\n"
     ]
    }
   ],
   "source": [
    "print(compound_fit_fixed)"
   ]
  },
  {
   "cell_type": "markdown",
   "metadata": {},
   "source": [
    "We can see in the plot that the height of the fit does not match the $H\\alpha$ line height. What happend here is that we were too strict with the mean value, so we did not get a good fit. But the mean value is where we want it! Let's loosen this condition a little. Another thing we can do is to define a [**minimum and maximum value**](http://docs.astropy.org/en/stable/api/astropy.modeling.Parameter.html#astropy.modeling.Parameter.max) for the mean."
   ]
  },
  {
   "cell_type": "code",
   "execution_count": 22,
   "metadata": {
    "execution": {
     "iopub.execute_input": "2022-08-12T15:09:20.157342Z",
     "iopub.status.busy": "2022-08-12T15:09:20.157108Z",
     "iopub.status.idle": "2022-08-12T15:09:20.180381Z",
     "shell.execute_reply": "2022-08-12T15:09:20.179733Z"
    }
   },
   "outputs": [],
   "source": [
    "compound_model_bounded = models.Gaussian1D(1, 6563, 10) + models.Polynomial1D(degree=1)\n",
    "delta = 0.5\n",
    "compound_model_bounded.mean_0.max = 6563 + delta\n",
    "compound_model_bounded.mean_0.min = 6563 - delta\n",
    "\n",
    "fitter = fitting.LevMarLSQFitter()\n",
    "compound_fit_bounded = fitter(compound_model_bounded, lam, flux)"
   ]
  },
  {
   "cell_type": "code",
   "execution_count": 23,
   "metadata": {
    "execution": {
     "iopub.execute_input": "2022-08-12T15:09:20.183499Z",
     "iopub.status.busy": "2022-08-12T15:09:20.183270Z",
     "iopub.status.idle": "2022-08-12T15:09:20.318865Z",
     "shell.execute_reply": "2022-08-12T15:09:20.318311Z"
    }
   },
   "outputs": [
    {
     "data": {
      "image/png": "[encoded data removed]",
      "text/plain": [
       "<Figure size 576x360 with 1 Axes>"
      ]
     },
     "metadata": {
      "needs_background": "light"
     },
     "output_type": "display_data"
    }
   ],
   "source": [
    "plt.figure(figsize=(8,5))\n",
    "plt.plot(lam, flux, color='k')\n",
    "plt.plot(lam, compound_fit_bounded(lam), color='darkorange')\n",
    "plt.xlim(6300,6700)\n",
    "plt.xlabel('Wavelength (Angstroms)')\n",
    "plt.ylabel('Flux ({})'.format(units_flux))\n",
    "plt.show()"
   ]
  },
  {
   "cell_type": "code",
   "execution_count": 24,
   "metadata": {
    "execution": {
     "iopub.execute_input": "2022-08-12T15:09:20.322017Z",
     "iopub.status.busy": "2022-08-12T15:09:20.321570Z",
     "iopub.status.idle": "2022-08-12T15:09:20.326628Z",
     "shell.execute_reply": "2022-08-12T15:09:20.326140Z"
    }
   },
   "outputs": [
    {
     "name": "stdout",
     "output_type": "stream",
     "text": [
      "Model: CompoundModel\n",
      "Inputs: ('x',)\n",
      "Outputs: ('y',)\n",
      "Model set size: 1\n",
      "Expression: [0] + [1]\n",
      "Components: \n",
      "    [0]: <Gaussian1D(amplitude=6.65730507, mean=6563.5, stddev=2.09182676)>\n",
      "\n",
      "    [1]: <Polynomial1D(1, c0=-12.79336254, c1=0.00323995)>\n",
      "Parameters:\n",
      "       amplitude_0    mean_0 ...         c0_1                 c1_1        \n",
      "    ----------------- ------ ... ------------------- ---------------------\n",
      "    6.657305067137901 6563.5 ... -12.793362542827749 0.0032399500254038627\n"
     ]
    }
   ],
   "source": [
    "print(compound_fit_bounded)"
   ]
  },
  {
   "cell_type": "markdown",
   "metadata": {},
   "source": [
    "Better! By loosening the condition we added to the mean value, we got a better fit and the mean of the gaussian is closer to where we want it."
   ]
  },
  {
   "cell_type": "markdown",
   "metadata": {},
   "source": [
    "## Exercise\n",
    "Modify the value of delta to change the minimum and maximum values for the mean of the gaussian. Look for:\n",
    "* The better delta so the mean is closer to the real value of the $H\\alpha$ line.\n",
    "* What is the minimum delta for which the fit is still good according to the plot?"
   ]
  },
  {
   "cell_type": "markdown",
   "metadata": {},
   "source": [
    "# Custom model"
   ]
  },
  {
   "cell_type": "markdown",
   "metadata": {},
   "source": [
    "What should you do if you need a model that `astropy.modeling` doesn't provide? To solve that problem, Astropy has another tool called [custom model](http://docs.astropy.org/en/stable/modeling/new.html). Using this tool, we can create any model we want. \n",
    "\n",
    "We will describe two ways to create a custom model: \n",
    "* [basic](http://docs.astropy.org/en/stable/modeling/new.html#basic-custom-models)  \n",
    "* [full](http://docs.astropy.org/en/stable/modeling/new.html#a-step-by-step-definition-of-a-1-d-gaussian-model)\n",
    "\n",
    "We use the basic custom model when we need a simple function to fit and the full custom model when we need a more complex function. Let's use an example to understand each one of the custom models."
   ]
  },
  {
   "cell_type": "markdown",
   "metadata": {},
   "source": [
    "## Basic custom model"
   ]
  },
  {
   "cell_type": "markdown",
   "metadata": {},
   "source": [
    "An **Exponential Model** is not provided by Astropy models. Let's see one example of basic custom model for this case. First, let's simulate a dataset that follows an exponential:"
   ]
  },
  {
   "cell_type": "code",
   "execution_count": 25,
   "metadata": {
    "execution": {
     "iopub.execute_input": "2022-08-12T15:09:20.329863Z",
     "iopub.status.busy": "2022-08-12T15:09:20.329446Z",
     "iopub.status.idle": "2022-08-12T15:09:20.333828Z",
     "shell.execute_reply": "2022-08-12T15:09:20.333178Z"
    }
   },
   "outputs": [],
   "source": [
    "x1 = np.linspace(0,10,100)\n",
    "\n",
    "a = 3\n",
    "b = -2\n",
    "c = 0\n",
    "y1 = a*np.exp(b*x1+c)\n",
    "y1 += np.random.normal(0., 0.2, x1.shape)\n",
    "y1_err = np.ones(x1.shape)*0.2"
   ]
  },
  {
   "cell_type": "code",
   "execution_count": 26,
   "metadata": {
    "execution": {
     "iopub.execute_input": "2022-08-12T15:09:20.336634Z",
     "iopub.status.busy": "2022-08-12T15:09:20.336091Z",
     "iopub.status.idle": "2022-08-12T15:09:20.428315Z",
     "shell.execute_reply": "2022-08-12T15:09:20.427763Z"
    }
   },
   "outputs": [
    {
     "data": {
      "image/png": "[encoded data removed]",
      "text/plain": [
       "<Figure size 432x288 with 1 Axes>"
      ]
     },
     "metadata": {
      "needs_background": "light"
     },
     "output_type": "display_data"
    }
   ],
   "source": [
    "plt.errorbar(x1 , y1, yerr=y1_err, fmt='.')\n",
    "plt.show()"
   ]
  },
  {
   "cell_type": "markdown",
   "metadata": {},
   "source": [
    "We can define a simple custom model by specifying which parameters we want to fit."
   ]
  },
  {
   "cell_type": "code",
   "execution_count": 27,
   "metadata": {
    "execution": {
     "iopub.execute_input": "2022-08-12T15:09:20.432465Z",
     "iopub.status.busy": "2022-08-12T15:09:20.431413Z",
     "iopub.status.idle": "2022-08-12T15:09:20.437049Z",
     "shell.execute_reply": "2022-08-12T15:09:20.436544Z"
    }
   },
   "outputs": [],
   "source": [
    "@custom_model\n",
    "def exponential(x, a=1., b=1., c=1.):\n",
    "    '''\n",
    "    f(x)=a*exp(b*x + c)\n",
    "    '''\n",
    "    return a*np.exp(b*x+c)"
   ]
  },
  {
   "cell_type": "markdown",
   "metadata": {},
   "source": [
    "Now we have one more available model to use in the same way we fit data with `astropy.modeling`. "
   ]
  },
  {
   "cell_type": "code",
   "execution_count": 28,
   "metadata": {
    "execution": {
     "iopub.execute_input": "2022-08-12T15:09:20.441143Z",
     "iopub.status.busy": "2022-08-12T15:09:20.440092Z",
     "iopub.status.idle": "2022-08-12T15:09:20.450264Z",
     "shell.execute_reply": "2022-08-12T15:09:20.449751Z"
    }
   },
   "outputs": [],
   "source": [
    "exp_model = exponential(1.,-1.,1.)  \n",
    "fitter = fitting.LevMarLSQFitter()\n",
    "exp_fit = fitter(exp_model, x1, y1, weights = 1.0/y1_err**2)"
   ]
  },
  {
   "cell_type": "code",
   "execution_count": 29,
   "metadata": {
    "execution": {
     "iopub.execute_input": "2022-08-12T15:09:20.453580Z",
     "iopub.status.busy": "2022-08-12T15:09:20.453019Z",
     "iopub.status.idle": "2022-08-12T15:09:20.546791Z",
     "shell.execute_reply": "2022-08-12T15:09:20.546254Z"
    }
   },
   "outputs": [
    {
     "data": {
      "image/png": "[encoded data removed]",
      "text/plain": [
       "<Figure size 432x288 with 1 Axes>"
      ]
     },
     "metadata": {
      "needs_background": "light"
     },
     "output_type": "display_data"
    }
   ],
   "source": [
    "plt.errorbar(x1 , y1, yerr=y1_err, fmt='.')\n",
    "plt.plot(x1, exp_fit(x1))\n",
    "plt.show()"
   ]
  },
  {
   "cell_type": "code",
   "execution_count": 30,
   "metadata": {
    "execution": {
     "iopub.execute_input": "2022-08-12T15:09:20.549660Z",
     "iopub.status.busy": "2022-08-12T15:09:20.549235Z",
     "iopub.status.idle": "2022-08-12T15:09:20.553309Z",
     "shell.execute_reply": "2022-08-12T15:09:20.552809Z"
    }
   },
   "outputs": [
    {
     "name": "stdout",
     "output_type": "stream",
     "text": [
      "Model: exponential\n",
      "Inputs: ('x',)\n",
      "Outputs: ('y',)\n",
      "Model set size: 1\n",
      "Parameters:\n",
      "            a                  b                   c         \n",
      "    ----------------- ------------------- -------------------\n",
      "    2.058480511338793 -2.0067460390744563 0.36394987715686455\n"
     ]
    }
   ],
   "source": [
    "print(exp_fit)"
   ]
  },
  {
   "cell_type": "markdown",
   "metadata": {},
   "source": [
    "The fit looks good in the plot. Let's check the parameters and the Reduced Chi Square value, which will give us information about the goodness of the fit."
   ]
  },
  {
   "cell_type": "code",
   "execution_count": 31,
   "metadata": {
    "execution": {
     "iopub.execute_input": "2022-08-12T15:09:20.556062Z",
     "iopub.status.busy": "2022-08-12T15:09:20.555674Z",
     "iopub.status.idle": "2022-08-12T15:09:20.559123Z",
     "shell.execute_reply": "2022-08-12T15:09:20.558628Z"
    }
   },
   "outputs": [],
   "source": [
    "def calc_reduced_chi_square(fit, x, y, yerr, N, n_free):\n",
    "    '''\n",
    "    fit (array) values for the fit\n",
    "    x,y,yerr (arrays) data\n",
    "    N total number of points\n",
    "    n_free number of parameters we are fitting\n",
    "    '''\n",
    "    return 1.0/(N-n_free)*sum(((fit - y)/yerr)**2)"
   ]
  },
  {
   "cell_type": "code",
   "execution_count": 32,
   "metadata": {
    "execution": {
     "iopub.execute_input": "2022-08-12T15:09:20.561719Z",
     "iopub.status.busy": "2022-08-12T15:09:20.561312Z",
     "iopub.status.idle": "2022-08-12T15:09:20.565748Z",
     "shell.execute_reply": "2022-08-12T15:09:20.565264Z"
    }
   },
   "outputs": [
    {
     "data": {
      "text/plain": [
       "1.1299955466318024"
      ]
     },
     "execution_count": 32,
     "metadata": {},
     "output_type": "execute_result"
    }
   ],
   "source": [
    "calc_reduced_chi_square(exp_fit(x1), x1, y1, y1_err, len(x1), 3)"
   ]
  },
  {
   "cell_type": "markdown",
   "metadata": {},
   "source": [
    "The Reduced Chi Square value is close to 1. Great! This means our fit is good, and we can corroborate it by comparing the values we got for the parameters and the ones we used to simulate the data.\n",
    "\n",
    "**Note:** Fits of non-linear parameters (like in our example) are extremely dependent on initial conditions. Pay attention to the initial conditions you select."
   ]
  },
  {
   "cell_type": "markdown",
   "metadata": {},
   "source": [
    "## Exercise\n",
    "Modify the initial conditions of the fit and check yourself the relation between the best fit parameters and the initial conditions for the previous example. You can check it by looking at the Reduced Chi Square value: if it gets closer to 1 the fit is better and vice versa. To compare the quality of the fits you can take note of the Reduced Chi Square value you get for each initial condition."
   ]
  },
  {
   "cell_type": "markdown",
   "metadata": {},
   "source": [
    "## Full custom model"
   ]
  },
  {
   "cell_type": "markdown",
   "metadata": {},
   "source": [
    "What if we want to use a model from `astropy.modeling`, but with a different set of parameters? One example is the [Sine Model](http://docs.astropy.org/en/stable/api/astropy.modeling.functional_models.Sine1D.html#astropy.modeling.functional_models.Sine1D). It has a very particular definition of the frequency and phase. Let's define a new Sine function with a full custom model. Again, first let's create a simulated dataset."
   ]
  },
  {
   "cell_type": "code",
   "execution_count": 33,
   "metadata": {
    "execution": {
     "iopub.execute_input": "2022-08-12T15:09:20.568502Z",
     "iopub.status.busy": "2022-08-12T15:09:20.568296Z",
     "iopub.status.idle": "2022-08-12T15:09:20.572414Z",
     "shell.execute_reply": "2022-08-12T15:09:20.571805Z"
    }
   },
   "outputs": [],
   "source": [
    "x2 = np.linspace(0,10,100)\n",
    "a = 3\n",
    "b = 2\n",
    "c = 4\n",
    "d = 1\n",
    "y2 = a*np.sin(b*x2+c)+d\n",
    "y2 += np.random.normal(0., 0.5, x2.shape)\n",
    "y2_err = np.ones(x2.shape)*0.3"
   ]
  },
  {
   "cell_type": "code",
   "execution_count": 34,
   "metadata": {
    "execution": {
     "iopub.execute_input": "2022-08-12T15:09:20.575024Z",
     "iopub.status.busy": "2022-08-12T15:09:20.574815Z",
     "iopub.status.idle": "2022-08-12T15:09:20.668319Z",
     "shell.execute_reply": "2022-08-12T15:09:20.667779Z"
    }
   },
   "outputs": [
    {
     "data": {
      "image/png": "[encoded data removed]",
      "text/plain": [
       "<Figure size 432x288 with 1 Axes>"
      ]
     },
     "metadata": {
      "needs_background": "light"
     },
     "output_type": "display_data"
    }
   ],
   "source": [
    "plt.errorbar(x2, y2, yerr=y2_err, fmt='.')\n",
    "plt.show()"
   ]
  },
  {
   "cell_type": "markdown",
   "metadata": {},
   "source": [
    "For the full custom model we can easily set the **derivative of the function**, which is used by different [fitters](http://docs.astropy.org/en/stable/modeling/#id21), for example the `LevMarLSQFitter()`."
   ]
  },
  {
   "cell_type": "code",
   "execution_count": 35,
   "metadata": {
    "execution": {
     "iopub.execute_input": "2022-08-12T15:09:20.671136Z",
     "iopub.status.busy": "2022-08-12T15:09:20.670912Z",
     "iopub.status.idle": "2022-08-12T15:09:20.677556Z",
     "shell.execute_reply": "2022-08-12T15:09:20.677037Z"
    }
   },
   "outputs": [],
   "source": [
    "class SineNew(Fittable1DModel):\n",
    "    a = Parameter(default=1.)\n",
    "    b = Parameter(default=1.)\n",
    "    c = Parameter(default=1.)\n",
    "    d = Parameter(default=1.)\n",
    "        \n",
    "    @staticmethod\n",
    "    def evaluate(x, a, b, c, d):\n",
    "        return a*np.sin(b*x+c)+d\n",
    "    \n",
    "    @staticmethod\n",
    "    def fit_deriv(x, a, b, c, d):\n",
    "        d_a = np.sin(b*x+c)+d\n",
    "        d_b = a*np.cos(b*x+c)*x\n",
    "        d_c = a*np.sin(b*x+c)\n",
    "        d_d = np.ones(x.shape)\n",
    "        return [d_a, d_b, d_c, d_d]"
   ]
  },
  {
   "cell_type": "markdown",
   "metadata": {},
   "source": [
    "**Note** Defining default values for the fit parameters allows to define a model as `model=SineNew()`\n",
    "\n",
    "We are going to fit the data with our **new model**. Once more, the fit is very **sensitive to the initial conditions** due to the non-linearity of the parameters."
   ]
  },
  {
   "cell_type": "code",
   "execution_count": 36,
   "metadata": {
    "execution": {
     "iopub.execute_input": "2022-08-12T15:09:20.681728Z",
     "iopub.status.busy": "2022-08-12T15:09:20.680457Z",
     "iopub.status.idle": "2022-08-12T15:09:20.691870Z",
     "shell.execute_reply": "2022-08-12T15:09:20.691248Z"
    }
   },
   "outputs": [],
   "source": [
    "sine_model = SineNew(a=4.,b=2.,c=4.,d=0.)  \n",
    "fitter = fitting.LevMarLSQFitter()\n",
    "sine_fit = fitter(sine_model, x2, y2, weights = 1.0/y2_err**2)"
   ]
  },
  {
   "cell_type": "code",
   "execution_count": 37,
   "metadata": {
    "execution": {
     "iopub.execute_input": "2022-08-12T15:09:20.694901Z",
     "iopub.status.busy": "2022-08-12T15:09:20.694562Z",
     "iopub.status.idle": "2022-08-12T15:09:20.793758Z",
     "shell.execute_reply": "2022-08-12T15:09:20.793096Z"
    }
   },
   "outputs": [
    {
     "data": {
      "image/png": "[encoded data removed]",
      "text/plain": [
       "<Figure size 432x288 with 1 Axes>"
      ]
     },
     "metadata": {
      "needs_background": "light"
     },
     "output_type": "display_data"
    }
   ],
   "source": [
    "plt.errorbar(x2, y2, yerr=y2_err, fmt='.')\n",
    "plt.plot(x2,sine_fit(x2))\n",
    "plt.show()"
   ]
  },
  {
   "cell_type": "code",
   "execution_count": 38,
   "metadata": {
    "execution": {
     "iopub.execute_input": "2022-08-12T15:09:20.798292Z",
     "iopub.status.busy": "2022-08-12T15:09:20.797016Z",
     "iopub.status.idle": "2022-08-12T15:09:20.803712Z",
     "shell.execute_reply": "2022-08-12T15:09:20.803205Z"
    }
   },
   "outputs": [
    {
     "name": "stdout",
     "output_type": "stream",
     "text": [
      "Model: SineNew\n",
      "Inputs: ('x',)\n",
      "Outputs: ('y',)\n",
      "Model set size: 1\n",
      "Parameters:\n",
      "            a                  b                  c                 d        \n",
      "    ------------------ ------------------ ----------------- -----------------\n",
      "    3.3886814201963067 2.0120627884708524 3.765588717256639 0.944300225391593\n"
     ]
    }
   ],
   "source": [
    "print(sine_fit)"
   ]
  },
  {
   "cell_type": "code",
   "execution_count": 39,
   "metadata": {
    "execution": {
     "iopub.execute_input": "2022-08-12T15:09:20.807134Z",
     "iopub.status.busy": "2022-08-12T15:09:20.806669Z",
     "iopub.status.idle": "2022-08-12T15:09:20.813820Z",
     "shell.execute_reply": "2022-08-12T15:09:20.813268Z"
    }
   },
   "outputs": [
    {
     "data": {
      "text/plain": [
       "4.920430548225116"
      ]
     },
     "execution_count": 39,
     "metadata": {},
     "output_type": "execute_result"
    }
   ],
   "source": [
    "calc_reduced_chi_square(sine_fit(x2), x2, y2, y2_err, len(x2), 3)"
   ]
  },
  {
   "cell_type": "markdown",
   "metadata": {},
   "source": [
    "The Reduced Chi Squared value is showing the same as the plot: this fit could be improved. The Reduced Chi Squared is not close to 1 and the fit is off by small phase."
   ]
  },
  {
   "cell_type": "markdown",
   "metadata": {},
   "source": [
    "## Exercise\n",
    "Play with the initial values for the last fit and improve the Reduced Chi Squared value. \n",
    "\n",
    "**Note:** A fancy way of doing this would be to code a function which iterates over different initial conditions, optimizing the Reduced Chi Squared value. No need to do it here, but feel free to try."
   ]
  },
  {
   "cell_type": "markdown",
   "metadata": {},
   "source": [
    "## Exercise\n",
    "\n",
    "Custom models are also useful when we want to fit an **unusual function** to our data. As an example, create a full custom model to fit the following data."
   ]
  },
  {
   "cell_type": "code",
   "execution_count": 40,
   "metadata": {
    "execution": {
     "iopub.execute_input": "2022-08-12T15:09:20.817839Z",
     "iopub.status.busy": "2022-08-12T15:09:20.817507Z",
     "iopub.status.idle": "2022-08-12T15:09:20.822641Z",
     "shell.execute_reply": "2022-08-12T15:09:20.822005Z"
    }
   },
   "outputs": [],
   "source": [
    "x3 = np.linspace(-2,3,100)\n",
    "y3 = x3**2* np.exp(-0.5 * (x3)**3 / 2**2)\n",
    "y3 += np.random.normal(0., 0.5, x3.shape)\n",
    "y3_err = np.ones(x3.shape)*0.5"
   ]
  },
  {
   "cell_type": "code",
   "execution_count": 41,
   "metadata": {
    "execution": {
     "iopub.execute_input": "2022-08-12T15:09:20.825171Z",
     "iopub.status.busy": "2022-08-12T15:09:20.824952Z",
     "iopub.status.idle": "2022-08-12T15:09:20.914145Z",
     "shell.execute_reply": "2022-08-12T15:09:20.913590Z"
    }
   },
   "outputs": [
    {
     "data": {
      "image/png": "[encoded data removed]",
      "text/plain": [
       "<Figure size 432x288 with 1 Axes>"
      ]
     },
     "metadata": {
      "needs_background": "light"
     },
     "output_type": "display_data"
    }
   ],
   "source": [
    "plt.errorbar(x3,y3,yerr=y3_err,fmt='.')\n",
    "plt.show()"
   ]
  },
  {
   "cell_type": "code",
   "execution_count": null,
   "metadata": {},
   "outputs": [],
   "source": []
  }
 ],
 "metadata": {
  "language_info": {
   "codemirror_mode": {
    "name": "ipython",
    "version": 3
   },
   "file_extension": ".py",
   "mimetype": "text/x-python",
   "name": "python",
   "nbconvert_exporter": "python",
   "pygments_lexer": "ipython3",
   "version": "3.9.13"
  }
 },
 "nbformat": 4,
 "nbformat_minor": 4
}
